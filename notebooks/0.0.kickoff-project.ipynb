{
 "cells": [
  {
   "cell_type": "markdown",
   "id": "92525660",
   "metadata": {
    "ExecuteTime": {
     "end_time": "2023-01-25T23:12:58.072519Z",
     "start_time": "2023-01-25T23:12:54.813859Z"
    },
    "heading_collapsed": true
   },
   "source": [
    "# Business Problem"
   ]
  },
  {
   "cell_type": "raw",
   "id": "7fc6ff6b",
   "metadata": {
    "hidden": true
   },
   "source": [
    "-- Objetivo do Problema:\n",
    "    -- **1.0.** Previsao do primeiro destino que um novo usuario ira escolher.\n",
    "        -- Por que?\n",
    "            -- Qual tipo de modelo de negocio da AirBnb?\n",
    "                -- Marketplace (conectar pessoas que oferecem acomodacao, com pessoas que estao procurando \n",
    "                acomodacao)\n",
    "                -- Oferta (pessoas oferecendo acomodacao)\n",
    "                    -- Tamanho do portfolio.\n",
    "                    -- Diversidade/densidade de portifolio.\n",
    "                    -- Preco medio.\n",
    "                -- Demanda (pessoas procurando acomodacao)\n",
    "                    -- Numero de usuarios.\n",
    "                    -- LTV - Life Time Value.\n",
    "                    -- CAC - Client Acquisition Cost\n",
    "                    \n",
    "            **Revenue = (Fee*Num de clientes) - CAC**\n",
    "\n",
    "-- Proposta de solucao\n",
    "    -- Modelo de previsao de primeiro destino de um novo usuario.\n",
    "        -- a) Fazer predicoes e salvar em tabpela num banco de dados.\n",
    "        -- b) API\n",
    "            -- Input: usuario e suas caracteristicas\n",
    "            -- Output: usuario e suas caracteristicas com a predicao do destino"
   ]
  },
  {
   "cell_type": "markdown",
   "id": "68aae278",
   "metadata": {
    "ExecuteTime": {
     "end_time": "2023-01-25T23:12:58.072519Z",
     "start_time": "2023-01-25T23:12:54.813859Z"
    },
    "heading_collapsed": true
   },
   "source": [
    "# 0.0. Imports"
   ]
  },
  {
   "cell_type": "code",
   "execution_count": 109,
   "id": "3eca7ce0",
   "metadata": {
    "ExecuteTime": {
     "end_time": "2023-02-04T19:05:58.457423Z",
     "start_time": "2023-02-04T19:05:57.382883Z"
    },
    "hidden": true
   },
   "outputs": [],
   "source": [
    "import pandas as pd\n",
    "\n",
    "from keras      import layers          as l\n",
    "from keras      import models          as ml\n",
    "from sklearn    import metrics         as m\n",
    "from sklearn    import preprocessing   as pp\n",
    "from sklearn    import model_selection as ms\n",
    "from scikitplot import metrics         as mt"
   ]
  },
  {
   "cell_type": "markdown",
   "id": "070f7d46",
   "metadata": {
    "heading_collapsed": true,
    "hidden": true
   },
   "source": [
    "## 0.1. Helper Functions"
   ]
  },
  {
   "cell_type": "code",
   "execution_count": null,
   "id": "a9fb55c9",
   "metadata": {
    "hidden": true
   },
   "outputs": [],
   "source": []
  },
  {
   "cell_type": "markdown",
   "id": "f1c9e161",
   "metadata": {
    "heading_collapsed": true,
    "hidden": true
   },
   "source": [
    "## 0.2. Loading Data"
   ]
  },
  {
   "cell_type": "code",
   "execution_count": 22,
   "id": "3524916f",
   "metadata": {
    "ExecuteTime": {
     "end_time": "2023-02-04T18:12:19.654043Z",
     "start_time": "2023-02-04T18:12:19.071884Z"
    },
    "hidden": true
   },
   "outputs": [],
   "source": [
    "df_raw = pd.read_csv('datasets/data_raw/training_users.csv')\n",
    "# df_sessions = pd.read_csv('datasets/data_raw/sessions.csv')"
   ]
  },
  {
   "cell_type": "markdown",
   "id": "7382855d",
   "metadata": {
    "ExecuteTime": {
     "end_time": "2023-01-25T23:12:58.072519Z",
     "start_time": "2023-01-25T23:12:54.813859Z"
    },
    "heading_collapsed": true
   },
   "source": [
    "# 1.0. Data Description"
   ]
  },
  {
   "cell_type": "code",
   "execution_count": 23,
   "id": "13809c5c",
   "metadata": {
    "ExecuteTime": {
     "end_time": "2023-02-04T18:12:19.678506Z",
     "start_time": "2023-02-04T18:12:19.657506Z"
    },
    "hidden": true
   },
   "outputs": [],
   "source": [
    "df1 = df_raw.copy()"
   ]
  },
  {
   "cell_type": "markdown",
   "id": "8209ab0a",
   "metadata": {
    "heading_collapsed": true,
    "hidden": true
   },
   "source": [
    "## 1.1. Dataset Dimensions"
   ]
  },
  {
   "cell_type": "code",
   "execution_count": 24,
   "id": "a9485930",
   "metadata": {
    "ExecuteTime": {
     "end_time": "2023-02-04T18:12:19.788029Z",
     "start_time": "2023-02-04T18:12:19.683070Z"
    },
    "hidden": true
   },
   "outputs": [
    {
     "name": "stdout",
     "output_type": "stream",
     "text": [
      "Number of rows: 213451\n",
      "Number of columns: 16\n"
     ]
    }
   ],
   "source": [
    "print('Number of rows: {}'.format(df1.shape[0]))\n",
    "print('Number of columns: {}'.format(df1.shape[1]))"
   ]
  },
  {
   "cell_type": "markdown",
   "id": "4bcf9418",
   "metadata": {
    "heading_collapsed": true,
    "hidden": true
   },
   "source": [
    "## 1.2. Check NAs"
   ]
  },
  {
   "cell_type": "code",
   "execution_count": 25,
   "id": "dfd8b2a0",
   "metadata": {
    "ExecuteTime": {
     "end_time": "2023-02-04T18:12:20.348464Z",
     "start_time": "2023-02-04T18:12:19.791392Z"
    },
    "hidden": true
   },
   "outputs": [
    {
     "data": {
      "text/plain": [
       "id                              0\n",
       "date_account_created            0\n",
       "timestamp_first_active          0\n",
       "date_first_booking         124543\n",
       "gender                          0\n",
       "age                         87990\n",
       "signup_method                   0\n",
       "signup_flow                     0\n",
       "language                        0\n",
       "affiliate_channel               0\n",
       "affiliate_provider              0\n",
       "first_affiliate_tracked      6065\n",
       "signup_app                      0\n",
       "first_device_type               0\n",
       "first_browser                   0\n",
       "country_destination             0\n",
       "dtype: int64"
      ]
     },
     "execution_count": 25,
     "metadata": {},
     "output_type": "execute_result"
    }
   ],
   "source": [
    "df1.isna().sum()"
   ]
  },
  {
   "cell_type": "markdown",
   "id": "84d0c6c7",
   "metadata": {
    "hidden": true
   },
   "source": [
    "### 1.2.1. Replace NAs"
   ]
  },
  {
   "cell_type": "code",
   "execution_count": 26,
   "id": "70e32b97",
   "metadata": {
    "ExecuteTime": {
     "end_time": "2023-02-04T18:12:20.822149Z",
     "start_time": "2023-02-04T18:12:20.351784Z"
    },
    "hidden": true
   },
   "outputs": [],
   "source": [
    "# firts cycle, just drop all Nans\n",
    "df1 = df1.dropna()"
   ]
  },
  {
   "cell_type": "markdown",
   "id": "ece62541",
   "metadata": {
    "heading_collapsed": true,
    "hidden": true
   },
   "source": [
    "## 1.3. Check DTypes"
   ]
  },
  {
   "cell_type": "code",
   "execution_count": 27,
   "id": "79dec48e",
   "metadata": {
    "ExecuteTime": {
     "end_time": "2023-02-04T18:12:20.910416Z",
     "start_time": "2023-02-04T18:12:20.825407Z"
    },
    "hidden": true
   },
   "outputs": [
    {
     "data": {
      "text/plain": [
       "id                          object\n",
       "date_account_created        object\n",
       "timestamp_first_active       int64\n",
       "date_first_booking          object\n",
       "gender                      object\n",
       "age                        float64\n",
       "signup_method               object\n",
       "signup_flow                  int64\n",
       "language                    object\n",
       "affiliate_channel           object\n",
       "affiliate_provider          object\n",
       "first_affiliate_tracked     object\n",
       "signup_app                  object\n",
       "first_device_type           object\n",
       "first_browser               object\n",
       "country_destination         object\n",
       "dtype: object"
      ]
     },
     "execution_count": 27,
     "metadata": {},
     "output_type": "execute_result"
    }
   ],
   "source": [
    "df1.dtypes"
   ]
  },
  {
   "cell_type": "code",
   "execution_count": 28,
   "id": "b6ecb627",
   "metadata": {
    "ExecuteTime": {
     "end_time": "2023-02-04T18:12:21.037740Z",
     "start_time": "2023-02-04T18:12:20.913660Z"
    },
    "hidden": true
   },
   "outputs": [
    {
     "data": {
      "text/html": [
       "<div>\n",
       "<style scoped>\n",
       "    .dataframe tbody tr th:only-of-type {\n",
       "        vertical-align: middle;\n",
       "    }\n",
       "\n",
       "    .dataframe tbody tr th {\n",
       "        vertical-align: top;\n",
       "    }\n",
       "\n",
       "    .dataframe thead th {\n",
       "        text-align: right;\n",
       "    }\n",
       "</style>\n",
       "<table border=\"1\" class=\"dataframe\">\n",
       "  <thead>\n",
       "    <tr style=\"text-align: right;\">\n",
       "      <th></th>\n",
       "      <th>id</th>\n",
       "      <th>date_account_created</th>\n",
       "      <th>timestamp_first_active</th>\n",
       "      <th>date_first_booking</th>\n",
       "      <th>gender</th>\n",
       "      <th>age</th>\n",
       "      <th>signup_method</th>\n",
       "      <th>signup_flow</th>\n",
       "      <th>language</th>\n",
       "      <th>affiliate_channel</th>\n",
       "      <th>affiliate_provider</th>\n",
       "      <th>first_affiliate_tracked</th>\n",
       "      <th>signup_app</th>\n",
       "      <th>first_device_type</th>\n",
       "      <th>first_browser</th>\n",
       "      <th>country_destination</th>\n",
       "    </tr>\n",
       "  </thead>\n",
       "  <tbody>\n",
       "    <tr>\n",
       "      <th>2</th>\n",
       "      <td>4ft3gnwmtx</td>\n",
       "      <td>2010-09-28</td>\n",
       "      <td>20090609231247</td>\n",
       "      <td>2010-08-02</td>\n",
       "      <td>FEMALE</td>\n",
       "      <td>56.0</td>\n",
       "      <td>basic</td>\n",
       "      <td>3</td>\n",
       "      <td>en</td>\n",
       "      <td>direct</td>\n",
       "      <td>direct</td>\n",
       "      <td>untracked</td>\n",
       "      <td>Web</td>\n",
       "      <td>Windows Desktop</td>\n",
       "      <td>IE</td>\n",
       "      <td>US</td>\n",
       "    </tr>\n",
       "    <tr>\n",
       "      <th>3</th>\n",
       "      <td>bjjt8pjhuk</td>\n",
       "      <td>2011-12-05</td>\n",
       "      <td>20091031060129</td>\n",
       "      <td>2012-09-08</td>\n",
       "      <td>FEMALE</td>\n",
       "      <td>42.0</td>\n",
       "      <td>facebook</td>\n",
       "      <td>0</td>\n",
       "      <td>en</td>\n",
       "      <td>direct</td>\n",
       "      <td>direct</td>\n",
       "      <td>untracked</td>\n",
       "      <td>Web</td>\n",
       "      <td>Mac Desktop</td>\n",
       "      <td>Firefox</td>\n",
       "      <td>other</td>\n",
       "    </tr>\n",
       "    <tr>\n",
       "      <th>4</th>\n",
       "      <td>87mebub9p4</td>\n",
       "      <td>2010-09-14</td>\n",
       "      <td>20091208061105</td>\n",
       "      <td>2010-02-18</td>\n",
       "      <td>-unknown-</td>\n",
       "      <td>41.0</td>\n",
       "      <td>basic</td>\n",
       "      <td>0</td>\n",
       "      <td>en</td>\n",
       "      <td>direct</td>\n",
       "      <td>direct</td>\n",
       "      <td>untracked</td>\n",
       "      <td>Web</td>\n",
       "      <td>Mac Desktop</td>\n",
       "      <td>Chrome</td>\n",
       "      <td>US</td>\n",
       "    </tr>\n",
       "    <tr>\n",
       "      <th>6</th>\n",
       "      <td>lsw9q7uk0j</td>\n",
       "      <td>2010-01-02</td>\n",
       "      <td>20100102012558</td>\n",
       "      <td>2010-01-05</td>\n",
       "      <td>FEMALE</td>\n",
       "      <td>46.0</td>\n",
       "      <td>basic</td>\n",
       "      <td>0</td>\n",
       "      <td>en</td>\n",
       "      <td>other</td>\n",
       "      <td>craigslist</td>\n",
       "      <td>untracked</td>\n",
       "      <td>Web</td>\n",
       "      <td>Mac Desktop</td>\n",
       "      <td>Safari</td>\n",
       "      <td>US</td>\n",
       "    </tr>\n",
       "    <tr>\n",
       "      <th>7</th>\n",
       "      <td>0d01nltbrs</td>\n",
       "      <td>2010-01-03</td>\n",
       "      <td>20100103191905</td>\n",
       "      <td>2010-01-13</td>\n",
       "      <td>FEMALE</td>\n",
       "      <td>47.0</td>\n",
       "      <td>basic</td>\n",
       "      <td>0</td>\n",
       "      <td>en</td>\n",
       "      <td>direct</td>\n",
       "      <td>direct</td>\n",
       "      <td>omg</td>\n",
       "      <td>Web</td>\n",
       "      <td>Mac Desktop</td>\n",
       "      <td>Safari</td>\n",
       "      <td>US</td>\n",
       "    </tr>\n",
       "  </tbody>\n",
       "</table>\n",
       "</div>"
      ],
      "text/plain": [
       "           id date_account_created  timestamp_first_active date_first_booking  \\\n",
       "2  4ft3gnwmtx           2010-09-28          20090609231247         2010-08-02   \n",
       "3  bjjt8pjhuk           2011-12-05          20091031060129         2012-09-08   \n",
       "4  87mebub9p4           2010-09-14          20091208061105         2010-02-18   \n",
       "6  lsw9q7uk0j           2010-01-02          20100102012558         2010-01-05   \n",
       "7  0d01nltbrs           2010-01-03          20100103191905         2010-01-13   \n",
       "\n",
       "      gender   age signup_method  signup_flow language affiliate_channel  \\\n",
       "2     FEMALE  56.0         basic            3       en            direct   \n",
       "3     FEMALE  42.0      facebook            0       en            direct   \n",
       "4  -unknown-  41.0         basic            0       en            direct   \n",
       "6     FEMALE  46.0         basic            0       en             other   \n",
       "7     FEMALE  47.0         basic            0       en            direct   \n",
       "\n",
       "  affiliate_provider first_affiliate_tracked signup_app first_device_type  \\\n",
       "2             direct               untracked        Web   Windows Desktop   \n",
       "3             direct               untracked        Web       Mac Desktop   \n",
       "4             direct               untracked        Web       Mac Desktop   \n",
       "6         craigslist               untracked        Web       Mac Desktop   \n",
       "7             direct                     omg        Web       Mac Desktop   \n",
       "\n",
       "  first_browser country_destination  \n",
       "2            IE                  US  \n",
       "3       Firefox               other  \n",
       "4        Chrome                  US  \n",
       "6        Safari                  US  \n",
       "7        Safari                  US  "
      ]
     },
     "execution_count": 28,
     "metadata": {},
     "output_type": "execute_result"
    }
   ],
   "source": [
    "df1.head()"
   ]
  },
  {
   "cell_type": "markdown",
   "id": "9dc8f034",
   "metadata": {
    "hidden": true
   },
   "source": [
    "### 1.3.1. Change DTypes"
   ]
  },
  {
   "cell_type": "code",
   "execution_count": 29,
   "id": "f0dfdda5",
   "metadata": {
    "ExecuteTime": {
     "end_time": "2023-02-04T18:12:21.456894Z",
     "start_time": "2023-02-04T18:12:21.051193Z"
    },
    "hidden": true
   },
   "outputs": [],
   "source": [
    "# date_account_created\n",
    "df1['date_account_created'] = pd.to_datetime(df1['date_account_created'])\n",
    "\n",
    "# timestamp_first_active\n",
    "df1['timestamp_first_active'] = pd.to_datetime(df1['timestamp_first_active'], format='%Y%m%d%H%M%S')\n",
    "\n",
    "# date_first_booking \n",
    "df1['date_first_booking'] = pd.to_datetime(df1['date_first_booking'])\n",
    "\n",
    "# age\n",
    "df1['age'] = df1['age'].astype('int')"
   ]
  },
  {
   "cell_type": "markdown",
   "id": "dbd20b4b",
   "metadata": {
    "heading_collapsed": true,
    "hidden": true
   },
   "source": [
    "## 1.4. Check Balanced Data"
   ]
  },
  {
   "cell_type": "code",
   "execution_count": 30,
   "id": "6a5506bf",
   "metadata": {
    "ExecuteTime": {
     "end_time": "2023-02-04T18:12:21.477908Z",
     "start_time": "2023-02-04T18:12:21.460747Z"
    },
    "hidden": true
   },
   "outputs": [
    {
     "data": {
      "text/plain": [
       "US       0.708864\n",
       "other    0.110854\n",
       "FR       0.054085\n",
       "IT       0.029763\n",
       "GB       0.025935\n",
       "ES       0.024864\n",
       "CA       0.015696\n",
       "DE       0.012454\n",
       "NL       0.008801\n",
       "AU       0.006366\n",
       "PT       0.002318\n",
       "Name: country_destination, dtype: float64"
      ]
     },
     "execution_count": 30,
     "metadata": {},
     "output_type": "execute_result"
    }
   ],
   "source": [
    "df1['country_destination'].value_counts(normalize=True)"
   ]
  },
  {
   "cell_type": "markdown",
   "id": "50ef182b",
   "metadata": {
    "ExecuteTime": {
     "end_time": "2023-01-25T23:12:58.072519Z",
     "start_time": "2023-01-25T23:12:54.813859Z"
    },
    "heading_collapsed": true
   },
   "source": [
    "# 2.0. Data Filtering"
   ]
  },
  {
   "cell_type": "code",
   "execution_count": 31,
   "id": "a39e842e",
   "metadata": {
    "ExecuteTime": {
     "end_time": "2023-02-04T18:12:21.556743Z",
     "start_time": "2023-02-04T18:12:21.482596Z"
    },
    "hidden": true
   },
   "outputs": [],
   "source": [
    "df2 = df1.copy()"
   ]
  },
  {
   "cell_type": "code",
   "execution_count": 32,
   "id": "ebd87c0c",
   "metadata": {
    "ExecuteTime": {
     "end_time": "2023-02-04T18:12:21.662251Z",
     "start_time": "2023-02-04T18:12:21.560034Z"
    },
    "hidden": true
   },
   "outputs": [],
   "source": [
    "# check in next cycle"
   ]
  },
  {
   "cell_type": "markdown",
   "id": "54242660",
   "metadata": {
    "ExecuteTime": {
     "end_time": "2023-01-25T23:12:58.072519Z",
     "start_time": "2023-01-25T23:12:54.813859Z"
    },
    "heading_collapsed": true
   },
   "source": [
    "# 3.0. Data Preparation"
   ]
  },
  {
   "cell_type": "code",
   "execution_count": 70,
   "id": "fe853cd4",
   "metadata": {
    "ExecuteTime": {
     "end_time": "2023-02-04T18:44:35.920455Z",
     "start_time": "2023-02-04T18:44:35.904198Z"
    },
    "hidden": true
   },
   "outputs": [],
   "source": [
    "df3 = df2.copy()"
   ]
  },
  {
   "cell_type": "code",
   "execution_count": 72,
   "id": "eedc101d",
   "metadata": {
    "ExecuteTime": {
     "end_time": "2023-02-04T18:44:48.506144Z",
     "start_time": "2023-02-04T18:44:48.392366Z"
    },
    "hidden": true
   },
   "outputs": [],
   "source": [
    "# dummy variables\n",
    "df3_dummy = pd.get_dummies(df3.drop(['id', 'country_destination'], axis=1))\n",
    "\n",
    "# join id and country destination\n",
    "df3 = pd.concat([df3[['id', 'country_destination']], df3_dummy], axis=1)"
   ]
  },
  {
   "cell_type": "code",
   "execution_count": 73,
   "id": "b5abc698",
   "metadata": {
    "ExecuteTime": {
     "end_time": "2023-02-04T18:45:23.362155Z",
     "start_time": "2023-02-04T18:45:23.355165Z"
    },
    "hidden": true
   },
   "outputs": [],
   "source": [
    "# check in next cycle"
   ]
  },
  {
   "cell_type": "markdown",
   "id": "f0146879",
   "metadata": {
    "ExecuteTime": {
     "end_time": "2023-01-25T23:12:58.072519Z",
     "start_time": "2023-01-25T23:12:54.813859Z"
    },
    "heading_collapsed": true
   },
   "source": [
    "# 4.0. Feature Selection"
   ]
  },
  {
   "cell_type": "code",
   "execution_count": 74,
   "id": "bee04c22",
   "metadata": {
    "ExecuteTime": {
     "end_time": "2023-02-04T18:45:24.659741Z",
     "start_time": "2023-02-04T18:45:24.632926Z"
    },
    "hidden": true
   },
   "outputs": [],
   "source": [
    "# drop columns\n",
    "cols_drop = ['date_account_created', 'timestamp_first_active', 'date_first_booking']\n",
    "df4 = df3.drop(cols_drop, axis=1)"
   ]
  },
  {
   "cell_type": "markdown",
   "id": "0ba8bc77",
   "metadata": {
    "ExecuteTime": {
     "end_time": "2023-01-25T23:12:58.072519Z",
     "start_time": "2023-01-25T23:12:54.813859Z"
    },
    "heading_collapsed": true
   },
   "source": [
    "# 5.0. Machine Learning Model - Neural Network - Multi-Layer Perception"
   ]
  },
  {
   "cell_type": "code",
   "execution_count": 75,
   "id": "9e632e2e",
   "metadata": {
    "ExecuteTime": {
     "end_time": "2023-02-04T18:45:27.166177Z",
     "start_time": "2023-02-04T18:45:27.132215Z"
    },
    "hidden": true
   },
   "outputs": [],
   "source": [
    "# split dataset into features and target\n",
    "X = df4.drop('country_destination', axis=1)\n",
    "y = df4['country_destination']"
   ]
  },
  {
   "cell_type": "code",
   "execution_count": 76,
   "id": "bb83c4ee",
   "metadata": {
    "ExecuteTime": {
     "end_time": "2023-02-04T18:45:30.748850Z",
     "start_time": "2023-02-04T18:45:30.647817Z"
    },
    "hidden": true
   },
   "outputs": [],
   "source": [
    "# split dataset into train and test\n",
    "X_train, X_test, y_train, y_test = ms.train_test_split(X, y, test_size=0.2, random_state=42)"
   ]
  },
  {
   "cell_type": "code",
   "execution_count": 77,
   "id": "6b869d03",
   "metadata": {
    "ExecuteTime": {
     "end_time": "2023-02-04T18:45:31.653495Z",
     "start_time": "2023-02-04T18:45:31.643296Z"
    },
    "hidden": true
   },
   "outputs": [],
   "source": [
    "# drop id\n",
    "x_train = X_train.drop('id', axis=1)\n",
    "x_test = X_test.drop('id', axis=1)"
   ]
  },
  {
   "cell_type": "code",
   "execution_count": 78,
   "id": "dd70cd1f",
   "metadata": {
    "ExecuteTime": {
     "end_time": "2023-02-04T18:45:33.796779Z",
     "start_time": "2023-02-04T18:45:33.741406Z"
    },
    "hidden": true
   },
   "outputs": [],
   "source": [
    "# transform y_train in dummy to use in the neural network\n",
    "ohe = pp.OneHotEncoder()\n",
    "y_train_nn = ohe.fit_transform(y_train.values.reshape(-1, 1)).toarray()"
   ]
  },
  {
   "cell_type": "code",
   "execution_count": 80,
   "id": "485c1b7f",
   "metadata": {
    "ExecuteTime": {
     "end_time": "2023-02-04T18:54:59.922505Z",
     "start_time": "2023-02-04T18:49:17.408013Z"
    },
    "hidden": true
   },
   "outputs": [
    {
     "name": "stdout",
     "output_type": "stream",
     "text": [
      "Epoch 1/100\n",
      "1705/1705 [==============================] - 4s 2ms/step - loss: 1.3486 - accuracy: 0.7000\n",
      "Epoch 2/100\n",
      "1705/1705 [==============================] - 3s 2ms/step - loss: 1.2816 - accuracy: 0.7067\n",
      "Epoch 3/100\n",
      "1705/1705 [==============================] - 3s 2ms/step - loss: 1.2528 - accuracy: 0.7068\n",
      "Epoch 4/100\n",
      "1705/1705 [==============================] - 3s 2ms/step - loss: 1.2134 - accuracy: 0.7069\n",
      "Epoch 5/100\n",
      "1705/1705 [==============================] - 3s 2ms/step - loss: 1.1933 - accuracy: 0.7070\n",
      "Epoch 6/100\n",
      "1705/1705 [==============================] - 3s 2ms/step - loss: 1.1882 - accuracy: 0.7071\n",
      "Epoch 7/100\n",
      "1705/1705 [==============================] - 3s 2ms/step - loss: 1.1620 - accuracy: 0.7073\n",
      "Epoch 8/100\n",
      "1705/1705 [==============================] - 3s 2ms/step - loss: 1.1560 - accuracy: 0.7073\n",
      "Epoch 9/100\n",
      "1705/1705 [==============================] - 4s 2ms/step - loss: 1.1490 - accuracy: 0.7072\n",
      "Epoch 10/100\n",
      "1705/1705 [==============================] - 4s 2ms/step - loss: 1.1453 - accuracy: 0.7072\n",
      "Epoch 11/100\n",
      "1705/1705 [==============================] - 4s 2ms/step - loss: 1.1394 - accuracy: 0.7077\n",
      "Epoch 12/100\n",
      "1705/1705 [==============================] - 4s 2ms/step - loss: 1.1372 - accuracy: 0.7079\n",
      "Epoch 13/100\n",
      "1705/1705 [==============================] - 4s 2ms/step - loss: 1.1366 - accuracy: 0.7080\n",
      "Epoch 14/100\n",
      "1705/1705 [==============================] - 4s 2ms/step - loss: 1.1353 - accuracy: 0.7080\n",
      "Epoch 15/100\n",
      "1705/1705 [==============================] - 4s 2ms/step - loss: 1.1348 - accuracy: 0.7081\n",
      "Epoch 16/100\n",
      "1705/1705 [==============================] - 4s 2ms/step - loss: 1.1332 - accuracy: 0.7081\n",
      "Epoch 17/100\n",
      "1705/1705 [==============================] - 4s 2ms/step - loss: 1.1323 - accuracy: 0.7081\n",
      "Epoch 18/100\n",
      "1705/1705 [==============================] - 4s 2ms/step - loss: 1.1311 - accuracy: 0.7082\n",
      "Epoch 19/100\n",
      "1705/1705 [==============================] - 4s 2ms/step - loss: 1.1299 - accuracy: 0.7081\n",
      "Epoch 20/100\n",
      "1705/1705 [==============================] - 4s 2ms/step - loss: 1.1290 - accuracy: 0.7083\n",
      "Epoch 21/100\n",
      "1705/1705 [==============================] - 4s 2ms/step - loss: 1.1277 - accuracy: 0.7083\n",
      "Epoch 22/100\n",
      "1705/1705 [==============================] - 4s 2ms/step - loss: 1.1282 - accuracy: 0.7084\n",
      "Epoch 23/100\n",
      "1705/1705 [==============================] - 4s 2ms/step - loss: 1.1265 - accuracy: 0.7083\n",
      "Epoch 24/100\n",
      "1705/1705 [==============================] - 4s 2ms/step - loss: 1.1261 - accuracy: 0.7085\n",
      "Epoch 25/100\n",
      "1705/1705 [==============================] - 4s 2ms/step - loss: 1.1253 - accuracy: 0.7084\n",
      "Epoch 26/100\n",
      "1705/1705 [==============================] - 4s 2ms/step - loss: 1.1239 - accuracy: 0.7085\n",
      "Epoch 27/100\n",
      "1705/1705 [==============================] - 4s 2ms/step - loss: 1.1232 - accuracy: 0.7086\n",
      "Epoch 28/100\n",
      "1705/1705 [==============================] - 4s 2ms/step - loss: 1.1225 - accuracy: 0.7086\n",
      "Epoch 29/100\n",
      "1705/1705 [==============================] - 4s 2ms/step - loss: 1.1223 - accuracy: 0.7086\n",
      "Epoch 30/100\n",
      "1705/1705 [==============================] - 3s 2ms/step - loss: 1.1213 - accuracy: 0.7085\n",
      "Epoch 31/100\n",
      "1705/1705 [==============================] - 3s 2ms/step - loss: 1.1213 - accuracy: 0.7086\n",
      "Epoch 32/100\n",
      "1705/1705 [==============================] - 3s 2ms/step - loss: 1.1198 - accuracy: 0.7088\n",
      "Epoch 33/100\n",
      "1705/1705 [==============================] - 3s 2ms/step - loss: 1.1196 - accuracy: 0.7087\n",
      "Epoch 34/100\n",
      "1705/1705 [==============================] - 3s 2ms/step - loss: 1.1192 - accuracy: 0.7088\n",
      "Epoch 35/100\n",
      "1705/1705 [==============================] - 3s 2ms/step - loss: 1.1185 - accuracy: 0.7088\n",
      "Epoch 36/100\n",
      "1705/1705 [==============================] - 3s 2ms/step - loss: 1.1171 - accuracy: 0.7089\n",
      "Epoch 37/100\n",
      "1705/1705 [==============================] - 3s 2ms/step - loss: 1.1167 - accuracy: 0.7088\n",
      "Epoch 38/100\n",
      "1705/1705 [==============================] - 3s 2ms/step - loss: 1.1170 - accuracy: 0.7089\n",
      "Epoch 39/100\n",
      "1705/1705 [==============================] - 3s 2ms/step - loss: 1.1167 - accuracy: 0.7091\n",
      "Epoch 40/100\n",
      "1705/1705 [==============================] - 3s 2ms/step - loss: 1.1157 - accuracy: 0.7091\n",
      "Epoch 41/100\n",
      "1705/1705 [==============================] - 3s 2ms/step - loss: 1.1156 - accuracy: 0.7092\n",
      "Epoch 42/100\n",
      "1705/1705 [==============================] - 3s 2ms/step - loss: 1.1146 - accuracy: 0.7092\n",
      "Epoch 43/100\n",
      "1705/1705 [==============================] - 3s 2ms/step - loss: 1.1145 - accuracy: 0.7092\n",
      "Epoch 44/100\n",
      "1705/1705 [==============================] - 3s 2ms/step - loss: 1.1138 - accuracy: 0.7093\n",
      "Epoch 45/100\n",
      "1705/1705 [==============================] - 3s 2ms/step - loss: 1.1135 - accuracy: 0.7091\n",
      "Epoch 46/100\n",
      "1705/1705 [==============================] - 3s 2ms/step - loss: 1.1132 - accuracy: 0.7093\n",
      "Epoch 47/100\n",
      "1705/1705 [==============================] - 4s 2ms/step - loss: 1.1121 - accuracy: 0.7094\n",
      "Epoch 48/100\n",
      "1705/1705 [==============================] - 3s 2ms/step - loss: 1.1127 - accuracy: 0.7094\n",
      "Epoch 49/100\n",
      "1705/1705 [==============================] - 3s 2ms/step - loss: 1.1115 - accuracy: 0.7096\n",
      "Epoch 50/100\n",
      "1705/1705 [==============================] - 3s 2ms/step - loss: 1.1114 - accuracy: 0.7095\n",
      "Epoch 51/100\n",
      "1705/1705 [==============================] - 3s 2ms/step - loss: 1.1117 - accuracy: 0.7097\n",
      "Epoch 52/100\n",
      "1705/1705 [==============================] - 3s 2ms/step - loss: 1.1101 - accuracy: 0.7098\n",
      "Epoch 53/100\n",
      "1705/1705 [==============================] - 3s 2ms/step - loss: 1.1121 - accuracy: 0.7095\n",
      "Epoch 54/100\n",
      "1705/1705 [==============================] - 3s 2ms/step - loss: 1.1113 - accuracy: 0.7095\n",
      "Epoch 55/100\n",
      "1705/1705 [==============================] - 3s 2ms/step - loss: 1.1097 - accuracy: 0.7097\n",
      "Epoch 56/100\n",
      "1705/1705 [==============================] - 3s 2ms/step - loss: 1.1092 - accuracy: 0.7097\n",
      "Epoch 57/100\n",
      "1705/1705 [==============================] - 3s 2ms/step - loss: 1.1093 - accuracy: 0.7098\n",
      "Epoch 58/100\n",
      "1705/1705 [==============================] - 3s 2ms/step - loss: 1.1085 - accuracy: 0.7095\n",
      "Epoch 59/100\n",
      "1705/1705 [==============================] - 3s 2ms/step - loss: 1.1085 - accuracy: 0.7099\n",
      "Epoch 60/100\n",
      "1705/1705 [==============================] - 3s 2ms/step - loss: 1.1085 - accuracy: 0.7097\n",
      "Epoch 61/100\n",
      "1705/1705 [==============================] - 3s 2ms/step - loss: 1.1089 - accuracy: 0.7098\n",
      "Epoch 62/100\n",
      "1705/1705 [==============================] - 3s 2ms/step - loss: 1.1076 - accuracy: 0.7098\n",
      "Epoch 63/100\n",
      "1705/1705 [==============================] - 3s 2ms/step - loss: 1.1073 - accuracy: 0.7099\n",
      "Epoch 64/100\n",
      "1705/1705 [==============================] - 3s 2ms/step - loss: 1.1067 - accuracy: 0.7100\n",
      "Epoch 65/100\n",
      "1705/1705 [==============================] - 3s 2ms/step - loss: 1.1062 - accuracy: 0.7102\n",
      "Epoch 66/100\n",
      "1705/1705 [==============================] - 3s 2ms/step - loss: 1.1062 - accuracy: 0.7099\n",
      "Epoch 67/100\n",
      "1705/1705 [==============================] - 3s 2ms/step - loss: 1.1062 - accuracy: 0.7101\n",
      "Epoch 68/100\n",
      "1705/1705 [==============================] - 3s 2ms/step - loss: 1.1054 - accuracy: 0.7100\n",
      "Epoch 69/100\n",
      "1705/1705 [==============================] - 3s 2ms/step - loss: 1.1051 - accuracy: 0.7102\n",
      "Epoch 70/100\n",
      "1705/1705 [==============================] - 3s 2ms/step - loss: 1.1048 - accuracy: 0.7101\n",
      "Epoch 71/100\n",
      "1705/1705 [==============================] - 3s 2ms/step - loss: 1.1039 - accuracy: 0.7098\n",
      "Epoch 72/100\n",
      "1705/1705 [==============================] - 3s 2ms/step - loss: 1.1039 - accuracy: 0.7103\n",
      "Epoch 73/100\n",
      "1705/1705 [==============================] - 3s 2ms/step - loss: 1.1036 - accuracy: 0.7103\n",
      "Epoch 74/100\n",
      "1705/1705 [==============================] - 3s 2ms/step - loss: 1.1033 - accuracy: 0.7103\n",
      "Epoch 75/100\n",
      "1705/1705 [==============================] - 3s 2ms/step - loss: 1.1033 - accuracy: 0.7104\n",
      "Epoch 76/100\n",
      "1705/1705 [==============================] - 3s 2ms/step - loss: 1.1035 - accuracy: 0.7106\n",
      "Epoch 77/100\n",
      "1705/1705 [==============================] - 3s 2ms/step - loss: 1.1033 - accuracy: 0.7106\n",
      "Epoch 78/100\n",
      "1705/1705 [==============================] - 3s 2ms/step - loss: 1.1032 - accuracy: 0.7103\n",
      "Epoch 79/100\n"
     ]
    },
    {
     "name": "stdout",
     "output_type": "stream",
     "text": [
      "1705/1705 [==============================] - 3s 2ms/step - loss: 1.1020 - accuracy: 0.7106\n",
      "Epoch 80/100\n",
      "1705/1705 [==============================] - 3s 2ms/step - loss: 1.1025 - accuracy: 0.7105\n",
      "Epoch 81/100\n",
      "1705/1705 [==============================] - 4s 2ms/step - loss: 1.1021 - accuracy: 0.7107\n",
      "Epoch 82/100\n",
      "1705/1705 [==============================] - 3s 2ms/step - loss: 1.1017 - accuracy: 0.7105\n",
      "Epoch 83/100\n",
      "1705/1705 [==============================] - 3s 2ms/step - loss: 1.1011 - accuracy: 0.7108\n",
      "Epoch 84/100\n",
      "1705/1705 [==============================] - 3s 2ms/step - loss: 1.1010 - accuracy: 0.7107\n",
      "Epoch 85/100\n",
      "1705/1705 [==============================] - 3s 2ms/step - loss: 1.1012 - accuracy: 0.7107\n",
      "Epoch 86/100\n",
      "1705/1705 [==============================] - 3s 2ms/step - loss: 1.1004 - accuracy: 0.7104\n",
      "Epoch 87/100\n",
      "1705/1705 [==============================] - 3s 2ms/step - loss: 1.1004 - accuracy: 0.7108\n",
      "Epoch 88/100\n",
      "1705/1705 [==============================] - 3s 2ms/step - loss: 1.1005 - accuracy: 0.7107\n",
      "Epoch 89/100\n",
      "1705/1705 [==============================] - 3s 2ms/step - loss: 1.1003 - accuracy: 0.7109\n",
      "Epoch 90/100\n",
      "1705/1705 [==============================] - 4s 2ms/step - loss: 1.1000 - accuracy: 0.7110\n",
      "Epoch 91/100\n",
      "1705/1705 [==============================] - 3s 2ms/step - loss: 1.0998 - accuracy: 0.7110\n",
      "Epoch 92/100\n",
      "1705/1705 [==============================] - 3s 2ms/step - loss: 1.0997 - accuracy: 0.7109\n",
      "Epoch 93/100\n",
      "1705/1705 [==============================] - 3s 2ms/step - loss: 1.0994 - accuracy: 0.7111\n",
      "Epoch 94/100\n",
      "1705/1705 [==============================] - 4s 2ms/step - loss: 1.0994 - accuracy: 0.7110\n",
      "Epoch 95/100\n",
      "1705/1705 [==============================] - 4s 2ms/step - loss: 1.0985 - accuracy: 0.7111\n",
      "Epoch 96/100\n",
      "1705/1705 [==============================] - 3s 2ms/step - loss: 1.0992 - accuracy: 0.7111\n",
      "Epoch 97/100\n",
      "1705/1705 [==============================] - 3s 2ms/step - loss: 1.0985 - accuracy: 0.7110\n",
      "Epoch 98/100\n",
      "1705/1705 [==============================] - 3s 2ms/step - loss: 1.0988 - accuracy: 0.7112\n",
      "Epoch 99/100\n",
      "1705/1705 [==============================] - 5s 3ms/step - loss: 1.0977 - accuracy: 0.7113\n",
      "Epoch 100/100\n",
      "1705/1705 [==============================] - 4s 2ms/step - loss: 1.0977 - accuracy: 0.7111\n"
     ]
    },
    {
     "data": {
      "text/plain": [
       "<keras.callbacks.History at 0x7f3604e44100>"
      ]
     },
     "execution_count": 80,
     "metadata": {},
     "output_type": "execute_result"
    }
   ],
   "source": [
    "# model definition\n",
    "model = ml.Sequential()\n",
    "model.add(l.Dense(128, input_dim=x_train.shape[1], activation='relu'))\n",
    "model.add(l.Dense(11, activation='softmax'))\n",
    "\n",
    "# model compile\n",
    "model.compile(loss='categorical_crossentropy', optimizer='adam', metrics=['accuracy'])\n",
    "\n",
    "# train model\n",
    "model.fit(x_train, y_train_nn, epochs=100)"
   ]
  },
  {
   "cell_type": "markdown",
   "id": "652b521b",
   "metadata": {
    "ExecuteTime": {
     "end_time": "2023-01-25T23:12:58.072519Z",
     "start_time": "2023-01-25T23:12:54.813859Z"
    },
    "heading_collapsed": true
   },
   "source": [
    "# 5.0. NN Performance"
   ]
  },
  {
   "cell_type": "code",
   "execution_count": 102,
   "id": "d199a961",
   "metadata": {
    "ExecuteTime": {
     "end_time": "2023-02-04T19:01:53.708133Z",
     "start_time": "2023-02-04T19:01:52.926786Z"
    },
    "hidden": true
   },
   "outputs": [
    {
     "name": "stdout",
     "output_type": "stream",
     "text": [
      "427/427 [==============================] - 1s 1ms/step\n"
     ]
    }
   ],
   "source": [
    "# prediction\n",
    "pred_nn = model.predict(x_test)\n",
    "\n",
    "# invert prediction\n",
    "yhat_nn = ohe.inverse_transform(pred_nn)\n",
    "\n",
    "# prediction prepare\n",
    "y_test_nn = y_test.to_numpy()\n",
    "yhat_nn = yhat_nn.reshape(1, -1)[0]"
   ]
  },
  {
   "cell_type": "code",
   "execution_count": 110,
   "id": "960b9754",
   "metadata": {
    "ExecuteTime": {
     "end_time": "2023-02-04T19:09:05.101918Z",
     "start_time": "2023-02-04T19:09:03.931057Z"
    },
    "hidden": true
   },
   "outputs": [
    {
     "name": "stdout",
     "output_type": "stream",
     "text": [
      "Accurary: 0.7102\n"
     ]
    },
    {
     "data": {
      "text/plain": [
       "<AxesSubplot: title={'center': 'Confusion Matrix'}, xlabel='Predicted label', ylabel='True label'>"
      ]
     },
     "execution_count": 110,
     "metadata": {},
     "output_type": "execute_result"
    },
    {
     "data": {
      "image/png": "[encoded data removed]",
      "text/plain": [
       "<Figure size 1200x1200 with 2 Axes>"
      ]
     },
     "metadata": {},
     "output_type": "display_data"
    }
   ],
   "source": [
    "# accuracy\n",
    "acc_nn = m.accuracy_score(y_test_nn, yhat_nn)\n",
    "print('Accurary: {:.4f}'.format(acc_nn))\n",
    "\n",
    "# confusion matrix\n",
    "mt.plot_confusion_matrix(y_test_nn, yhat_nn, normalize=False, figsize=(12, 12))\n"
   ]
  }
 ],
 "metadata": {
  "kernelspec": {
   "display_name": "airbnb_env",
   "language": "python",
   "name": "airbnb_env"
  },
  "language_info": {
   "codemirror_mode": {
    "name": "ipython",
    "version": 3
   },
   "file_extension": ".py",
   "mimetype": "text/x-python",
   "name": "python",
   "nbconvert_exporter": "python",
   "pygments_lexer": "ipython3",
   "version": "3.9.12"
  }
 },
 "nbformat": 4,
 "nbformat_minor": 5
}
