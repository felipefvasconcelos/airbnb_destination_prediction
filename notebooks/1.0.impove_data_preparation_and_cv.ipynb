{
 "cells": [
  {
   "cell_type": "markdown",
   "id": "92525660",
   "metadata": {
    "ExecuteTime": {
     "end_time": "2023-01-25T23:12:58.072519Z",
     "start_time": "2023-01-25T23:12:54.813859Z"
    },
    "heading_collapsed": true
   },
   "source": [
    "# Business Problem"
   ]
  },
  {
   "cell_type": "raw",
   "id": "7fc6ff6b",
   "metadata": {
    "hidden": true
   },
   "source": [
    "-- Objetivo do Problema:\n",
    "    -- **1.0.** Previsao do primeiro destino que um novo usuario ira escolher.\n",
    "        -- Por que?\n",
    "            -- Qual tipo de modelo de negocio da AirBnb?\n",
    "                -- Marketplace (conectar pessoas que oferecem acomodacao, com pessoas que estao procurando \n",
    "                acomodacao)\n",
    "                -- Oferta (pessoas oferecendo acomodacao)\n",
    "                    -- Tamanho do portfolio.\n",
    "                    -- Diversidade/densidade de portifolio.\n",
    "                    -- Preco medio.\n",
    "                -- Demanda (pessoas procurando acomodacao)\n",
    "                    -- Numero de usuarios.\n",
    "                    -- LTV - Life Time Value.\n",
    "                    -- CAC - Client Acquisition Cost\n",
    "                    \n",
    "            **Revenue = (Fee*Num de clientes) - CAC**\n",
    "\n",
    "-- Proposta de solucao\n",
    "    -- Modelo de previsao de primeiro destino de um novo usuario.\n",
    "        -- a) Fazer predicoes e salvar em tabpela num banco de dados.\n",
    "        -- b) API\n",
    "            -- Input: usuario e suas caracteristicas\n",
    "            -- Output: usuario e suas caracteristicas com a predicao do destino"
   ]
  },
  {
   "cell_type": "markdown",
   "id": "68aae278",
   "metadata": {
    "ExecuteTime": {
     "end_time": "2023-01-25T23:12:58.072519Z",
     "start_time": "2023-01-25T23:12:54.813859Z"
    }
   },
   "source": [
    "# 0.0. Imports"
   ]
  },
  {
   "cell_type": "code",
   "execution_count": 21,
   "id": "3eca7ce0",
   "metadata": {
    "ExecuteTime": {
     "end_time": "2023-02-12T19:31:25.396058Z",
     "start_time": "2023-02-12T19:31:25.198133Z"
    }
   },
   "outputs": [],
   "source": [
    "import random\n",
    "\n",
    "import numpy   as np\n",
    "import pandas  as pd\n",
    "import seaborn as sns\n",
    "\n",
    "from keras      import layers          as l\n",
    "from keras      import models          as ml\n",
    "from sklearn    import metrics         as m\n",
    "from sklearn    import preprocessing   as pp\n",
    "from sklearn    import model_selection as ms\n",
    "from scikitplot import metrics         as mt"
   ]
  },
  {
   "cell_type": "markdown",
   "id": "070f7d46",
   "metadata": {
    "heading_collapsed": true
   },
   "source": [
    "## 0.1. Helper Functions"
   ]
  },
  {
   "cell_type": "markdown",
   "id": "f1c9e161",
   "metadata": {},
   "source": [
    "## 0.2. Loading Data"
   ]
  },
  {
   "cell_type": "code",
   "execution_count": 3,
   "id": "3524916f",
   "metadata": {
    "ExecuteTime": {
     "end_time": "2023-02-12T19:18:08.367603Z",
     "start_time": "2023-02-12T19:17:53.688935Z"
    }
   },
   "outputs": [],
   "source": [
    "path = '/home/felipe/repos/ds_em_classificacao/'\n",
    "df_raw = pd.read_csv(path + 'datasets/data_raw/training_users.csv', low_memory=True)\n",
    "df_sessions = pd.read_csv(path + 'datasets/data_raw/sessions.csv', low_memory=True)"
   ]
  },
  {
   "cell_type": "markdown",
   "id": "7382855d",
   "metadata": {
    "ExecuteTime": {
     "end_time": "2023-01-25T23:12:58.072519Z",
     "start_time": "2023-01-25T23:12:54.813859Z"
    }
   },
   "source": [
    "# 1.0. Data Description"
   ]
  },
  {
   "cell_type": "code",
   "execution_count": 4,
   "id": "13809c5c",
   "metadata": {
    "ExecuteTime": {
     "end_time": "2023-02-12T19:18:11.752180Z",
     "start_time": "2023-02-12T19:18:11.717373Z"
    }
   },
   "outputs": [],
   "source": [
    "df1 = df_raw.copy()"
   ]
  },
  {
   "cell_type": "markdown",
   "id": "8209ab0a",
   "metadata": {},
   "source": [
    "## 1.1. Dataset Dimensions"
   ]
  },
  {
   "cell_type": "code",
   "execution_count": 5,
   "id": "a9485930",
   "metadata": {
    "ExecuteTime": {
     "end_time": "2023-02-12T19:18:19.257005Z",
     "start_time": "2023-02-12T19:18:19.250717Z"
    }
   },
   "outputs": [
    {
     "name": "stdout",
     "output_type": "stream",
     "text": [
      "Users Dataset\n",
      "Number of rows: 213451\n",
      "Number of columns: 16\n"
     ]
    }
   ],
   "source": [
    "print('Users Dataset')\n",
    "print('Number of rows: {}'.format(df1.shape[0]))\n",
    "print('Number of columns: {}'.format(df1.shape[1]))"
   ]
  },
  {
   "cell_type": "code",
   "execution_count": 6,
   "id": "372a558a",
   "metadata": {
    "ExecuteTime": {
     "end_time": "2023-02-12T19:18:21.115469Z",
     "start_time": "2023-02-12T19:18:21.108455Z"
    }
   },
   "outputs": [
    {
     "name": "stdout",
     "output_type": "stream",
     "text": [
      "Sessions Dataset\n",
      "Number of rows: 10567737\n",
      "Number of columns: 6\n"
     ]
    }
   ],
   "source": [
    "print('Sessions Dataset')\n",
    "print('Number of rows: {}'.format(df_sessions.shape[0]))\n",
    "print('Number of columns: {}'.format(df_sessions.shape[1]))"
   ]
  },
  {
   "cell_type": "markdown",
   "id": "4bcf9418",
   "metadata": {},
   "source": [
    "## 1.2. Check NAs"
   ]
  },
  {
   "cell_type": "code",
   "execution_count": 40,
   "id": "dfd8b2a0",
   "metadata": {
    "ExecuteTime": {
     "end_time": "2023-02-12T19:52:13.592710Z",
     "start_time": "2023-02-12T19:52:13.085239Z"
    }
   },
   "outputs": [
    {
     "data": {
      "text/plain": [
       "id                         0.0\n",
       "date_account_created       0.0\n",
       "timestamp_first_active     0.0\n",
       "date_first_booking         0.0\n",
       "gender                     0.0\n",
       "age                        0.0\n",
       "signup_method              0.0\n",
       "signup_flow                0.0\n",
       "language                   0.0\n",
       "affiliate_channel          0.0\n",
       "affiliate_provider         0.0\n",
       "first_affiliate_tracked    0.0\n",
       "signup_app                 0.0\n",
       "first_device_type          0.0\n",
       "first_browser              0.0\n",
       "country_destination        0.0\n",
       "dtype: float64"
      ]
     },
     "execution_count": 40,
     "metadata": {},
     "output_type": "execute_result"
    }
   ],
   "source": [
    "# users dataset NAs\n",
    "df1.isna().sum()/len(df1)"
   ]
  },
  {
   "cell_type": "code",
   "execution_count": 39,
   "id": "5af09d4d",
   "metadata": {
    "ExecuteTime": {
     "end_time": "2023-02-12T19:52:02.302467Z",
     "start_time": "2023-02-12T19:51:55.479979Z"
    }
   },
   "outputs": [
    {
     "data": {
      "text/plain": [
       "user_id          0.0\n",
       "action           0.0\n",
       "action_type      0.0\n",
       "action_detail    0.0\n",
       "device_type      0.0\n",
       "secs_elapsed     0.0\n",
       "dtype: float64"
      ]
     },
     "execution_count": 39,
     "metadata": {},
     "output_type": "execute_result"
    }
   ],
   "source": [
    "# sessions dataset NAs\n",
    "df_sessions.isna().sum()/len(df_sessions)"
   ]
  },
  {
   "cell_type": "markdown",
   "id": "84d0c6c7",
   "metadata": {},
   "source": [
    "### 1.2.1. Replace NAs"
   ]
  },
  {
   "cell_type": "code",
   "execution_count": 34,
   "id": "3f71c94c",
   "metadata": {
    "ExecuteTime": {
     "end_time": "2023-02-12T19:43:29.838256Z",
     "start_time": "2023-02-12T19:43:29.830279Z"
    }
   },
   "outputs": [],
   "source": [
    "# # investigate date_first_booking\n",
    "# aux = df1[df1['date_first_booking'].isna()]\n",
    "# aux['country_destination'].value_counts(normalize=True)\n",
    "\n",
    "# # investigate age\n",
    "# aux = df1[df1['age'].isna()]\n",
    "# aux['country_destination'].value_counts(normalize=True)\n",
    "# sns.histplot(data=df1[df1['age']<65], x='age', kde=True);\n",
    "\n",
    "# # investigate first_affiliate_tracked\n",
    "# df1['first_affiliate_tracked'].drop_duplicates()"
   ]
  },
  {
   "cell_type": "code",
   "execution_count": 38,
   "id": "70e32b97",
   "metadata": {
    "ExecuteTime": {
     "end_time": "2023-02-12T19:51:49.392629Z",
     "start_time": "2023-02-12T19:51:43.679973Z"
    }
   },
   "outputs": [],
   "source": [
    "#====================== USERS ================================\n",
    "\n",
    "# date_first_booking - people with NDF as country_destination\n",
    "date_first_booking_max = pd.to_datetime(df1['date_first_booking']).max().strftime('%Y-%m-%d')\n",
    "df1['date_first_booking'] = df1['date_first_booking'].fillna(date_first_booking_max)\n",
    "\n",
    "# age - distribution similar to normal distribution\n",
    "avg_age = df1['age'].mean().astype(int)\n",
    "df1['age'] = df1['age'].fillna(avg_age)\n",
    "\n",
    "# first_affiliate_tracked - categorical attribute, hard to replace without bias\n",
    "df1 = df1[~df1['first_affiliate_tracked'].isna()]\n",
    "\n",
    "#====================== SESSIONS ================================\n",
    "# user_id - 0.3%\n",
    "df_sessions = df_sessions[~df_sessions['user_id'].isna()]\n",
    "\n",
    "# action - 0.7%\n",
    "df_sessions = df_sessions[~df_sessions['action'].isna()]\n",
    "\n",
    "# action_type - 11%\n",
    "df_sessions = df_sessions[~df_sessions['action_type'].isna()]\n",
    "\n",
    "# action_detail - 11%\n",
    "df_sessions = df_sessions[~df_sessions['action_detail'].isna()]\n",
    "\n",
    "# secs_elapsed - 1.2%\n",
    "df_sessions = df_sessions[~df_sessions['secs_elapsed'].isna()]"
   ]
  },
  {
   "cell_type": "markdown",
   "id": "ece62541",
   "metadata": {},
   "source": [
    "## 1.3. Check DTypes"
   ]
  },
  {
   "cell_type": "code",
   "execution_count": 7,
   "id": "79dec48e",
   "metadata": {
    "ExecuteTime": {
     "end_time": "2023-02-12T17:01:24.352874Z",
     "start_time": "2023-02-12T17:01:24.343697Z"
    }
   },
   "outputs": [
    {
     "data": {
      "text/plain": [
       "id                          object\n",
       "date_account_created        object\n",
       "timestamp_first_active       int64\n",
       "date_first_booking          object\n",
       "gender                      object\n",
       "age                        float64\n",
       "signup_method               object\n",
       "signup_flow                  int64\n",
       "language                    object\n",
       "affiliate_channel           object\n",
       "affiliate_provider          object\n",
       "first_affiliate_tracked     object\n",
       "signup_app                  object\n",
       "first_device_type           object\n",
       "first_browser               object\n",
       "country_destination         object\n",
       "dtype: object"
      ]
     },
     "execution_count": 7,
     "metadata": {},
     "output_type": "execute_result"
    }
   ],
   "source": [
    "df1.dtypes"
   ]
  },
  {
   "cell_type": "code",
   "execution_count": 8,
   "id": "b6ecb627",
   "metadata": {
    "ExecuteTime": {
     "end_time": "2023-02-12T17:01:24.529747Z",
     "start_time": "2023-02-12T17:01:24.356535Z"
    }
   },
   "outputs": [
    {
     "data": {
      "text/html": [
       "<div>\n",
       "<style scoped>\n",
       "    .dataframe tbody tr th:only-of-type {\n",
       "        vertical-align: middle;\n",
       "    }\n",
       "\n",
       "    .dataframe tbody tr th {\n",
       "        vertical-align: top;\n",
       "    }\n",
       "\n",
       "    .dataframe thead th {\n",
       "        text-align: right;\n",
       "    }\n",
       "</style>\n",
       "<table border=\"1\" class=\"dataframe\">\n",
       "  <thead>\n",
       "    <tr style=\"text-align: right;\">\n",
       "      <th></th>\n",
       "      <th>id</th>\n",
       "      <th>date_account_created</th>\n",
       "      <th>timestamp_first_active</th>\n",
       "      <th>date_first_booking</th>\n",
       "      <th>gender</th>\n",
       "      <th>age</th>\n",
       "      <th>signup_method</th>\n",
       "      <th>signup_flow</th>\n",
       "      <th>language</th>\n",
       "      <th>affiliate_channel</th>\n",
       "      <th>affiliate_provider</th>\n",
       "      <th>first_affiliate_tracked</th>\n",
       "      <th>signup_app</th>\n",
       "      <th>first_device_type</th>\n",
       "      <th>first_browser</th>\n",
       "      <th>country_destination</th>\n",
       "    </tr>\n",
       "  </thead>\n",
       "  <tbody>\n",
       "    <tr>\n",
       "      <th>2</th>\n",
       "      <td>4ft3gnwmtx</td>\n",
       "      <td>2010-09-28</td>\n",
       "      <td>20090609231247</td>\n",
       "      <td>2010-08-02</td>\n",
       "      <td>FEMALE</td>\n",
       "      <td>56.0</td>\n",
       "      <td>basic</td>\n",
       "      <td>3</td>\n",
       "      <td>en</td>\n",
       "      <td>direct</td>\n",
       "      <td>direct</td>\n",
       "      <td>untracked</td>\n",
       "      <td>Web</td>\n",
       "      <td>Windows Desktop</td>\n",
       "      <td>IE</td>\n",
       "      <td>US</td>\n",
       "    </tr>\n",
       "    <tr>\n",
       "      <th>3</th>\n",
       "      <td>bjjt8pjhuk</td>\n",
       "      <td>2011-12-05</td>\n",
       "      <td>20091031060129</td>\n",
       "      <td>2012-09-08</td>\n",
       "      <td>FEMALE</td>\n",
       "      <td>42.0</td>\n",
       "      <td>facebook</td>\n",
       "      <td>0</td>\n",
       "      <td>en</td>\n",
       "      <td>direct</td>\n",
       "      <td>direct</td>\n",
       "      <td>untracked</td>\n",
       "      <td>Web</td>\n",
       "      <td>Mac Desktop</td>\n",
       "      <td>Firefox</td>\n",
       "      <td>other</td>\n",
       "    </tr>\n",
       "    <tr>\n",
       "      <th>4</th>\n",
       "      <td>87mebub9p4</td>\n",
       "      <td>2010-09-14</td>\n",
       "      <td>20091208061105</td>\n",
       "      <td>2010-02-18</td>\n",
       "      <td>-unknown-</td>\n",
       "      <td>41.0</td>\n",
       "      <td>basic</td>\n",
       "      <td>0</td>\n",
       "      <td>en</td>\n",
       "      <td>direct</td>\n",
       "      <td>direct</td>\n",
       "      <td>untracked</td>\n",
       "      <td>Web</td>\n",
       "      <td>Mac Desktop</td>\n",
       "      <td>Chrome</td>\n",
       "      <td>US</td>\n",
       "    </tr>\n",
       "    <tr>\n",
       "      <th>6</th>\n",
       "      <td>lsw9q7uk0j</td>\n",
       "      <td>2010-01-02</td>\n",
       "      <td>20100102012558</td>\n",
       "      <td>2010-01-05</td>\n",
       "      <td>FEMALE</td>\n",
       "      <td>46.0</td>\n",
       "      <td>basic</td>\n",
       "      <td>0</td>\n",
       "      <td>en</td>\n",
       "      <td>other</td>\n",
       "      <td>craigslist</td>\n",
       "      <td>untracked</td>\n",
       "      <td>Web</td>\n",
       "      <td>Mac Desktop</td>\n",
       "      <td>Safari</td>\n",
       "      <td>US</td>\n",
       "    </tr>\n",
       "    <tr>\n",
       "      <th>7</th>\n",
       "      <td>0d01nltbrs</td>\n",
       "      <td>2010-01-03</td>\n",
       "      <td>20100103191905</td>\n",
       "      <td>2010-01-13</td>\n",
       "      <td>FEMALE</td>\n",
       "      <td>47.0</td>\n",
       "      <td>basic</td>\n",
       "      <td>0</td>\n",
       "      <td>en</td>\n",
       "      <td>direct</td>\n",
       "      <td>direct</td>\n",
       "      <td>omg</td>\n",
       "      <td>Web</td>\n",
       "      <td>Mac Desktop</td>\n",
       "      <td>Safari</td>\n",
       "      <td>US</td>\n",
       "    </tr>\n",
       "  </tbody>\n",
       "</table>\n",
       "</div>"
      ],
      "text/plain": [
       "           id date_account_created  timestamp_first_active date_first_booking  \\\n",
       "2  4ft3gnwmtx           2010-09-28          20090609231247         2010-08-02   \n",
       "3  bjjt8pjhuk           2011-12-05          20091031060129         2012-09-08   \n",
       "4  87mebub9p4           2010-09-14          20091208061105         2010-02-18   \n",
       "6  lsw9q7uk0j           2010-01-02          20100102012558         2010-01-05   \n",
       "7  0d01nltbrs           2010-01-03          20100103191905         2010-01-13   \n",
       "\n",
       "      gender   age signup_method  signup_flow language affiliate_channel  \\\n",
       "2     FEMALE  56.0         basic            3       en            direct   \n",
       "3     FEMALE  42.0      facebook            0       en            direct   \n",
       "4  -unknown-  41.0         basic            0       en            direct   \n",
       "6     FEMALE  46.0         basic            0       en             other   \n",
       "7     FEMALE  47.0         basic            0       en            direct   \n",
       "\n",
       "  affiliate_provider first_affiliate_tracked signup_app first_device_type  \\\n",
       "2             direct               untracked        Web   Windows Desktop   \n",
       "3             direct               untracked        Web       Mac Desktop   \n",
       "4             direct               untracked        Web       Mac Desktop   \n",
       "6         craigslist               untracked        Web       Mac Desktop   \n",
       "7             direct                     omg        Web       Mac Desktop   \n",
       "\n",
       "  first_browser country_destination  \n",
       "2            IE                  US  \n",
       "3       Firefox               other  \n",
       "4        Chrome                  US  \n",
       "6        Safari                  US  \n",
       "7        Safari                  US  "
      ]
     },
     "execution_count": 8,
     "metadata": {},
     "output_type": "execute_result"
    }
   ],
   "source": [
    "df1.head()"
   ]
  },
  {
   "cell_type": "markdown",
   "id": "9dc8f034",
   "metadata": {},
   "source": [
    "### 1.3.1. Change DTypes"
   ]
  },
  {
   "cell_type": "code",
   "execution_count": 9,
   "id": "f0dfdda5",
   "metadata": {
    "ExecuteTime": {
     "end_time": "2023-02-12T17:01:24.987303Z",
     "start_time": "2023-02-12T17:01:24.534535Z"
    }
   },
   "outputs": [],
   "source": [
    "# date_account_created\n",
    "df1['date_account_created'] = pd.to_datetime(df1['date_account_created'])\n",
    "\n",
    "# timestamp_first_active\n",
    "df1['timestamp_first_active'] = pd.to_datetime(df1['timestamp_first_active'], format='%Y%m%d%H%M%S')\n",
    "\n",
    "# date_first_booking \n",
    "df1['date_first_booking'] = pd.to_datetime(df1['date_first_booking'])\n",
    "\n",
    "# age\n",
    "df1['age'] = df1['age'].astype('int')"
   ]
  },
  {
   "cell_type": "markdown",
   "id": "dbd20b4b",
   "metadata": {
    "heading_collapsed": true
   },
   "source": [
    "## 1.4. Check Balanced Data"
   ]
  },
  {
   "cell_type": "code",
   "execution_count": 10,
   "id": "6a5506bf",
   "metadata": {
    "ExecuteTime": {
     "end_time": "2023-02-12T17:01:25.011864Z",
     "start_time": "2023-02-12T17:01:24.993520Z"
    },
    "hidden": true
   },
   "outputs": [
    {
     "data": {
      "text/plain": [
       "US       0.708864\n",
       "other    0.110854\n",
       "FR       0.054085\n",
       "IT       0.029763\n",
       "GB       0.025935\n",
       "ES       0.024864\n",
       "CA       0.015696\n",
       "DE       0.012454\n",
       "NL       0.008801\n",
       "AU       0.006366\n",
       "PT       0.002318\n",
       "Name: country_destination, dtype: float64"
      ]
     },
     "execution_count": 10,
     "metadata": {},
     "output_type": "execute_result"
    }
   ],
   "source": [
    "df1['country_destination'].value_counts(normalize=True)"
   ]
  },
  {
   "cell_type": "markdown",
   "id": "50ef182b",
   "metadata": {
    "ExecuteTime": {
     "end_time": "2023-01-25T23:12:58.072519Z",
     "start_time": "2023-01-25T23:12:54.813859Z"
    },
    "heading_collapsed": true
   },
   "source": [
    "# 2.0. Data Filtering"
   ]
  },
  {
   "cell_type": "code",
   "execution_count": 11,
   "id": "a39e842e",
   "metadata": {
    "ExecuteTime": {
     "end_time": "2023-02-12T17:01:26.001336Z",
     "start_time": "2023-02-12T17:01:25.015488Z"
    },
    "hidden": true
   },
   "outputs": [],
   "source": [
    "df2 = df1.copy()"
   ]
  },
  {
   "cell_type": "code",
   "execution_count": 12,
   "id": "ebd87c0c",
   "metadata": {
    "ExecuteTime": {
     "end_time": "2023-02-12T17:01:26.074159Z",
     "start_time": "2023-02-12T17:01:26.006730Z"
    },
    "hidden": true
   },
   "outputs": [],
   "source": [
    "# check in next cycle"
   ]
  },
  {
   "cell_type": "markdown",
   "id": "54242660",
   "metadata": {
    "ExecuteTime": {
     "end_time": "2023-01-25T23:12:58.072519Z",
     "start_time": "2023-01-25T23:12:54.813859Z"
    },
    "heading_collapsed": true
   },
   "source": [
    "# 3.0. Data Preparation"
   ]
  },
  {
   "cell_type": "code",
   "execution_count": 13,
   "id": "fe853cd4",
   "metadata": {
    "ExecuteTime": {
     "end_time": "2023-02-12T17:01:26.186772Z",
     "start_time": "2023-02-12T17:01:26.077174Z"
    },
    "hidden": true
   },
   "outputs": [],
   "source": [
    "df3 = df2.copy()"
   ]
  },
  {
   "cell_type": "code",
   "execution_count": 14,
   "id": "eedc101d",
   "metadata": {
    "ExecuteTime": {
     "end_time": "2023-02-12T17:01:26.390097Z",
     "start_time": "2023-02-12T17:01:26.191462Z"
    },
    "hidden": true
   },
   "outputs": [],
   "source": [
    "# dummy variables\n",
    "df3_dummy = pd.get_dummies(df3.drop(['id', 'country_destination'], axis=1))\n",
    "\n",
    "# join id and country destination\n",
    "df3 = pd.concat([df3[['id', 'country_destination']], df3_dummy], axis=1)"
   ]
  },
  {
   "cell_type": "code",
   "execution_count": 15,
   "id": "b5abc698",
   "metadata": {
    "ExecuteTime": {
     "end_time": "2023-02-12T17:01:26.395678Z",
     "start_time": "2023-02-12T17:01:26.392471Z"
    },
    "hidden": true
   },
   "outputs": [],
   "source": [
    "# check in next cycle"
   ]
  },
  {
   "cell_type": "markdown",
   "id": "f0146879",
   "metadata": {
    "ExecuteTime": {
     "end_time": "2023-01-25T23:12:58.072519Z",
     "start_time": "2023-01-25T23:12:54.813859Z"
    }
   },
   "source": [
    "# 4.0. Feature Selection"
   ]
  },
  {
   "cell_type": "code",
   "execution_count": 16,
   "id": "bee04c22",
   "metadata": {
    "ExecuteTime": {
     "end_time": "2023-02-12T17:01:26.508697Z",
     "start_time": "2023-02-12T17:01:26.399011Z"
    }
   },
   "outputs": [],
   "source": [
    "# drop columns\n",
    "cols_drop = ['date_account_created', 'timestamp_first_active', 'date_first_booking']\n",
    "df4 = df3.drop(cols_drop, axis=1)"
   ]
  },
  {
   "cell_type": "code",
   "execution_count": 17,
   "id": "9e632e2e",
   "metadata": {
    "ExecuteTime": {
     "end_time": "2023-02-12T17:01:26.628716Z",
     "start_time": "2023-02-12T17:01:26.511406Z"
    }
   },
   "outputs": [],
   "source": [
    "# split dataset into features and target\n",
    "X = df4.drop('country_destination', axis=1)\n",
    "y = df4['country_destination']"
   ]
  },
  {
   "cell_type": "code",
   "execution_count": 18,
   "id": "bb83c4ee",
   "metadata": {
    "ExecuteTime": {
     "end_time": "2023-02-12T17:01:26.778310Z",
     "start_time": "2023-02-12T17:01:26.635815Z"
    }
   },
   "outputs": [],
   "source": [
    "# split dataset into train and test\n",
    "X_train, X_test, y_train, y_test = ms.train_test_split(X, y, test_size=0.2, random_state=42)"
   ]
  },
  {
   "cell_type": "markdown",
   "id": "0ba8bc77",
   "metadata": {
    "ExecuteTime": {
     "end_time": "2023-01-25T23:12:58.072519Z",
     "start_time": "2023-01-25T23:12:54.813859Z"
    }
   },
   "source": [
    "# 5.0. Machine Learning Model"
   ]
  },
  {
   "cell_type": "code",
   "execution_count": 19,
   "id": "6b869d03",
   "metadata": {
    "ExecuteTime": {
     "end_time": "2023-02-12T17:01:26.831282Z",
     "start_time": "2023-02-12T17:01:26.781784Z"
    }
   },
   "outputs": [],
   "source": [
    "# drop id\n",
    "x_train = X_train.drop('id', axis=1)\n",
    "x_test = X_test.drop('id', axis=1)"
   ]
  },
  {
   "cell_type": "markdown",
   "id": "4332d938",
   "metadata": {},
   "source": [
    "## 5.1. Baseline Model"
   ]
  },
  {
   "cell_type": "code",
   "execution_count": 20,
   "id": "8871fe5a",
   "metadata": {
    "ExecuteTime": {
     "end_time": "2023-02-12T17:01:26.979972Z",
     "start_time": "2023-02-12T17:01:26.834653Z"
    }
   },
   "outputs": [],
   "source": [
    "country_dest_list = df4['country_destination'].drop_duplicates().sort_values().tolist()\n",
    "country_dest_weights = df4['country_destination'].value_counts(normalize=True).sort_index().tolist()\n",
    "k_num = y_test.shape[0]\n",
    "\n",
    "# random model\n",
    "yhat_random = random.choices(population=country_dest_list, \n",
    "                             weights=country_dest_weights,\n",
    "                             k=k_num)"
   ]
  },
  {
   "cell_type": "code",
   "execution_count": 21,
   "id": "19ce4095",
   "metadata": {
    "ExecuteTime": {
     "end_time": "2023-02-12T17:01:29.005100Z",
     "start_time": "2023-02-12T17:01:26.983186Z"
    }
   },
   "outputs": [
    {
     "name": "stdout",
     "output_type": "stream",
     "text": [
      "Accurary: 0.5267\n",
      "Balanced Accurary: 0.0915\n",
      "Kappa Score: 0.0010\n",
      "              precision    recall  f1-score   support\n",
      "\n",
      "          AU       0.00      0.00      0.00        90\n",
      "          CA       0.02      0.02      0.02       210\n",
      "          DE       0.00      0.00      0.00       176\n",
      "          ES       0.03      0.03      0.03       344\n",
      "          FR       0.08      0.07      0.08       742\n",
      "          GB       0.03      0.03      0.03       356\n",
      "          IT       0.03      0.03      0.03       399\n",
      "          NL       0.01      0.01      0.01       107\n",
      "          PT       0.00      0.00      0.00        26\n",
      "          US       0.71      0.72      0.71      9704\n",
      "       other       0.10      0.10      0.10      1481\n",
      "\n",
      "    accuracy                           0.53     13635\n",
      "   macro avg       0.09      0.09      0.09     13635\n",
      "weighted avg       0.52      0.53      0.53     13635\n",
      "\n"
     ]
    },
    {
     "data": {
      "text/plain": [
       "<AxesSubplot: title={'center': 'Confusion Matrix'}, xlabel='Predicted label', ylabel='True label'>"
      ]
     },
     "execution_count": 21,
     "metadata": {},
     "output_type": "execute_result"
    },
    {
     "data": {
      "image/png": "[encoded data removed]",
      "text/plain": [
       "<Figure size 1200x1200 with 2 Axes>"
      ]
     },
     "metadata": {},
     "output_type": "display_data"
    }
   ],
   "source": [
    "# accuracy\n",
    "acc_random = m.accuracy_score(y_test, yhat_random)\n",
    "print('Accurary: {:.4f}'.format(acc_random))\n",
    "\n",
    "# balanced accuracy\n",
    "balanced_acc_random = m.balanced_accuracy_score(y_test, yhat_random)\n",
    "print('Balanced Accurary: {:.4f}'.format(balanced_acc_random))\n",
    "\n",
    "# kappa score\n",
    "kappa_random = m.cohen_kappa_score(y_test, yhat_random)\n",
    "print('Kappa Score: {:.4f}'.format(kappa_random))\n",
    "\n",
    "# classification report\n",
    "print(m.classification_report(y_test, yhat_random))\n",
    "\n",
    "# confusion matrix\n",
    "mt.plot_confusion_matrix(y_test, yhat_random, normalize=False, figsize=(12, 12))"
   ]
  },
  {
   "cell_type": "markdown",
   "id": "98902ec7",
   "metadata": {},
   "source": [
    "## 5.2. Neural Network - MLP"
   ]
  },
  {
   "cell_type": "code",
   "execution_count": 22,
   "id": "dd70cd1f",
   "metadata": {
    "ExecuteTime": {
     "end_time": "2023-02-12T17:01:29.132178Z",
     "start_time": "2023-02-12T17:01:29.007555Z"
    }
   },
   "outputs": [],
   "source": [
    "# transform y_train in dummy to use in the neural network\n",
    "ohe = pp.OneHotEncoder()\n",
    "y_train_nn = ohe.fit_transform(y_train.values.reshape(-1, 1)).toarray()"
   ]
  },
  {
   "cell_type": "code",
   "execution_count": 23,
   "id": "485c1b7f",
   "metadata": {
    "ExecuteTime": {
     "end_time": "2023-02-12T17:06:57.211626Z",
     "start_time": "2023-02-12T17:01:29.137273Z"
    }
   },
   "outputs": [
    {
     "name": "stderr",
     "output_type": "stream",
     "text": [
      "2023-02-12 14:01:29.421062: W tensorflow/compiler/xla/stream_executor/platform/default/dso_loader.cc:64] Could not load dynamic library 'libcuda.so.1'; dlerror: libcuda.so.1: cannot open shared object file: No such file or directory\n",
      "2023-02-12 14:01:29.427662: W tensorflow/compiler/xla/stream_executor/cuda/cuda_driver.cc:265] failed call to cuInit: UNKNOWN ERROR (303)\n",
      "2023-02-12 14:01:29.427695: I tensorflow/compiler/xla/stream_executor/cuda/cuda_diagnostics.cc:169] retrieving CUDA diagnostic information for host: q550lf\n",
      "2023-02-12 14:01:29.427702: I tensorflow/compiler/xla/stream_executor/cuda/cuda_diagnostics.cc:176] hostname: q550lf\n",
      "2023-02-12 14:01:29.427803: I tensorflow/compiler/xla/stream_executor/cuda/cuda_diagnostics.cc:200] libcuda reported version is: NOT_FOUND: was unable to find libcuda.so DSO loaded into this program\n",
      "2023-02-12 14:01:29.427838: I tensorflow/compiler/xla/stream_executor/cuda/cuda_diagnostics.cc:204] kernel reported version is: 470.161.3\n",
      "2023-02-12 14:01:29.472490: I tensorflow/core/platform/cpu_feature_guard.cc:193] This TensorFlow binary is optimized with oneAPI Deep Neural Network Library (oneDNN) to use the following CPU instructions in performance-critical operations:  AVX2 FMA\n",
      "To enable them in other operations, rebuild TensorFlow with the appropriate compiler flags.\n"
     ]
    },
    {
     "name": "stdout",
     "output_type": "stream",
     "text": [
      "Epoch 1/100\n",
      "1705/1705 [==============================] - 5s 2ms/step - loss: 1.3438 - accuracy: 0.7023\n",
      "Epoch 2/100\n",
      "1705/1705 [==============================] - 3s 2ms/step - loss: 1.2767 - accuracy: 0.7057\n",
      "Epoch 3/100\n",
      "1705/1705 [==============================] - 3s 2ms/step - loss: 1.2390 - accuracy: 0.7068\n",
      "Epoch 4/100\n",
      "1705/1705 [==============================] - 3s 2ms/step - loss: 1.2122 - accuracy: 0.7067\n",
      "Epoch 5/100\n",
      "1705/1705 [==============================] - 3s 2ms/step - loss: 1.1875 - accuracy: 0.7070\n",
      "Epoch 6/100\n",
      "1705/1705 [==============================] - 3s 2ms/step - loss: 1.1775 - accuracy: 0.7070\n",
      "Epoch 7/100\n",
      "1705/1705 [==============================] - 4s 2ms/step - loss: 1.1613 - accuracy: 0.7071\n",
      "Epoch 8/100\n",
      "1705/1705 [==============================] - 3s 2ms/step - loss: 1.1510 - accuracy: 0.7073\n",
      "Epoch 9/100\n",
      "1705/1705 [==============================] - 3s 2ms/step - loss: 1.1456 - accuracy: 0.7075\n",
      "Epoch 10/100\n",
      "1705/1705 [==============================] - 3s 2ms/step - loss: 1.1412 - accuracy: 0.7077\n",
      "Epoch 11/100\n",
      "1705/1705 [==============================] - 3s 2ms/step - loss: 1.1384 - accuracy: 0.7082\n",
      "Epoch 12/100\n",
      "1705/1705 [==============================] - 3s 2ms/step - loss: 1.1384 - accuracy: 0.7080\n",
      "Epoch 13/100\n",
      "1705/1705 [==============================] - 3s 2ms/step - loss: 1.1368 - accuracy: 0.7081\n",
      "Epoch 14/100\n",
      "1705/1705 [==============================] - 3s 2ms/step - loss: 1.1357 - accuracy: 0.7081\n",
      "Epoch 15/100\n",
      "1705/1705 [==============================] - 3s 2ms/step - loss: 1.1354 - accuracy: 0.7082\n",
      "Epoch 16/100\n",
      "1705/1705 [==============================] - 3s 2ms/step - loss: 1.1349 - accuracy: 0.7082\n",
      "Epoch 17/100\n",
      "1705/1705 [==============================] - 3s 2ms/step - loss: 1.1330 - accuracy: 0.7083\n",
      "Epoch 18/100\n",
      "1705/1705 [==============================] - 3s 2ms/step - loss: 1.1316 - accuracy: 0.7082\n",
      "Epoch 19/100\n",
      "1705/1705 [==============================] - 3s 2ms/step - loss: 1.1315 - accuracy: 0.7083\n",
      "Epoch 20/100\n",
      "1705/1705 [==============================] - 3s 2ms/step - loss: 1.1298 - accuracy: 0.7083\n",
      "Epoch 21/100\n",
      "1705/1705 [==============================] - 3s 2ms/step - loss: 1.1292 - accuracy: 0.7084\n",
      "Epoch 22/100\n",
      "1705/1705 [==============================] - 3s 2ms/step - loss: 1.1295 - accuracy: 0.7082\n",
      "Epoch 23/100\n",
      "1705/1705 [==============================] - 4s 2ms/step - loss: 1.1279 - accuracy: 0.7083\n",
      "Epoch 24/100\n",
      "1705/1705 [==============================] - 4s 2ms/step - loss: 1.1270 - accuracy: 0.7084\n",
      "Epoch 25/100\n",
      "1705/1705 [==============================] - 4s 2ms/step - loss: 1.1260 - accuracy: 0.7085\n",
      "Epoch 26/100\n",
      "1705/1705 [==============================] - 4s 2ms/step - loss: 1.1253 - accuracy: 0.7084\n",
      "Epoch 27/100\n",
      "1705/1705 [==============================] - 4s 2ms/step - loss: 1.1261 - accuracy: 0.7083\n",
      "Epoch 28/100\n",
      "1705/1705 [==============================] - 4s 2ms/step - loss: 1.1252 - accuracy: 0.7085\n",
      "Epoch 29/100\n",
      "1705/1705 [==============================] - 4s 2ms/step - loss: 1.1230 - accuracy: 0.7085\n",
      "Epoch 30/100\n",
      "1705/1705 [==============================] - 4s 2ms/step - loss: 1.1233 - accuracy: 0.7085\n",
      "Epoch 31/100\n",
      "1705/1705 [==============================] - 4s 2ms/step - loss: 1.1218 - accuracy: 0.7085\n",
      "Epoch 32/100\n",
      "1705/1705 [==============================] - 4s 2ms/step - loss: 1.1213 - accuracy: 0.7087\n",
      "Epoch 33/100\n",
      "1705/1705 [==============================] - 3s 2ms/step - loss: 1.1205 - accuracy: 0.7086\n",
      "Epoch 34/100\n",
      "1705/1705 [==============================] - 3s 2ms/step - loss: 1.1201 - accuracy: 0.7086\n",
      "Epoch 35/100\n",
      "1705/1705 [==============================] - 4s 2ms/step - loss: 1.1197 - accuracy: 0.7087\n",
      "Epoch 36/100\n",
      "1705/1705 [==============================] - 3s 2ms/step - loss: 1.1204 - accuracy: 0.7088\n",
      "Epoch 37/100\n",
      "1705/1705 [==============================] - 4s 2ms/step - loss: 1.1197 - accuracy: 0.7088\n",
      "Epoch 38/100\n",
      "1705/1705 [==============================] - 3s 2ms/step - loss: 1.1183 - accuracy: 0.7088\n",
      "Epoch 39/100\n",
      "1705/1705 [==============================] - 3s 2ms/step - loss: 1.1175 - accuracy: 0.7088\n",
      "Epoch 40/100\n",
      "1705/1705 [==============================] - 3s 2ms/step - loss: 1.1172 - accuracy: 0.7088\n",
      "Epoch 41/100\n",
      "1705/1705 [==============================] - 4s 2ms/step - loss: 1.1162 - accuracy: 0.7091\n",
      "Epoch 42/100\n",
      "1705/1705 [==============================] - 3s 2ms/step - loss: 1.1166 - accuracy: 0.7091\n",
      "Epoch 43/100\n",
      "1705/1705 [==============================] - 3s 2ms/step - loss: 1.1166 - accuracy: 0.7091\n",
      "Epoch 44/100\n",
      "1705/1705 [==============================] - 3s 2ms/step - loss: 1.1154 - accuracy: 0.7091\n",
      "Epoch 45/100\n",
      "1705/1705 [==============================] - 4s 2ms/step - loss: 1.1152 - accuracy: 0.7089\n",
      "Epoch 46/100\n",
      "1705/1705 [==============================] - 4s 2ms/step - loss: 1.1147 - accuracy: 0.7090\n",
      "Epoch 47/100\n",
      "1705/1705 [==============================] - 4s 2ms/step - loss: 1.1140 - accuracy: 0.7093\n",
      "Epoch 48/100\n",
      "1705/1705 [==============================] - 3s 2ms/step - loss: 1.1136 - accuracy: 0.7090\n",
      "Epoch 49/100\n",
      "1705/1705 [==============================] - 3s 2ms/step - loss: 1.1124 - accuracy: 0.7091\n",
      "Epoch 50/100\n",
      "1705/1705 [==============================] - 3s 2ms/step - loss: 1.1125 - accuracy: 0.7092\n",
      "Epoch 51/100\n",
      "1705/1705 [==============================] - 3s 2ms/step - loss: 1.1127 - accuracy: 0.7093\n",
      "Epoch 52/100\n",
      "1705/1705 [==============================] - 3s 2ms/step - loss: 1.1117 - accuracy: 0.7093\n",
      "Epoch 53/100\n",
      "1705/1705 [==============================] - 3s 2ms/step - loss: 1.1126 - accuracy: 0.7096\n",
      "Epoch 54/100\n",
      "1705/1705 [==============================] - 3s 2ms/step - loss: 1.1123 - accuracy: 0.7093\n",
      "Epoch 55/100\n",
      "1705/1705 [==============================] - 3s 2ms/step - loss: 1.1117 - accuracy: 0.7095\n",
      "Epoch 56/100\n",
      "1705/1705 [==============================] - 3s 2ms/step - loss: 1.1106 - accuracy: 0.7096\n",
      "Epoch 57/100\n",
      "1705/1705 [==============================] - 3s 2ms/step - loss: 1.1107 - accuracy: 0.7093\n",
      "Epoch 58/100\n",
      "1705/1705 [==============================] - 3s 2ms/step - loss: 1.1104 - accuracy: 0.7095\n",
      "Epoch 59/100\n",
      "1705/1705 [==============================] - 3s 2ms/step - loss: 1.1095 - accuracy: 0.7094\n",
      "Epoch 60/100\n",
      "1705/1705 [==============================] - 3s 2ms/step - loss: 1.1096 - accuracy: 0.7096\n",
      "Epoch 61/100\n",
      "1705/1705 [==============================] - 3s 2ms/step - loss: 1.1093 - accuracy: 0.7095\n",
      "Epoch 62/100\n",
      "1705/1705 [==============================] - 3s 2ms/step - loss: 1.1084 - accuracy: 0.7099\n",
      "Epoch 63/100\n",
      "1705/1705 [==============================] - 3s 2ms/step - loss: 1.1080 - accuracy: 0.7098\n",
      "Epoch 64/100\n",
      "1705/1705 [==============================] - 3s 2ms/step - loss: 1.1087 - accuracy: 0.7096\n",
      "Epoch 65/100\n",
      "1705/1705 [==============================] - 3s 2ms/step - loss: 1.1071 - accuracy: 0.7098\n",
      "Epoch 66/100\n",
      "1705/1705 [==============================] - 4s 2ms/step - loss: 1.1077 - accuracy: 0.7097\n",
      "Epoch 67/100\n",
      "1705/1705 [==============================] - 3s 2ms/step - loss: 1.1073 - accuracy: 0.7095\n",
      "Epoch 68/100\n",
      "1705/1705 [==============================] - 3s 2ms/step - loss: 1.1062 - accuracy: 0.7099\n",
      "Epoch 69/100\n",
      "1705/1705 [==============================] - 3s 2ms/step - loss: 1.1070 - accuracy: 0.7099\n",
      "Epoch 70/100\n",
      "1705/1705 [==============================] - 3s 2ms/step - loss: 1.1062 - accuracy: 0.7101\n",
      "Epoch 71/100\n",
      "1705/1705 [==============================] - 3s 2ms/step - loss: 1.1056 - accuracy: 0.7099\n",
      "Epoch 72/100\n",
      "1705/1705 [==============================] - 3s 2ms/step - loss: 1.1059 - accuracy: 0.7097\n",
      "Epoch 73/100\n",
      "1705/1705 [==============================] - 3s 2ms/step - loss: 1.1054 - accuracy: 0.7101\n",
      "Epoch 74/100\n",
      "1705/1705 [==============================] - 3s 2ms/step - loss: 1.1059 - accuracy: 0.7101\n",
      "Epoch 75/100\n",
      "1705/1705 [==============================] - 3s 2ms/step - loss: 1.1048 - accuracy: 0.7101\n",
      "Epoch 76/100\n",
      "1705/1705 [==============================] - 3s 2ms/step - loss: 1.1044 - accuracy: 0.7101\n",
      "Epoch 77/100\n",
      "1705/1705 [==============================] - 3s 2ms/step - loss: 1.1045 - accuracy: 0.7099\n",
      "Epoch 78/100\n",
      "1705/1705 [==============================] - 4s 2ms/step - loss: 1.1041 - accuracy: 0.7102\n",
      "Epoch 79/100\n"
     ]
    },
    {
     "name": "stdout",
     "output_type": "stream",
     "text": [
      "1705/1705 [==============================] - 4s 2ms/step - loss: 1.1040 - accuracy: 0.7103\n",
      "Epoch 80/100\n",
      "1705/1705 [==============================] - 4s 2ms/step - loss: 1.1038 - accuracy: 0.7099\n",
      "Epoch 81/100\n",
      "1705/1705 [==============================] - 4s 2ms/step - loss: 1.1038 - accuracy: 0.7100\n",
      "Epoch 82/100\n",
      "1705/1705 [==============================] - 4s 2ms/step - loss: 1.1031 - accuracy: 0.7102\n",
      "Epoch 83/100\n",
      "1705/1705 [==============================] - 4s 2ms/step - loss: 1.1028 - accuracy: 0.7103\n",
      "Epoch 84/100\n",
      "1705/1705 [==============================] - 4s 2ms/step - loss: 1.1027 - accuracy: 0.7101\n",
      "Epoch 85/100\n",
      "1705/1705 [==============================] - 4s 2ms/step - loss: 1.1025 - accuracy: 0.7103\n",
      "Epoch 86/100\n",
      "1705/1705 [==============================] - 4s 2ms/step - loss: 1.1024 - accuracy: 0.7102\n",
      "Epoch 87/100\n",
      "1705/1705 [==============================] - 4s 2ms/step - loss: 1.1020 - accuracy: 0.7104\n",
      "Epoch 88/100\n",
      "1705/1705 [==============================] - 4s 3ms/step - loss: 1.1021 - accuracy: 0.7104\n",
      "Epoch 89/100\n",
      "1705/1705 [==============================] - 4s 2ms/step - loss: 1.1020 - accuracy: 0.7103\n",
      "Epoch 90/100\n",
      "1705/1705 [==============================] - 4s 2ms/step - loss: 1.1015 - accuracy: 0.7103\n",
      "Epoch 91/100\n",
      "1705/1705 [==============================] - 4s 2ms/step - loss: 1.1013 - accuracy: 0.7100\n",
      "Epoch 92/100\n",
      "1705/1705 [==============================] - 4s 2ms/step - loss: 1.1013 - accuracy: 0.7103\n",
      "Epoch 93/100\n",
      "1705/1705 [==============================] - 3s 2ms/step - loss: 1.1009 - accuracy: 0.7107\n",
      "Epoch 94/100\n",
      "1705/1705 [==============================] - 3s 2ms/step - loss: 1.1009 - accuracy: 0.7104\n",
      "Epoch 95/100\n",
      "1705/1705 [==============================] - 3s 2ms/step - loss: 1.0998 - accuracy: 0.7106\n",
      "Epoch 96/100\n",
      "1705/1705 [==============================] - 3s 2ms/step - loss: 1.1005 - accuracy: 0.7101\n",
      "Epoch 97/100\n",
      "1705/1705 [==============================] - 3s 2ms/step - loss: 1.1003 - accuracy: 0.7104\n",
      "Epoch 98/100\n",
      "1705/1705 [==============================] - 3s 2ms/step - loss: 1.0999 - accuracy: 0.7104\n",
      "Epoch 99/100\n",
      "1705/1705 [==============================] - 3s 2ms/step - loss: 1.1002 - accuracy: 0.7105\n",
      "Epoch 100/100\n",
      "1705/1705 [==============================] - 3s 2ms/step - loss: 1.0998 - accuracy: 0.7106\n"
     ]
    },
    {
     "data": {
      "text/plain": [
       "<keras.callbacks.History at 0x7fb9ce1daf10>"
      ]
     },
     "execution_count": 23,
     "metadata": {},
     "output_type": "execute_result"
    }
   ],
   "source": [
    "# model definition\n",
    "model = ml.Sequential()\n",
    "model.add(l.Dense(128, input_dim=x_train.shape[1], activation='relu'))\n",
    "model.add(l.Dense(11, activation='softmax'))\n",
    "\n",
    "# model compile\n",
    "model.compile(loss='categorical_crossentropy', optimizer='adam', metrics=['accuracy'])\n",
    "\n",
    "# train model\n",
    "model.fit(x_train, y_train_nn, epochs=100)"
   ]
  },
  {
   "cell_type": "markdown",
   "id": "652b521b",
   "metadata": {
    "ExecuteTime": {
     "end_time": "2023-01-25T23:12:58.072519Z",
     "start_time": "2023-01-25T23:12:54.813859Z"
    }
   },
   "source": [
    "### 5.2.3. NN Performance"
   ]
  },
  {
   "cell_type": "code",
   "execution_count": 24,
   "id": "d199a961",
   "metadata": {
    "ExecuteTime": {
     "end_time": "2023-02-12T17:06:58.100968Z",
     "start_time": "2023-02-12T17:06:57.213792Z"
    }
   },
   "outputs": [
    {
     "name": "stdout",
     "output_type": "stream",
     "text": [
      "427/427 [==============================] - 1s 1ms/step\n"
     ]
    }
   ],
   "source": [
    "# prediction\n",
    "pred_nn = model.predict(x_test)\n",
    "\n",
    "# invert prediction\n",
    "yhat_nn = ohe.inverse_transform(pred_nn)\n",
    "\n",
    "# prediction prepare\n",
    "y_test_nn = y_test.to_numpy()\n",
    "yhat_nn = yhat_nn.reshape(1, -1)[0]"
   ]
  },
  {
   "cell_type": "code",
   "execution_count": 25,
   "id": "960b9754",
   "metadata": {
    "ExecuteTime": {
     "end_time": "2023-02-12T17:06:59.542233Z",
     "start_time": "2023-02-12T17:06:58.104432Z"
    }
   },
   "outputs": [
    {
     "name": "stdout",
     "output_type": "stream",
     "text": [
      "Accurary: 0.7104\n",
      "Balanced Accurary: 0.0914\n",
      "Kappa Score: 0.0013\n"
     ]
    },
    {
     "name": "stderr",
     "output_type": "stream",
     "text": [
      "/home/felipe/repos/ds_em_classificacao/airbnb_env/lib/python3.9/site-packages/sklearn/metrics/_classification.py:1344: UndefinedMetricWarning: Precision and F-score are ill-defined and being set to 0.0 in labels with no predicted samples. Use `zero_division` parameter to control this behavior.\n",
      "  _warn_prf(average, modifier, msg_start, len(result))\n",
      "/home/felipe/repos/ds_em_classificacao/airbnb_env/lib/python3.9/site-packages/sklearn/metrics/_classification.py:1344: UndefinedMetricWarning: Precision and F-score are ill-defined and being set to 0.0 in labels with no predicted samples. Use `zero_division` parameter to control this behavior.\n",
      "  _warn_prf(average, modifier, msg_start, len(result))\n",
      "/home/felipe/repos/ds_em_classificacao/airbnb_env/lib/python3.9/site-packages/sklearn/metrics/_classification.py:1344: UndefinedMetricWarning: Precision and F-score are ill-defined and being set to 0.0 in labels with no predicted samples. Use `zero_division` parameter to control this behavior.\n",
      "  _warn_prf(average, modifier, msg_start, len(result))\n"
     ]
    },
    {
     "name": "stdout",
     "output_type": "stream",
     "text": [
      "              precision    recall  f1-score   support\n",
      "\n",
      "          AU       0.00      0.00      0.00        90\n",
      "          CA       0.00      0.00      0.00       210\n",
      "          DE       0.00      0.00      0.00       176\n",
      "          ES       0.33      0.00      0.01       344\n",
      "          FR       0.25      0.00      0.00       742\n",
      "          GB       0.00      0.00      0.00       356\n",
      "          IT       0.00      0.00      0.00       399\n",
      "          NL       0.00      0.00      0.00       107\n",
      "          PT       0.00      0.00      0.00        26\n",
      "          US       0.71      1.00      0.83      9704\n",
      "       other       0.21      0.00      0.01      1481\n",
      "\n",
      "    accuracy                           0.71     13635\n",
      "   macro avg       0.14      0.09      0.08     13635\n",
      "weighted avg       0.55      0.71      0.59     13635\n",
      "\n"
     ]
    },
    {
     "data": {
      "text/plain": [
       "<AxesSubplot: title={'center': 'Confusion Matrix'}, xlabel='Predicted label', ylabel='True label'>"
      ]
     },
     "execution_count": 25,
     "metadata": {},
     "output_type": "execute_result"
    },
    {
     "data": {
      "image/png": "[encoded data removed]",
      "text/plain": [
       "<Figure size 1200x1200 with 2 Axes>"
      ]
     },
     "metadata": {},
     "output_type": "display_data"
    }
   ],
   "source": [
    "# accuracy\n",
    "acc_nn = m.accuracy_score(y_test_nn, yhat_nn)\n",
    "print('Accurary: {:.4f}'.format(acc_nn))\n",
    "\n",
    "# balanced accuracy\n",
    "balanced_acc_nn = m.balanced_accuracy_score(y_test_nn, yhat_nn)\n",
    "print('Balanced Accurary: {:.4f}'.format(balanced_acc_nn))\n",
    "\n",
    "# kappa score\n",
    "kappa_nn = m.cohen_kappa_score(y_test_nn, yhat_nn)\n",
    "print('Kappa Score: {:.4f}'.format(kappa_nn))\n",
    "\n",
    "# classification report\n",
    "print(m.classification_report(y_test_nn, yhat_nn))\n",
    "\n",
    "# confusion matrix\n",
    "mt.plot_confusion_matrix(y_test_nn, yhat_nn, normalize=False, figsize=(12, 12))\n"
   ]
  },
  {
   "cell_type": "markdown",
   "id": "2e76d6c4",
   "metadata": {},
   "source": [
    "# 6.0. CROSS VALIDATION"
   ]
  },
  {
   "cell_type": "markdown",
   "id": "b9924c41",
   "metadata": {},
   "source": [
    "## 6.1. NN Cros Validation"
   ]
  },
  {
   "cell_type": "code",
   "execution_count": 62,
   "id": "38a1c2e0",
   "metadata": {
    "ExecuteTime": {
     "end_time": "2023-02-12T19:14:02.952901Z",
     "start_time": "2023-02-12T19:09:59.280532Z"
    }
   },
   "outputs": [
    {
     "name": "stdout",
     "output_type": "stream",
     "text": [
      "Fold Number: 1/5\n",
      "341/341 [==============================] - 0s 1ms/step\n",
      "Fold Number: 2/5\n"
     ]
    },
    {
     "ename": "KeyboardInterrupt",
     "evalue": "",
     "output_type": "error",
     "traceback": [
      "\u001b[0;31m---------------------------------------------------------------------------\u001b[0m",
      "\u001b[0;31mKeyboardInterrupt\u001b[0m                         Traceback (most recent call last)",
      "Cell \u001b[0;32mIn[62], line 34\u001b[0m\n\u001b[1;32m     31\u001b[0m model\u001b[38;5;241m.\u001b[39mcompile(loss\u001b[38;5;241m=\u001b[39m\u001b[38;5;124m'\u001b[39m\u001b[38;5;124mcategorical_crossentropy\u001b[39m\u001b[38;5;124m'\u001b[39m, optimizer\u001b[38;5;241m=\u001b[39m\u001b[38;5;124m'\u001b[39m\u001b[38;5;124madam\u001b[39m\u001b[38;5;124m'\u001b[39m, metrics\u001b[38;5;241m=\u001b[39m[\u001b[38;5;124m'\u001b[39m\u001b[38;5;124maccuracy\u001b[39m\u001b[38;5;124m'\u001b[39m])\n\u001b[1;32m     33\u001b[0m \u001b[38;5;66;03m# training model\u001b[39;00m\n\u001b[0;32m---> 34\u001b[0m \u001b[43mmodel\u001b[49m\u001b[38;5;241;43m.\u001b[39;49m\u001b[43mfit\u001b[49m\u001b[43m(\u001b[49m\u001b[43mx_train_fold\u001b[49m\u001b[43m,\u001b[49m\u001b[43m \u001b[49m\u001b[43my_train_fold_nn\u001b[49m\u001b[43m,\u001b[49m\u001b[43m \u001b[49m\u001b[43mepochs\u001b[49m\u001b[38;5;241;43m=\u001b[39;49m\u001b[38;5;241;43m100\u001b[39;49m\u001b[43m,\u001b[49m\u001b[43m \u001b[49m\u001b[43mbatch_size\u001b[49m\u001b[38;5;241;43m=\u001b[39;49m\u001b[38;5;241;43m32\u001b[39;49m\u001b[43m,\u001b[49m\u001b[43m \u001b[49m\u001b[43mverbose\u001b[49m\u001b[38;5;241;43m=\u001b[39;49m\u001b[38;5;241;43m0\u001b[39;49m\u001b[43m)\u001b[49m\n\u001b[1;32m     36\u001b[0m \u001b[38;5;66;03m# prediction\u001b[39;00m\n\u001b[1;32m     37\u001b[0m pred_nn \u001b[38;5;241m=\u001b[39m model\u001b[38;5;241m.\u001b[39mpredict(x_val_fold)\n",
      "File \u001b[0;32m~/repos/ds_em_classificacao/airbnb_env/lib/python3.9/site-packages/keras/utils/traceback_utils.py:65\u001b[0m, in \u001b[0;36mfilter_traceback.<locals>.error_handler\u001b[0;34m(*args, **kwargs)\u001b[0m\n\u001b[1;32m     63\u001b[0m filtered_tb \u001b[38;5;241m=\u001b[39m \u001b[38;5;28;01mNone\u001b[39;00m\n\u001b[1;32m     64\u001b[0m \u001b[38;5;28;01mtry\u001b[39;00m:\n\u001b[0;32m---> 65\u001b[0m     \u001b[38;5;28;01mreturn\u001b[39;00m \u001b[43mfn\u001b[49m\u001b[43m(\u001b[49m\u001b[38;5;241;43m*\u001b[39;49m\u001b[43margs\u001b[49m\u001b[43m,\u001b[49m\u001b[43m \u001b[49m\u001b[38;5;241;43m*\u001b[39;49m\u001b[38;5;241;43m*\u001b[39;49m\u001b[43mkwargs\u001b[49m\u001b[43m)\u001b[49m\n\u001b[1;32m     66\u001b[0m \u001b[38;5;28;01mexcept\u001b[39;00m \u001b[38;5;167;01mException\u001b[39;00m \u001b[38;5;28;01mas\u001b[39;00m e:\n\u001b[1;32m     67\u001b[0m     filtered_tb \u001b[38;5;241m=\u001b[39m _process_traceback_frames(e\u001b[38;5;241m.\u001b[39m__traceback__)\n",
      "File \u001b[0;32m~/repos/ds_em_classificacao/airbnb_env/lib/python3.9/site-packages/keras/engine/training.py:1650\u001b[0m, in \u001b[0;36mModel.fit\u001b[0;34m(self, x, y, batch_size, epochs, verbose, callbacks, validation_split, validation_data, shuffle, class_weight, sample_weight, initial_epoch, steps_per_epoch, validation_steps, validation_batch_size, validation_freq, max_queue_size, workers, use_multiprocessing)\u001b[0m\n\u001b[1;32m   1642\u001b[0m \u001b[38;5;28;01mwith\u001b[39;00m tf\u001b[38;5;241m.\u001b[39mprofiler\u001b[38;5;241m.\u001b[39mexperimental\u001b[38;5;241m.\u001b[39mTrace(\n\u001b[1;32m   1643\u001b[0m     \u001b[38;5;124m\"\u001b[39m\u001b[38;5;124mtrain\u001b[39m\u001b[38;5;124m\"\u001b[39m,\n\u001b[1;32m   1644\u001b[0m     epoch_num\u001b[38;5;241m=\u001b[39mepoch,\n\u001b[0;32m   (...)\u001b[0m\n\u001b[1;32m   1647\u001b[0m     _r\u001b[38;5;241m=\u001b[39m\u001b[38;5;241m1\u001b[39m,\n\u001b[1;32m   1648\u001b[0m ):\n\u001b[1;32m   1649\u001b[0m     callbacks\u001b[38;5;241m.\u001b[39mon_train_batch_begin(step)\n\u001b[0;32m-> 1650\u001b[0m     tmp_logs \u001b[38;5;241m=\u001b[39m \u001b[38;5;28;43mself\u001b[39;49m\u001b[38;5;241;43m.\u001b[39;49m\u001b[43mtrain_function\u001b[49m\u001b[43m(\u001b[49m\u001b[43miterator\u001b[49m\u001b[43m)\u001b[49m\n\u001b[1;32m   1651\u001b[0m     \u001b[38;5;28;01mif\u001b[39;00m data_handler\u001b[38;5;241m.\u001b[39mshould_sync:\n\u001b[1;32m   1652\u001b[0m         context\u001b[38;5;241m.\u001b[39masync_wait()\n",
      "File \u001b[0;32m~/repos/ds_em_classificacao/airbnb_env/lib/python3.9/site-packages/tensorflow/python/util/traceback_utils.py:150\u001b[0m, in \u001b[0;36mfilter_traceback.<locals>.error_handler\u001b[0;34m(*args, **kwargs)\u001b[0m\n\u001b[1;32m    148\u001b[0m filtered_tb \u001b[38;5;241m=\u001b[39m \u001b[38;5;28;01mNone\u001b[39;00m\n\u001b[1;32m    149\u001b[0m \u001b[38;5;28;01mtry\u001b[39;00m:\n\u001b[0;32m--> 150\u001b[0m   \u001b[38;5;28;01mreturn\u001b[39;00m \u001b[43mfn\u001b[49m\u001b[43m(\u001b[49m\u001b[38;5;241;43m*\u001b[39;49m\u001b[43margs\u001b[49m\u001b[43m,\u001b[49m\u001b[43m \u001b[49m\u001b[38;5;241;43m*\u001b[39;49m\u001b[38;5;241;43m*\u001b[39;49m\u001b[43mkwargs\u001b[49m\u001b[43m)\u001b[49m\n\u001b[1;32m    151\u001b[0m \u001b[38;5;28;01mexcept\u001b[39;00m \u001b[38;5;167;01mException\u001b[39;00m \u001b[38;5;28;01mas\u001b[39;00m e:\n\u001b[1;32m    152\u001b[0m   filtered_tb \u001b[38;5;241m=\u001b[39m _process_traceback_frames(e\u001b[38;5;241m.\u001b[39m__traceback__)\n",
      "File \u001b[0;32m~/repos/ds_em_classificacao/airbnb_env/lib/python3.9/site-packages/tensorflow/python/eager/polymorphic_function/polymorphic_function.py:880\u001b[0m, in \u001b[0;36mFunction.__call__\u001b[0;34m(self, *args, **kwds)\u001b[0m\n\u001b[1;32m    877\u001b[0m compiler \u001b[38;5;241m=\u001b[39m \u001b[38;5;124m\"\u001b[39m\u001b[38;5;124mxla\u001b[39m\u001b[38;5;124m\"\u001b[39m \u001b[38;5;28;01mif\u001b[39;00m \u001b[38;5;28mself\u001b[39m\u001b[38;5;241m.\u001b[39m_jit_compile \u001b[38;5;28;01melse\u001b[39;00m \u001b[38;5;124m\"\u001b[39m\u001b[38;5;124mnonXla\u001b[39m\u001b[38;5;124m\"\u001b[39m\n\u001b[1;32m    879\u001b[0m \u001b[38;5;28;01mwith\u001b[39;00m OptionalXlaContext(\u001b[38;5;28mself\u001b[39m\u001b[38;5;241m.\u001b[39m_jit_compile):\n\u001b[0;32m--> 880\u001b[0m   result \u001b[38;5;241m=\u001b[39m \u001b[38;5;28;43mself\u001b[39;49m\u001b[38;5;241;43m.\u001b[39;49m\u001b[43m_call\u001b[49m\u001b[43m(\u001b[49m\u001b[38;5;241;43m*\u001b[39;49m\u001b[43margs\u001b[49m\u001b[43m,\u001b[49m\u001b[43m \u001b[49m\u001b[38;5;241;43m*\u001b[39;49m\u001b[38;5;241;43m*\u001b[39;49m\u001b[43mkwds\u001b[49m\u001b[43m)\u001b[49m\n\u001b[1;32m    882\u001b[0m new_tracing_count \u001b[38;5;241m=\u001b[39m \u001b[38;5;28mself\u001b[39m\u001b[38;5;241m.\u001b[39mexperimental_get_tracing_count()\n\u001b[1;32m    883\u001b[0m without_tracing \u001b[38;5;241m=\u001b[39m (tracing_count \u001b[38;5;241m==\u001b[39m new_tracing_count)\n",
      "File \u001b[0;32m~/repos/ds_em_classificacao/airbnb_env/lib/python3.9/site-packages/tensorflow/python/eager/polymorphic_function/polymorphic_function.py:912\u001b[0m, in \u001b[0;36mFunction._call\u001b[0;34m(self, *args, **kwds)\u001b[0m\n\u001b[1;32m    909\u001b[0m   \u001b[38;5;28mself\u001b[39m\u001b[38;5;241m.\u001b[39m_lock\u001b[38;5;241m.\u001b[39mrelease()\n\u001b[1;32m    910\u001b[0m   \u001b[38;5;66;03m# In this case we have created variables on the first call, so we run the\u001b[39;00m\n\u001b[1;32m    911\u001b[0m   \u001b[38;5;66;03m# defunned version which is guaranteed to never create variables.\u001b[39;00m\n\u001b[0;32m--> 912\u001b[0m   \u001b[38;5;28;01mreturn\u001b[39;00m \u001b[38;5;28;43mself\u001b[39;49m\u001b[38;5;241;43m.\u001b[39;49m\u001b[43m_no_variable_creation_fn\u001b[49m\u001b[43m(\u001b[49m\u001b[38;5;241;43m*\u001b[39;49m\u001b[43margs\u001b[49m\u001b[43m,\u001b[49m\u001b[43m \u001b[49m\u001b[38;5;241;43m*\u001b[39;49m\u001b[38;5;241;43m*\u001b[39;49m\u001b[43mkwds\u001b[49m\u001b[43m)\u001b[49m  \u001b[38;5;66;03m# pylint: disable=not-callable\u001b[39;00m\n\u001b[1;32m    913\u001b[0m \u001b[38;5;28;01melif\u001b[39;00m \u001b[38;5;28mself\u001b[39m\u001b[38;5;241m.\u001b[39m_variable_creation_fn \u001b[38;5;129;01mis\u001b[39;00m \u001b[38;5;129;01mnot\u001b[39;00m \u001b[38;5;28;01mNone\u001b[39;00m:\n\u001b[1;32m    914\u001b[0m   \u001b[38;5;66;03m# Release the lock early so that multiple threads can perform the call\u001b[39;00m\n\u001b[1;32m    915\u001b[0m   \u001b[38;5;66;03m# in parallel.\u001b[39;00m\n\u001b[1;32m    916\u001b[0m   \u001b[38;5;28mself\u001b[39m\u001b[38;5;241m.\u001b[39m_lock\u001b[38;5;241m.\u001b[39mrelease()\n",
      "File \u001b[0;32m~/repos/ds_em_classificacao/airbnb_env/lib/python3.9/site-packages/tensorflow/python/eager/polymorphic_function/tracing_compiler.py:134\u001b[0m, in \u001b[0;36mTracingCompiler.__call__\u001b[0;34m(self, *args, **kwargs)\u001b[0m\n\u001b[1;32m    131\u001b[0m \u001b[38;5;28;01mwith\u001b[39;00m \u001b[38;5;28mself\u001b[39m\u001b[38;5;241m.\u001b[39m_lock:\n\u001b[1;32m    132\u001b[0m   (concrete_function,\n\u001b[1;32m    133\u001b[0m    filtered_flat_args) \u001b[38;5;241m=\u001b[39m \u001b[38;5;28mself\u001b[39m\u001b[38;5;241m.\u001b[39m_maybe_define_function(args, kwargs)\n\u001b[0;32m--> 134\u001b[0m \u001b[38;5;28;01mreturn\u001b[39;00m \u001b[43mconcrete_function\u001b[49m\u001b[38;5;241;43m.\u001b[39;49m\u001b[43m_call_flat\u001b[49m\u001b[43m(\u001b[49m\n\u001b[1;32m    135\u001b[0m \u001b[43m    \u001b[49m\u001b[43mfiltered_flat_args\u001b[49m\u001b[43m,\u001b[49m\u001b[43m \u001b[49m\u001b[43mcaptured_inputs\u001b[49m\u001b[38;5;241;43m=\u001b[39;49m\u001b[43mconcrete_function\u001b[49m\u001b[38;5;241;43m.\u001b[39;49m\u001b[43mcaptured_inputs\u001b[49m\u001b[43m)\u001b[49m\n",
      "File \u001b[0;32m~/repos/ds_em_classificacao/airbnb_env/lib/python3.9/site-packages/tensorflow/python/eager/polymorphic_function/monomorphic_function.py:1745\u001b[0m, in \u001b[0;36mConcreteFunction._call_flat\u001b[0;34m(self, args, captured_inputs, cancellation_manager)\u001b[0m\n\u001b[1;32m   1741\u001b[0m possible_gradient_type \u001b[38;5;241m=\u001b[39m gradients_util\u001b[38;5;241m.\u001b[39mPossibleTapeGradientTypes(args)\n\u001b[1;32m   1742\u001b[0m \u001b[38;5;28;01mif\u001b[39;00m (possible_gradient_type \u001b[38;5;241m==\u001b[39m gradients_util\u001b[38;5;241m.\u001b[39mPOSSIBLE_GRADIENT_TYPES_NONE\n\u001b[1;32m   1743\u001b[0m     \u001b[38;5;129;01mand\u001b[39;00m executing_eagerly):\n\u001b[1;32m   1744\u001b[0m   \u001b[38;5;66;03m# No tape is watching; skip to running the function.\u001b[39;00m\n\u001b[0;32m-> 1745\u001b[0m   \u001b[38;5;28;01mreturn\u001b[39;00m \u001b[38;5;28mself\u001b[39m\u001b[38;5;241m.\u001b[39m_build_call_outputs(\u001b[38;5;28;43mself\u001b[39;49m\u001b[38;5;241;43m.\u001b[39;49m\u001b[43m_inference_function\u001b[49m\u001b[38;5;241;43m.\u001b[39;49m\u001b[43mcall\u001b[49m\u001b[43m(\u001b[49m\n\u001b[1;32m   1746\u001b[0m \u001b[43m      \u001b[49m\u001b[43mctx\u001b[49m\u001b[43m,\u001b[49m\u001b[43m \u001b[49m\u001b[43margs\u001b[49m\u001b[43m,\u001b[49m\u001b[43m \u001b[49m\u001b[43mcancellation_manager\u001b[49m\u001b[38;5;241;43m=\u001b[39;49m\u001b[43mcancellation_manager\u001b[49m\u001b[43m)\u001b[49m)\n\u001b[1;32m   1747\u001b[0m forward_backward \u001b[38;5;241m=\u001b[39m \u001b[38;5;28mself\u001b[39m\u001b[38;5;241m.\u001b[39m_select_forward_and_backward_functions(\n\u001b[1;32m   1748\u001b[0m     args,\n\u001b[1;32m   1749\u001b[0m     possible_gradient_type,\n\u001b[1;32m   1750\u001b[0m     executing_eagerly)\n\u001b[1;32m   1751\u001b[0m forward_function, args_with_tangents \u001b[38;5;241m=\u001b[39m forward_backward\u001b[38;5;241m.\u001b[39mforward()\n",
      "File \u001b[0;32m~/repos/ds_em_classificacao/airbnb_env/lib/python3.9/site-packages/tensorflow/python/eager/polymorphic_function/monomorphic_function.py:378\u001b[0m, in \u001b[0;36m_EagerDefinedFunction.call\u001b[0;34m(self, ctx, args, cancellation_manager)\u001b[0m\n\u001b[1;32m    376\u001b[0m \u001b[38;5;28;01mwith\u001b[39;00m _InterpolateFunctionError(\u001b[38;5;28mself\u001b[39m):\n\u001b[1;32m    377\u001b[0m   \u001b[38;5;28;01mif\u001b[39;00m cancellation_manager \u001b[38;5;129;01mis\u001b[39;00m \u001b[38;5;28;01mNone\u001b[39;00m:\n\u001b[0;32m--> 378\u001b[0m     outputs \u001b[38;5;241m=\u001b[39m \u001b[43mexecute\u001b[49m\u001b[38;5;241;43m.\u001b[39;49m\u001b[43mexecute\u001b[49m\u001b[43m(\u001b[49m\n\u001b[1;32m    379\u001b[0m \u001b[43m        \u001b[49m\u001b[38;5;28;43mstr\u001b[39;49m\u001b[43m(\u001b[49m\u001b[38;5;28;43mself\u001b[39;49m\u001b[38;5;241;43m.\u001b[39;49m\u001b[43msignature\u001b[49m\u001b[38;5;241;43m.\u001b[39;49m\u001b[43mname\u001b[49m\u001b[43m)\u001b[49m\u001b[43m,\u001b[49m\n\u001b[1;32m    380\u001b[0m \u001b[43m        \u001b[49m\u001b[43mnum_outputs\u001b[49m\u001b[38;5;241;43m=\u001b[39;49m\u001b[38;5;28;43mself\u001b[39;49m\u001b[38;5;241;43m.\u001b[39;49m\u001b[43m_num_outputs\u001b[49m\u001b[43m,\u001b[49m\n\u001b[1;32m    381\u001b[0m \u001b[43m        \u001b[49m\u001b[43minputs\u001b[49m\u001b[38;5;241;43m=\u001b[39;49m\u001b[43margs\u001b[49m\u001b[43m,\u001b[49m\n\u001b[1;32m    382\u001b[0m \u001b[43m        \u001b[49m\u001b[43mattrs\u001b[49m\u001b[38;5;241;43m=\u001b[39;49m\u001b[43mattrs\u001b[49m\u001b[43m,\u001b[49m\n\u001b[1;32m    383\u001b[0m \u001b[43m        \u001b[49m\u001b[43mctx\u001b[49m\u001b[38;5;241;43m=\u001b[39;49m\u001b[43mctx\u001b[49m\u001b[43m)\u001b[49m\n\u001b[1;32m    384\u001b[0m   \u001b[38;5;28;01melse\u001b[39;00m:\n\u001b[1;32m    385\u001b[0m     outputs \u001b[38;5;241m=\u001b[39m execute\u001b[38;5;241m.\u001b[39mexecute_with_cancellation(\n\u001b[1;32m    386\u001b[0m         \u001b[38;5;28mstr\u001b[39m(\u001b[38;5;28mself\u001b[39m\u001b[38;5;241m.\u001b[39msignature\u001b[38;5;241m.\u001b[39mname),\n\u001b[1;32m    387\u001b[0m         num_outputs\u001b[38;5;241m=\u001b[39m\u001b[38;5;28mself\u001b[39m\u001b[38;5;241m.\u001b[39m_num_outputs,\n\u001b[0;32m   (...)\u001b[0m\n\u001b[1;32m    390\u001b[0m         ctx\u001b[38;5;241m=\u001b[39mctx,\n\u001b[1;32m    391\u001b[0m         cancellation_manager\u001b[38;5;241m=\u001b[39mcancellation_manager)\n",
      "File \u001b[0;32m~/repos/ds_em_classificacao/airbnb_env/lib/python3.9/site-packages/tensorflow/python/eager/execute.py:52\u001b[0m, in \u001b[0;36mquick_execute\u001b[0;34m(op_name, num_outputs, inputs, attrs, ctx, name)\u001b[0m\n\u001b[1;32m     50\u001b[0m \u001b[38;5;28;01mtry\u001b[39;00m:\n\u001b[1;32m     51\u001b[0m   ctx\u001b[38;5;241m.\u001b[39mensure_initialized()\n\u001b[0;32m---> 52\u001b[0m   tensors \u001b[38;5;241m=\u001b[39m \u001b[43mpywrap_tfe\u001b[49m\u001b[38;5;241;43m.\u001b[39;49m\u001b[43mTFE_Py_Execute\u001b[49m\u001b[43m(\u001b[49m\u001b[43mctx\u001b[49m\u001b[38;5;241;43m.\u001b[39;49m\u001b[43m_handle\u001b[49m\u001b[43m,\u001b[49m\u001b[43m \u001b[49m\u001b[43mdevice_name\u001b[49m\u001b[43m,\u001b[49m\u001b[43m \u001b[49m\u001b[43mop_name\u001b[49m\u001b[43m,\u001b[49m\n\u001b[1;32m     53\u001b[0m \u001b[43m                                      \u001b[49m\u001b[43minputs\u001b[49m\u001b[43m,\u001b[49m\u001b[43m \u001b[49m\u001b[43mattrs\u001b[49m\u001b[43m,\u001b[49m\u001b[43m \u001b[49m\u001b[43mnum_outputs\u001b[49m\u001b[43m)\u001b[49m\n\u001b[1;32m     54\u001b[0m \u001b[38;5;28;01mexcept\u001b[39;00m core\u001b[38;5;241m.\u001b[39m_NotOkStatusException \u001b[38;5;28;01mas\u001b[39;00m e:\n\u001b[1;32m     55\u001b[0m   \u001b[38;5;28;01mif\u001b[39;00m name \u001b[38;5;129;01mis\u001b[39;00m \u001b[38;5;129;01mnot\u001b[39;00m \u001b[38;5;28;01mNone\u001b[39;00m:\n",
      "\u001b[0;31mKeyboardInterrupt\u001b[0m: "
     ]
    }
   ],
   "source": [
    "# generate k-fold\n",
    "num_fold = 5\n",
    "kfold = ms.StratifiedKFold(n_splits=num_fold, shuffle=True, random_state=32)\n",
    "\n",
    "balanced_acc_list = []\n",
    "kappa_list = []\n",
    "metrics = []\n",
    "\n",
    "i = 1\n",
    "\n",
    "for train_ix, val_ix in kfold.split(x_train, y_train):\n",
    "    # fold number\n",
    "    print('Fold Number: {}/{}'.format(i, num_fold))\n",
    "    # get fold\n",
    "    x_train_fold = x_train.iloc[train_ix]\n",
    "    y_train_fold = y_train.iloc[train_ix]\n",
    "    \n",
    "    x_val_fold = x_train.iloc[val_ix]\n",
    "    y_val_fold = y_train.iloc[val_ix]\n",
    "\n",
    "    # target hot-encoding\n",
    "    ohe = pp.OneHotEncoder()\n",
    "    y_train_fold_nn = ohe.fit_transform(y_train_fold.values.reshape(-1, 1)).toarray()\n",
    "\n",
    "    # model definition\n",
    "    model = ml.Sequential()\n",
    "    model.add(l.Dense(256, input_dim=x_train.shape[1], activation='relu'))\n",
    "    model.add(l.Dense(11, activation='softmax'))\n",
    "\n",
    "    # compile model\n",
    "    model.compile(loss='categorical_crossentropy', optimizer='adam', metrics=['accuracy'])\n",
    "\n",
    "    # training model\n",
    "    model.fit(x_train_fold, y_train_fold_nn, epochs=100, batch_size=32, verbose=0)\n",
    "    \n",
    "    # prediction\n",
    "    pred_nn = model.predict(x_val_fold)\n",
    "    yhat_nn = ohe.inverse_transform(pred_nn)\n",
    "    \n",
    "    # prepare data\n",
    "    y_test_nn = y_val_fold.to_numpy()\n",
    "    yhat_nn = yhat_nn.reshape(1, -1)[0]\n",
    "    \n",
    "    # metrics\n",
    "    ## balanced accuracy\n",
    "    balanced_acc_nn = m.balanced_accuracy_score(y_test_nn, yhat_nn)\n",
    "    balanced_acc_list.append(balanced_acc_nn)\n",
    "    \n",
    "    ## Kappa score\n",
    "    kappa_nn = m.cohen_kappa_score(y_test_nn, yhat_nn)\n",
    "    kappa_list.append(kappa_nn)\n",
    "    \n",
    "    metrics.append([i, balanced_acc_nn, kappa_nn])\n",
    "    \n",
    "    i += 1"
   ]
  },
  {
   "cell_type": "code",
   "execution_count": 50,
   "id": "c48588c9",
   "metadata": {
    "ExecuteTime": {
     "end_time": "2023-02-12T17:34:42.968738Z",
     "start_time": "2023-02-12T17:34:42.682868Z"
    }
   },
   "outputs": [],
   "source": [
    "print('Avg Balanced Accuracy: {} +/- {}'.format(np.mean(balanced_acc_list), np.std(balanced_acc_list)))\n",
    "print('Avg Kappa: {} +/- {}'. format(np.mean(kappa_list), np.std(kappa_list)))"
   ]
  }
 ],
 "metadata": {
  "kernelspec": {
   "display_name": "airbnb_env",
   "language": "python",
   "name": "airbnb_env"
  },
  "language_info": {
   "codemirror_mode": {
    "name": "ipython",
    "version": 3
   },
   "file_extension": ".py",
   "mimetype": "text/x-python",
   "name": "python",
   "nbconvert_exporter": "python",
   "pygments_lexer": "ipython3",
   "version": "3.9.12"
  }
 },
 "nbformat": 4,
 "nbformat_minor": 5
}
