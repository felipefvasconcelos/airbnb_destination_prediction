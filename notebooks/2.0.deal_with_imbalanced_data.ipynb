{
 "cells": [
  {
   "cell_type": "markdown",
   "id": "92525660",
   "metadata": {
    "ExecuteTime": {
     "end_time": "2023-01-25T23:12:58.072519Z",
     "start_time": "2023-01-25T23:12:54.813859Z"
    },
    "heading_collapsed": true
   },
   "source": [
    "# Business Problem"
   ]
  },
  {
   "cell_type": "raw",
   "id": "7fc6ff6b",
   "metadata": {
    "hidden": true
   },
   "source": [
    "-- Objetivo do Problema:\n",
    "    -- **1.0.** Previsao do primeiro destino que um novo usuario ira escolher.\n",
    "        -- Por que?\n",
    "            -- Qual tipo de modelo de negocio da AirBnb?\n",
    "                -- Marketplace (conectar pessoas que oferecem acomodacao, com pessoas que estao procurando \n",
    "                acomodacao)\n",
    "                -- Oferta (pessoas oferecendo acomodacao)\n",
    "                    -- Tamanho do portfolio.\n",
    "                    -- Diversidade/densidade de portifolio.\n",
    "                    -- Preco medio.\n",
    "                -- Demanda (pessoas procurando acomodacao)\n",
    "                    -- Numero de usuarios.\n",
    "                    -- LTV - Life Time Value.\n",
    "                    -- CAC - Client Acquisition Cost\n",
    "                    \n",
    "            **Revenue = (Fee*Num de clientes) - CAC**\n",
    "\n",
    "-- Proposta de solucao\n",
    "    -- Modelo de previsao de primeiro destino de um novo usuario.\n",
    "        -- a) Fazer predicoes e salvar em tabpela num banco de dados.\n",
    "        -- b) API\n",
    "            -- Input: usuario e suas caracteristicas\n",
    "            -- Output: usuario e suas caracteristicas com a predicao do destino"
   ]
  },
  {
   "cell_type": "markdown",
   "id": "68aae278",
   "metadata": {
    "ExecuteTime": {
     "end_time": "2023-01-25T23:12:58.072519Z",
     "start_time": "2023-01-25T23:12:54.813859Z"
    }
   },
   "source": [
    "# 0.0. Imports"
   ]
  },
  {
   "cell_type": "code",
   "execution_count": 1,
   "id": "3eca7ce0",
   "metadata": {
    "ExecuteTime": {
     "end_time": "2023-02-25T15:40:40.481909Z",
     "start_time": "2023-02-25T15:40:21.972988Z"
    }
   },
   "outputs": [
    {
     "name": "stderr",
     "output_type": "stream",
     "text": [
      "2023-02-25 12:40:28.130034: I tensorflow/core/platform/cpu_feature_guard.cc:193] This TensorFlow binary is optimized with oneAPI Deep Neural Network Library (oneDNN) to use the following CPU instructions in performance-critical operations:  AVX2 FMA\n",
      "To enable them in other operations, rebuild TensorFlow with the appropriate compiler flags.\n",
      "2023-02-25 12:40:28.537564: W tensorflow/compiler/xla/stream_executor/platform/default/dso_loader.cc:64] Could not load dynamic library 'libcudart.so.11.0'; dlerror: libcudart.so.11.0: cannot open shared object file: No such file or directory\n",
      "2023-02-25 12:40:28.537590: I tensorflow/compiler/xla/stream_executor/cuda/cudart_stub.cc:29] Ignore above cudart dlerror if you do not have a GPU set up on your machine.\n",
      "2023-02-25 12:40:34.986557: W tensorflow/compiler/xla/stream_executor/platform/default/dso_loader.cc:64] Could not load dynamic library 'libnvinfer.so.7'; dlerror: libnvinfer.so.7: cannot open shared object file: No such file or directory\n",
      "2023-02-25 12:40:34.986670: W tensorflow/compiler/xla/stream_executor/platform/default/dso_loader.cc:64] Could not load dynamic library 'libnvinfer_plugin.so.7'; dlerror: libnvinfer_plugin.so.7: cannot open shared object file: No such file or directory\n",
      "2023-02-25 12:40:34.986681: W tensorflow/compiler/tf2tensorrt/utils/py_utils.cc:38] TF-TRT Warning: Cannot dlopen some TensorRT libraries. If you would like to use Nvidia GPU with TensorRT, please make sure the missing libraries mentioned above are installed properly.\n"
     ]
    }
   ],
   "source": [
    "import random\n",
    "\n",
    "import numpy   as np\n",
    "import pandas  as pd\n",
    "import seaborn as sns\n",
    "\n",
    "from scipy      import stats           as ss\n",
    "from keras      import layers          as l\n",
    "from keras      import models          as ml\n",
    "from sklearn    import metrics         as m\n",
    "from sklearn    import preprocessing   as pp\n",
    "from sklearn    import model_selection as ms\n",
    "from imblearn   import combine         as cb\n",
    "from imblearn   import over_sampling   as ovs\n",
    "from imblearn   import under_sampling  as us\n",
    "from scikitplot import metrics         as mt"
   ]
  },
  {
   "cell_type": "markdown",
   "id": "070f7d46",
   "metadata": {},
   "source": [
    "## 0.1. Helper Functions"
   ]
  },
  {
   "cell_type": "code",
   "execution_count": 2,
   "id": "959011ee",
   "metadata": {
    "ExecuteTime": {
     "end_time": "2023-02-25T15:40:40.519897Z",
     "start_time": "2023-02-25T15:40:40.494259Z"
    }
   },
   "outputs": [],
   "source": [
    "# cramer v correlation\n",
    "def cramer_v(x, y):\n",
    "    cm = pd.crosstab(x, y).values\n",
    "    n = cm.sum()\n",
    "    r, k = cm.shape\n",
    "    \n",
    "    chi2 = ss.chi2_contingency(cm)[0]\n",
    "    chi2corr = max(0, chi2-(k-1)*(r-1)/(n-1))\n",
    "    \n",
    "    kcorr = k - (k-1)**2/(n-1)\n",
    "    rcorr = r - (r-10)**2/(n-1)\n",
    "    \n",
    "    return np.sqrt((chi2corr/n)/(min(kcorr-1, rcorr-1)))"
   ]
  },
  {
   "cell_type": "markdown",
   "id": "f1c9e161",
   "metadata": {},
   "source": [
    "## 0.2. Loading Data"
   ]
  },
  {
   "cell_type": "code",
   "execution_count": 3,
   "id": "3524916f",
   "metadata": {
    "ExecuteTime": {
     "end_time": "2023-02-25T15:40:49.219435Z",
     "start_time": "2023-02-25T15:40:40.528553Z"
    }
   },
   "outputs": [],
   "source": [
    "path = '/home/felipe/repos/ds_em_classificacao/'\n",
    "df_raw = pd.read_csv(path + 'datasets/data_raw/training_users.csv', low_memory=True)\n",
    "df_sessions = pd.read_csv(path + 'datasets/data_raw/sessions.csv', low_memory=True)"
   ]
  },
  {
   "cell_type": "markdown",
   "id": "7382855d",
   "metadata": {
    "ExecuteTime": {
     "end_time": "2023-01-25T23:12:58.072519Z",
     "start_time": "2023-01-25T23:12:54.813859Z"
    }
   },
   "source": [
    "# 1.0. Data Description"
   ]
  },
  {
   "cell_type": "code",
   "execution_count": 4,
   "id": "13809c5c",
   "metadata": {
    "ExecuteTime": {
     "end_time": "2023-02-25T15:40:49.227773Z",
     "start_time": "2023-02-25T15:40:49.224426Z"
    }
   },
   "outputs": [],
   "source": [
    "df1 = df_raw#.copy()"
   ]
  },
  {
   "cell_type": "markdown",
   "id": "8209ab0a",
   "metadata": {},
   "source": [
    "## 1.1. Dataset Dimensions"
   ]
  },
  {
   "cell_type": "code",
   "execution_count": 5,
   "id": "a9485930",
   "metadata": {
    "ExecuteTime": {
     "end_time": "2023-02-25T15:40:49.370825Z",
     "start_time": "2023-02-25T15:40:49.231704Z"
    }
   },
   "outputs": [
    {
     "name": "stdout",
     "output_type": "stream",
     "text": [
      "Users Dataset\n",
      "Number of rows: 213451\n",
      "Number of columns: 16\n"
     ]
    }
   ],
   "source": [
    "print('Users Dataset')\n",
    "print('Number of rows: {}'.format(df1.shape[0]))\n",
    "print('Number of columns: {}'.format(df1.shape[1]))"
   ]
  },
  {
   "cell_type": "code",
   "execution_count": 6,
   "id": "372a558a",
   "metadata": {
    "ExecuteTime": {
     "end_time": "2023-02-25T15:40:49.573885Z",
     "start_time": "2023-02-25T15:40:49.374040Z"
    }
   },
   "outputs": [
    {
     "name": "stdout",
     "output_type": "stream",
     "text": [
      "Sessions Dataset\n",
      "Number of rows: 10567737\n",
      "Number of columns: 6\n"
     ]
    }
   ],
   "source": [
    "print('Sessions Dataset')\n",
    "print('Number of rows: {}'.format(df_sessions.shape[0]))\n",
    "print('Number of columns: {}'.format(df_sessions.shape[1]))"
   ]
  },
  {
   "cell_type": "markdown",
   "id": "4bcf9418",
   "metadata": {},
   "source": [
    "## 1.2. Check NAs"
   ]
  },
  {
   "cell_type": "code",
   "execution_count": 7,
   "id": "dfd8b2a0",
   "metadata": {
    "ExecuteTime": {
     "end_time": "2023-02-25T15:40:50.128599Z",
     "start_time": "2023-02-25T15:40:49.581667Z"
    }
   },
   "outputs": [
    {
     "data": {
      "text/plain": [
       "id                         0.000000\n",
       "date_account_created       0.000000\n",
       "timestamp_first_active     0.000000\n",
       "date_first_booking         0.583473\n",
       "gender                     0.000000\n",
       "age                        0.412226\n",
       "signup_method              0.000000\n",
       "signup_flow                0.000000\n",
       "language                   0.000000\n",
       "affiliate_channel          0.000000\n",
       "affiliate_provider         0.000000\n",
       "first_affiliate_tracked    0.028414\n",
       "signup_app                 0.000000\n",
       "first_device_type          0.000000\n",
       "first_browser              0.000000\n",
       "country_destination        0.000000\n",
       "dtype: float64"
      ]
     },
     "execution_count": 7,
     "metadata": {},
     "output_type": "execute_result"
    }
   ],
   "source": [
    "# users dataset NAs\n",
    "df1.isna().sum()/len(df1)"
   ]
  },
  {
   "cell_type": "code",
   "execution_count": 8,
   "id": "5af09d4d",
   "metadata": {
    "ExecuteTime": {
     "end_time": "2023-02-25T15:40:57.370538Z",
     "start_time": "2023-02-25T15:40:50.131886Z"
    }
   },
   "outputs": [
    {
     "data": {
      "text/plain": [
       "user_id          0.003264\n",
       "action           0.007535\n",
       "action_type      0.106570\n",
       "action_detail    0.106570\n",
       "device_type      0.000000\n",
       "secs_elapsed     0.012872\n",
       "dtype: float64"
      ]
     },
     "execution_count": 8,
     "metadata": {},
     "output_type": "execute_result"
    }
   ],
   "source": [
    "# sessions dataset NAs\n",
    "df_sessions.isna().sum()/len(df_sessions)"
   ]
  },
  {
   "cell_type": "markdown",
   "id": "84d0c6c7",
   "metadata": {},
   "source": [
    "### 1.2.1. Replace NAs"
   ]
  },
  {
   "cell_type": "code",
   "execution_count": 9,
   "id": "3f71c94c",
   "metadata": {
    "ExecuteTime": {
     "end_time": "2023-02-25T15:40:57.445511Z",
     "start_time": "2023-02-25T15:40:57.373850Z"
    }
   },
   "outputs": [],
   "source": [
    "# # investigate date_first_booking\n",
    "# aux = df1[df1['date_first_booking'].isna()]\n",
    "# aux['country_destination'].value_counts(normalize=True)\n",
    "\n",
    "# # investigate age\n",
    "# aux = df1[df1['age'].isna()]\n",
    "# aux['country_destination'].value_counts(normalize=True)\n",
    "# sns.histplot(data=df1[df1['age']<65], x='age', kde=True);\n",
    "\n",
    "# # investigate first_affiliate_tracked\n",
    "# df1['first_affiliate_tracked'].drop_duplicates()"
   ]
  },
  {
   "cell_type": "code",
   "execution_count": 10,
   "id": "70e32b97",
   "metadata": {
    "ExecuteTime": {
     "end_time": "2023-02-25T15:41:02.610746Z",
     "start_time": "2023-02-25T15:40:57.452523Z"
    }
   },
   "outputs": [
    {
     "name": "stderr",
     "output_type": "stream",
     "text": [
      "/tmp/ipykernel_5542/1254795671.py:10: SettingWithCopyWarning: \n",
      "A value is trying to be set on a copy of a slice from a DataFrame.\n",
      "Try using .loc[row_indexer,col_indexer] = value instead\n",
      "\n",
      "See the caveats in the documentation: https://pandas.pydata.org/pandas-docs/stable/user_guide/indexing.html#returning-a-view-versus-a-copy\n",
      "  df1['age'] = df1['age'].fillna(avg_age)\n"
     ]
    }
   ],
   "source": [
    "#====================== USERS ================================\n",
    "\n",
    "# date_first_booking - people with NDF as country_destination\n",
    "date_first_booking_max = pd.to_datetime(df1['date_first_booking']).max().strftime('%Y-%m-%d')\n",
    "df1['date_first_booking'] = df1['date_first_booking'].fillna(date_first_booking_max)\n",
    "\n",
    "# age - distribution similar to normal distribution\n",
    "df1 = df1[(df1['age']>15) & (df1['age']<120)]\n",
    "avg_age = df1['age'].mean().astype(int)\n",
    "df1['age'] = df1['age'].fillna(avg_age)\n",
    "\n",
    "# first_affiliate_tracked - categorical attribute, hard to replace without bias\n",
    "df1 = df1[~df1['first_affiliate_tracked'].isna()]\n",
    "\n",
    "#====================== SESSIONS ================================\n",
    "# user_id - 0.3%\n",
    "df_sessions = df_sessions[~df_sessions['user_id'].isna()]\n",
    "\n",
    "# action - 0.7%\n",
    "df_sessions = df_sessions[~df_sessions['action'].isna()]\n",
    "\n",
    "# action_type - 11%\n",
    "df_sessions = df_sessions[~df_sessions['action_type'].isna()]\n",
    "\n",
    "# action_detail - 11%\n",
    "df_sessions = df_sessions[~df_sessions['action_detail'].isna()]\n",
    "\n",
    "# secs_elapsed - 1.2%\n",
    "df_sessions = df_sessions[~df_sessions['secs_elapsed'].isna()]"
   ]
  },
  {
   "cell_type": "markdown",
   "id": "ece62541",
   "metadata": {},
   "source": [
    "## 1.3. Check DTypes"
   ]
  },
  {
   "cell_type": "code",
   "execution_count": 11,
   "id": "79dec48e",
   "metadata": {
    "ExecuteTime": {
     "end_time": "2023-02-25T15:41:02.623457Z",
     "start_time": "2023-02-25T15:41:02.614432Z"
    }
   },
   "outputs": [
    {
     "data": {
      "text/plain": [
       "id                          object\n",
       "date_account_created        object\n",
       "timestamp_first_active       int64\n",
       "date_first_booking          object\n",
       "gender                      object\n",
       "age                        float64\n",
       "signup_method               object\n",
       "signup_flow                  int64\n",
       "language                    object\n",
       "affiliate_channel           object\n",
       "affiliate_provider          object\n",
       "first_affiliate_tracked     object\n",
       "signup_app                  object\n",
       "first_device_type           object\n",
       "first_browser               object\n",
       "country_destination         object\n",
       "dtype: object"
      ]
     },
     "execution_count": 11,
     "metadata": {},
     "output_type": "execute_result"
    }
   ],
   "source": [
    "df1.dtypes"
   ]
  },
  {
   "cell_type": "markdown",
   "id": "9dc8f034",
   "metadata": {},
   "source": [
    "### 1.3.1. Change DTypes"
   ]
  },
  {
   "cell_type": "code",
   "execution_count": 12,
   "id": "f0dfdda5",
   "metadata": {
    "ExecuteTime": {
     "end_time": "2023-02-25T15:41:02.835834Z",
     "start_time": "2023-02-25T15:41:02.628964Z"
    }
   },
   "outputs": [],
   "source": [
    "# date_account_created\n",
    "df1['date_account_created'] = pd.to_datetime(df1['date_account_created'])\n",
    "\n",
    "# timestamp_first_active\n",
    "df1['timestamp_first_active'] = pd.to_datetime(df1['timestamp_first_active'], format='%Y-%m-%d')\n",
    "\n",
    "# date_first_booking \n",
    "df1['date_first_booking'] = pd.to_datetime(df1['date_first_booking'])\n",
    "\n",
    "# age\n",
    "df1['age'] = df1['age'].astype('int')"
   ]
  },
  {
   "cell_type": "markdown",
   "id": "dbd20b4b",
   "metadata": {
    "heading_collapsed": true
   },
   "source": [
    "## 1.4. Check Balanced Data"
   ]
  },
  {
   "cell_type": "code",
   "execution_count": 13,
   "id": "6a5506bf",
   "metadata": {
    "ExecuteTime": {
     "end_time": "2023-02-25T15:41:02.980435Z",
     "start_time": "2023-02-25T15:41:02.839133Z"
    },
    "hidden": true
   },
   "outputs": [
    {
     "data": {
      "text/plain": [
       "NDF      0.447275\n",
       "US       0.391867\n",
       "other    0.061246\n",
       "FR       0.029918\n",
       "IT       0.016423\n",
       "GB       0.014335\n",
       "ES       0.013740\n",
       "CA       0.008676\n",
       "DE       0.006858\n",
       "NL       0.004852\n",
       "AU       0.003531\n",
       "PT       0.001280\n",
       "Name: country_destination, dtype: float64"
      ]
     },
     "execution_count": 13,
     "metadata": {},
     "output_type": "execute_result"
    }
   ],
   "source": [
    "df1['country_destination'].value_counts(normalize=True)"
   ]
  },
  {
   "cell_type": "markdown",
   "id": "c797822d",
   "metadata": {
    "heading_collapsed": true
   },
   "source": [
    "## 1.5. Descriptive Analysis"
   ]
  },
  {
   "cell_type": "code",
   "execution_count": 14,
   "id": "35c7ff80",
   "metadata": {
    "ExecuteTime": {
     "end_time": "2023-02-25T15:41:03.390844Z",
     "start_time": "2023-02-25T15:41:02.983896Z"
    },
    "hidden": true
   },
   "outputs": [],
   "source": [
    "# users\n",
    "num_attributes = df1.select_dtypes(include=['int64', 'float64'])\n",
    "cat_attributes = df1.select_dtypes(exclude=['int64', 'float64', 'datetime64[ns]'])\n",
    "time_attributes = df1.select_dtypes(include=['datetime64[ns]'])\n",
    "\n",
    "# sessions\n",
    "num_attributes_sessions = df_sessions.select_dtypes(include=['int64', 'float64'])\n",
    "cat_attributes_sessions = df_sessions.select_dtypes(exclude=['int64', 'float64', 'datetime64[ns]'])\n",
    "time_attributes_sessions = df_sessions.select_dtypes(include=['datetime64[ns]'])"
   ]
  },
  {
   "cell_type": "markdown",
   "id": "f29be054",
   "metadata": {
    "hidden": true
   },
   "source": [
    "### 1.5.1. Numerical - Users"
   ]
  },
  {
   "cell_type": "code",
   "execution_count": 15,
   "id": "bcd691da",
   "metadata": {
    "ExecuteTime": {
     "end_time": "2023-02-25T15:41:03.478437Z",
     "start_time": "2023-02-25T15:41:03.393487Z"
    },
    "hidden": true
   },
   "outputs": [
    {
     "data": {
      "text/html": [
       "<div>\n",
       "<style scoped>\n",
       "    .dataframe tbody tr th:only-of-type {\n",
       "        vertical-align: middle;\n",
       "    }\n",
       "\n",
       "    .dataframe tbody tr th {\n",
       "        vertical-align: top;\n",
       "    }\n",
       "\n",
       "    .dataframe thead th {\n",
       "        text-align: right;\n",
       "    }\n",
       "</style>\n",
       "<table border=\"1\" class=\"dataframe\">\n",
       "  <thead>\n",
       "    <tr style=\"text-align: right;\">\n",
       "      <th></th>\n",
       "      <th>attributes</th>\n",
       "      <th>min</th>\n",
       "      <th>max</th>\n",
       "      <th>range</th>\n",
       "      <th>mean</th>\n",
       "      <th>median</th>\n",
       "      <th>std</th>\n",
       "      <th>skew</th>\n",
       "      <th>kurtosis</th>\n",
       "    </tr>\n",
       "  </thead>\n",
       "  <tbody>\n",
       "    <tr>\n",
       "      <th>0</th>\n",
       "      <td>age</td>\n",
       "      <td>16.0</td>\n",
       "      <td>115.0</td>\n",
       "      <td>99.0</td>\n",
       "      <td>37.405591</td>\n",
       "      <td>34.0</td>\n",
       "      <td>13.939844</td>\n",
       "      <td>2.089718</td>\n",
       "      <td>6.516468</td>\n",
       "    </tr>\n",
       "    <tr>\n",
       "      <th>1</th>\n",
       "      <td>signup_flow</td>\n",
       "      <td>0.0</td>\n",
       "      <td>25.0</td>\n",
       "      <td>25.0</td>\n",
       "      <td>2.519513</td>\n",
       "      <td>0.0</td>\n",
       "      <td>6.604696</td>\n",
       "      <td>2.705871</td>\n",
       "      <td>5.928298</td>\n",
       "    </tr>\n",
       "  </tbody>\n",
       "</table>\n",
       "</div>"
      ],
      "text/plain": [
       "    attributes   min    max  range       mean  median        std      skew  \\\n",
       "0          age  16.0  115.0   99.0  37.405591    34.0  13.939844  2.089718   \n",
       "1  signup_flow   0.0   25.0   25.0   2.519513     0.0   6.604696  2.705871   \n",
       "\n",
       "   kurtosis  \n",
       "0  6.516468  \n",
       "1  5.928298  "
      ]
     },
     "execution_count": 15,
     "metadata": {},
     "output_type": "execute_result"
    }
   ],
   "source": [
    "# central tendency\n",
    "ct1 = pd.DataFrame(num_attributes.apply(np.mean)).T\n",
    "ct2 = pd.DataFrame(num_attributes.apply(np.median)).T\n",
    "\n",
    "# dispersion\n",
    "d1 = pd.DataFrame(num_attributes.apply(np.std)).T\n",
    "d2 = pd.DataFrame(num_attributes.apply(min)).T\n",
    "d3 = pd.DataFrame(num_attributes.apply(max)).T\n",
    "d4 = pd.DataFrame(num_attributes.apply(lambda x: x.max()-x.min())).T\n",
    "d5 = pd.DataFrame(num_attributes.apply(lambda x: x.skew())).T\n",
    "d6 = pd.DataFrame(num_attributes.apply(lambda x: x.kurtosis())).T\n",
    "\n",
    "# concat\n",
    "ct = pd.concat([d2, d3, d4, ct1, ct2, d1, d5, d6]).T.reset_index()\n",
    "ct.columns = ['attributes', 'min', 'max', 'range', 'mean', 'median', 'std', 'skew', 'kurtosis']\n",
    "ct"
   ]
  },
  {
   "cell_type": "markdown",
   "id": "14786b76",
   "metadata": {
    "hidden": true
   },
   "source": [
    "### 1.5.2. Numerical - Sessions"
   ]
  },
  {
   "cell_type": "code",
   "execution_count": 16,
   "id": "061ee5ce",
   "metadata": {
    "ExecuteTime": {
     "end_time": "2023-02-25T15:41:05.821350Z",
     "start_time": "2023-02-25T15:41:03.481850Z"
    },
    "hidden": true
   },
   "outputs": [
    {
     "data": {
      "text/html": [
       "<div>\n",
       "<style scoped>\n",
       "    .dataframe tbody tr th:only-of-type {\n",
       "        vertical-align: middle;\n",
       "    }\n",
       "\n",
       "    .dataframe tbody tr th {\n",
       "        vertical-align: top;\n",
       "    }\n",
       "\n",
       "    .dataframe thead th {\n",
       "        text-align: right;\n",
       "    }\n",
       "</style>\n",
       "<table border=\"1\" class=\"dataframe\">\n",
       "  <thead>\n",
       "    <tr style=\"text-align: right;\">\n",
       "      <th></th>\n",
       "      <th>attributes</th>\n",
       "      <th>min</th>\n",
       "      <th>max</th>\n",
       "      <th>range</th>\n",
       "      <th>mean</th>\n",
       "      <th>median</th>\n",
       "      <th>std</th>\n",
       "      <th>skew</th>\n",
       "      <th>kurtosis</th>\n",
       "    </tr>\n",
       "  </thead>\n",
       "  <tbody>\n",
       "    <tr>\n",
       "      <th>0</th>\n",
       "      <td>secs_elapsed</td>\n",
       "      <td>0.0</td>\n",
       "      <td>1799977.0</td>\n",
       "      <td>1799977.0</td>\n",
       "      <td>19961.8251</td>\n",
       "      <td>1369.0</td>\n",
       "      <td>88849.388449</td>\n",
       "      <td>11.137761</td>\n",
       "      <td>154.84312</td>\n",
       "    </tr>\n",
       "  </tbody>\n",
       "</table>\n",
       "</div>"
      ],
      "text/plain": [
       "     attributes  min        max      range        mean  median           std  \\\n",
       "0  secs_elapsed  0.0  1799977.0  1799977.0  19961.8251  1369.0  88849.388449   \n",
       "\n",
       "        skew   kurtosis  \n",
       "0  11.137761  154.84312  "
      ]
     },
     "execution_count": 16,
     "metadata": {},
     "output_type": "execute_result"
    }
   ],
   "source": [
    "# central tendency\n",
    "ct1 = pd.DataFrame(num_attributes_sessions.apply(np.mean)).T\n",
    "ct2 = pd.DataFrame(num_attributes_sessions.apply(np.median)).T\n",
    "\n",
    "# dispersion\n",
    "d1 = pd.DataFrame(num_attributes_sessions.apply(np.std)).T\n",
    "d2 = pd.DataFrame(num_attributes_sessions.apply(min)).T\n",
    "d3 = pd.DataFrame(num_attributes_sessions.apply(max)).T\n",
    "d4 = pd.DataFrame(num_attributes_sessions.apply(lambda x: x.max()-x.min())).T\n",
    "d5 = pd.DataFrame(num_attributes_sessions.apply(lambda x: x.skew())).T\n",
    "d6 = pd.DataFrame(num_attributes_sessions.apply(lambda x: x.kurtosis())).T\n",
    "\n",
    "# concat\n",
    "ct_sessions = pd.concat([d2, d3, d4, ct1, ct2, d1, d5, d6]).T.reset_index()\n",
    "ct_sessions.columns = ['attributes', 'min', 'max', 'range', 'mean', 'median', 'std', 'skew', 'kurtosis']\n",
    "ct_sessions"
   ]
  },
  {
   "cell_type": "markdown",
   "id": "454a75a0",
   "metadata": {
    "hidden": true
   },
   "source": [
    "### 1.5.3. Categorical - Users"
   ]
  },
  {
   "cell_type": "code",
   "execution_count": 17,
   "id": "c12c1aef",
   "metadata": {
    "ExecuteTime": {
     "end_time": "2023-02-25T15:41:06.006651Z",
     "start_time": "2023-02-25T15:41:05.824170Z"
    },
    "hidden": true
   },
   "outputs": [
    {
     "data": {
      "text/html": [
       "<div>\n",
       "<style scoped>\n",
       "    .dataframe tbody tr th:only-of-type {\n",
       "        vertical-align: middle;\n",
       "    }\n",
       "\n",
       "    .dataframe tbody tr th {\n",
       "        vertical-align: top;\n",
       "    }\n",
       "\n",
       "    .dataframe thead th {\n",
       "        text-align: right;\n",
       "    }\n",
       "</style>\n",
       "<table border=\"1\" class=\"dataframe\">\n",
       "  <thead>\n",
       "    <tr style=\"text-align: right;\">\n",
       "      <th></th>\n",
       "      <th>gender</th>\n",
       "      <th>signup_method</th>\n",
       "      <th>language</th>\n",
       "      <th>affiliate_channel</th>\n",
       "      <th>affiliate_provider</th>\n",
       "      <th>first_affiliate_tracked</th>\n",
       "      <th>signup_app</th>\n",
       "      <th>first_device_type</th>\n",
       "      <th>first_browser</th>\n",
       "      <th>country_destination</th>\n",
       "    </tr>\n",
       "  </thead>\n",
       "  <tbody>\n",
       "    <tr>\n",
       "      <th>count</th>\n",
       "      <td>122636</td>\n",
       "      <td>122636</td>\n",
       "      <td>122636</td>\n",
       "      <td>122636</td>\n",
       "      <td>122636</td>\n",
       "      <td>122636</td>\n",
       "      <td>122636</td>\n",
       "      <td>122636</td>\n",
       "      <td>122636</td>\n",
       "      <td>122636</td>\n",
       "    </tr>\n",
       "    <tr>\n",
       "      <th>unique</th>\n",
       "      <td>4</td>\n",
       "      <td>3</td>\n",
       "      <td>25</td>\n",
       "      <td>8</td>\n",
       "      <td>17</td>\n",
       "      <td>7</td>\n",
       "      <td>4</td>\n",
       "      <td>9</td>\n",
       "      <td>41</td>\n",
       "      <td>12</td>\n",
       "    </tr>\n",
       "    <tr>\n",
       "      <th>top</th>\n",
       "      <td>FEMALE</td>\n",
       "      <td>basic</td>\n",
       "      <td>en</td>\n",
       "      <td>direct</td>\n",
       "      <td>direct</td>\n",
       "      <td>untracked</td>\n",
       "      <td>Web</td>\n",
       "      <td>Mac Desktop</td>\n",
       "      <td>Chrome</td>\n",
       "      <td>NDF</td>\n",
       "    </tr>\n",
       "    <tr>\n",
       "      <th>freq</th>\n",
       "      <td>56362</td>\n",
       "      <td>66039</td>\n",
       "      <td>118205</td>\n",
       "      <td>79093</td>\n",
       "      <td>78954</td>\n",
       "      <td>64712</td>\n",
       "      <td>108283</td>\n",
       "      <td>57943</td>\n",
       "      <td>41778</td>\n",
       "      <td>54852</td>\n",
       "    </tr>\n",
       "  </tbody>\n",
       "</table>\n",
       "</div>"
      ],
      "text/plain": [
       "        gender signup_method language affiliate_channel affiliate_provider  \\\n",
       "count   122636        122636   122636            122636             122636   \n",
       "unique       4             3       25                 8                 17   \n",
       "top     FEMALE         basic       en            direct             direct   \n",
       "freq     56362         66039   118205             79093              78954   \n",
       "\n",
       "       first_affiliate_tracked signup_app first_device_type first_browser  \\\n",
       "count                   122636     122636            122636        122636   \n",
       "unique                       7          4                 9            41   \n",
       "top                  untracked        Web       Mac Desktop        Chrome   \n",
       "freq                     64712     108283             57943         41778   \n",
       "\n",
       "       country_destination  \n",
       "count               122636  \n",
       "unique                  12  \n",
       "top                    NDF  \n",
       "freq                 54852  "
      ]
     },
     "execution_count": 17,
     "metadata": {},
     "output_type": "execute_result"
    }
   ],
   "source": [
    "cat_attributes.drop('id', axis=1).describe()"
   ]
  },
  {
   "cell_type": "markdown",
   "id": "d806d010",
   "metadata": {
    "hidden": true
   },
   "source": [
    "### 1.5.4. Categorical - Sessions"
   ]
  },
  {
   "cell_type": "code",
   "execution_count": 18,
   "id": "e4e5904c",
   "metadata": {
    "ExecuteTime": {
     "end_time": "2023-02-25T15:41:10.492976Z",
     "start_time": "2023-02-25T15:41:06.010055Z"
    },
    "hidden": true
   },
   "outputs": [
    {
     "data": {
      "text/html": [
       "<div>\n",
       "<style scoped>\n",
       "    .dataframe tbody tr th:only-of-type {\n",
       "        vertical-align: middle;\n",
       "    }\n",
       "\n",
       "    .dataframe tbody tr th {\n",
       "        vertical-align: top;\n",
       "    }\n",
       "\n",
       "    .dataframe thead th {\n",
       "        text-align: right;\n",
       "    }\n",
       "</style>\n",
       "<table border=\"1\" class=\"dataframe\">\n",
       "  <thead>\n",
       "    <tr style=\"text-align: right;\">\n",
       "      <th></th>\n",
       "      <th>action</th>\n",
       "      <th>action_type</th>\n",
       "      <th>action_detail</th>\n",
       "      <th>device_type</th>\n",
       "    </tr>\n",
       "  </thead>\n",
       "  <tbody>\n",
       "    <tr>\n",
       "      <th>count</th>\n",
       "      <td>9213930</td>\n",
       "      <td>9213930</td>\n",
       "      <td>9213930</td>\n",
       "      <td>9213930</td>\n",
       "    </tr>\n",
       "    <tr>\n",
       "      <th>unique</th>\n",
       "      <td>347</td>\n",
       "      <td>10</td>\n",
       "      <td>155</td>\n",
       "      <td>14</td>\n",
       "    </tr>\n",
       "    <tr>\n",
       "      <th>top</th>\n",
       "      <td>show</td>\n",
       "      <td>view</td>\n",
       "      <td>view_search_results</td>\n",
       "      <td>Mac Desktop</td>\n",
       "    </tr>\n",
       "    <tr>\n",
       "      <th>freq</th>\n",
       "      <td>2178382</td>\n",
       "      <td>3545621</td>\n",
       "      <td>1770931</td>\n",
       "      <td>3019523</td>\n",
       "    </tr>\n",
       "  </tbody>\n",
       "</table>\n",
       "</div>"
      ],
      "text/plain": [
       "         action action_type        action_detail  device_type\n",
       "count   9213930     9213930              9213930      9213930\n",
       "unique      347          10                  155           14\n",
       "top        show        view  view_search_results  Mac Desktop\n",
       "freq    2178382     3545621              1770931      3019523"
      ]
     },
     "execution_count": 18,
     "metadata": {},
     "output_type": "execute_result"
    }
   ],
   "source": [
    "cat_attributes_sessions.drop('user_id', axis=1).describe()"
   ]
  },
  {
   "cell_type": "code",
   "execution_count": 19,
   "id": "997aa162",
   "metadata": {
    "ExecuteTime": {
     "end_time": "2023-02-25T15:41:39.954389Z",
     "start_time": "2023-02-25T15:41:10.497010Z"
    },
    "hidden": true
   },
   "outputs": [],
   "source": [
    "cat_attributes_list = cat_attributes_sessions.drop('user_id', axis=1).columns.tolist()\n",
    "corr_dict = {}\n",
    "\n",
    "for i in range(len(cat_attributes_list)):\n",
    "    corr_list = []\n",
    "    \n",
    "    for j in range(len(cat_attributes_list)):\n",
    "        ref = cat_attributes_list[i]\n",
    "        feat = cat_attributes_list[j]\n",
    "               \n",
    "        # correlation\n",
    "        corr = cramer_v(cat_attributes_sessions[ref], cat_attributes_sessions[feat])\n",
    "        \n",
    "        # append a list\n",
    "        corr_list.append(corr)\n",
    "    \n",
    "    # append correlation list for each ref attributes\n",
    "    corr_dict[ref] = corr_list"
   ]
  },
  {
   "cell_type": "code",
   "execution_count": 20,
   "id": "fd3456ae",
   "metadata": {
    "ExecuteTime": {
     "end_time": "2023-02-25T15:41:40.279209Z",
     "start_time": "2023-02-25T15:41:39.957718Z"
    },
    "hidden": true
   },
   "outputs": [
    {
     "data": {
      "image/png": "[encoded data removed]",
      "text/plain": [
       "<Figure size 640x480 with 2 Axes>"
      ]
     },
     "metadata": {},
     "output_type": "display_data"
    }
   ],
   "source": [
    "d = pd.DataFrame(corr_dict)\n",
    "d = d.set_index(d.columns)\n",
    "sns.heatmap(d, annot=True);"
   ]
  },
  {
   "cell_type": "markdown",
   "id": "d860aac8",
   "metadata": {
    "ExecuteTime": {
     "end_time": "2023-01-25T23:12:58.072519Z",
     "start_time": "2023-01-25T23:12:54.813859Z"
    }
   },
   "source": [
    "# 2.0. Feature Engineering"
   ]
  },
  {
   "cell_type": "code",
   "execution_count": 21,
   "id": "a764afe8",
   "metadata": {
    "ExecuteTime": {
     "end_time": "2023-02-25T15:41:40.287314Z",
     "start_time": "2023-02-25T15:41:40.282807Z"
    }
   },
   "outputs": [],
   "source": [
    "df2 = df1#.copy()"
   ]
  },
  {
   "cell_type": "markdown",
   "id": "418ad77d",
   "metadata": {
    "heading_collapsed": true
   },
   "source": [
    "## 2.1. Create New Features"
   ]
  },
  {
   "cell_type": "code",
   "execution_count": 22,
   "id": "a570f474",
   "metadata": {
    "ExecuteTime": {
     "end_time": "2023-02-25T15:41:41.876502Z",
     "start_time": "2023-02-25T15:41:40.290649Z"
    },
    "hidden": true
   },
   "outputs": [
    {
     "name": "stderr",
     "output_type": "stream",
     "text": [
      "/tmp/ipykernel_5542/84586845.py:21: FutureWarning: Series.dt.weekofyear and Series.dt.week have been deprecated. Please use Series.dt.isocalendar().week instead.\n",
      "  df2['week_of_year_first_active'] = df2['first_active'].dt.weekofyear\n",
      "/tmp/ipykernel_5542/84586845.py:33: FutureWarning: Series.dt.weekofyear and Series.dt.week have been deprecated. Please use Series.dt.isocalendar().week instead.\n",
      "  df2['week_of_year_first_booking'] = df2['date_first_booking'].dt.weekofyear\n",
      "/tmp/ipykernel_5542/84586845.py:45: FutureWarning: Series.dt.weekofyear and Series.dt.week have been deprecated. Please use Series.dt.isocalendar().week instead.\n",
      "  df2['week_of_year_account_created'] = df2['date_account_created'].dt.weekofyear\n"
     ]
    }
   ],
   "source": [
    "# days from first active up to first booking\n",
    "df2['first_active'] = pd.to_datetime(df2['timestamp_first_active'], format('%Y-%m-%d'))\n",
    "df2['days_from_first_active_until_booking'] = (df2['date_first_booking']-df2['first_active']).apply(lambda x: x.days)\n",
    "\n",
    "# days from first active up to account created\n",
    "df2['days_from_first_active_until_account_created'] = (df2['date_account_created']-df2['first_active']).apply(lambda x: x.days)\n",
    "\n",
    "# days from account created up to first booking\n",
    "df2['days_from_account_created_until_booking'] = (df2['date_first_booking']-df2['date_account_created']).apply(lambda x: x.days)\n",
    "\n",
    "#======================FIRST ACTIVE===============================\n",
    "# year first active\n",
    "df2['year_first_active'] = df2['first_active'].dt.year\n",
    "# month first active\n",
    "df2['month_first_active'] = df2['first_active'].dt.month\n",
    "# day first active\n",
    "df2['day_first_active'] = df2['first_active'].dt.day\n",
    "# day of week first active\n",
    "df2['day_of_week_first_active'] = df2['first_active'].dt.dayofweek\n",
    "# week of year first active\n",
    "df2['week_of_year_first_active'] = df2['first_active'].dt.weekofyear\n",
    "\n",
    "#======================FIRST ACTIVE===============================\n",
    "# year first booking\n",
    "df2['year_first_booking'] = df2['date_first_booking'].dt.year\n",
    "# month first booking\n",
    "df2['month_first_booking'] = df2['date_first_booking'].dt.month\n",
    "# day first booking\n",
    "df2['day_first_booking'] = df2['date_first_booking'].dt.day\n",
    "# day of week first booking\n",
    "df2['day_of_week_first_booking'] = df2['date_first_booking'].dt.dayofweek\n",
    "# week of year first booking\n",
    "df2['week_of_year_first_booking'] = df2['date_first_booking'].dt.weekofyear\n",
    "\n",
    "#======================FIRST ACCOUNT CREATED===============================\n",
    "# year first account_created\n",
    "df2['year_account_created'] = df2['date_account_created'].dt.year\n",
    "# month first account_created\n",
    "df2['month_account_created'] = df2['date_account_created'].dt.month\n",
    "# day first account_created\n",
    "df2['day_account_created'] = df2['date_account_created'].dt.day\n",
    "# day of week first account_created\n",
    "df2['day_of_week_account_created'] = df2['date_account_created'].dt.dayofweek\n",
    "# week of year first account_created\n",
    "df2['week_of_year_account_created'] = df2['date_account_created'].dt.weekofyear"
   ]
  },
  {
   "cell_type": "markdown",
   "id": "50ef182b",
   "metadata": {
    "ExecuteTime": {
     "end_time": "2023-01-25T23:12:58.072519Z",
     "start_time": "2023-01-25T23:12:54.813859Z"
    }
   },
   "source": [
    "# 3.0. Data Filtering"
   ]
  },
  {
   "cell_type": "code",
   "execution_count": 23,
   "id": "a39e842e",
   "metadata": {
    "ExecuteTime": {
     "end_time": "2023-02-25T15:41:41.883668Z",
     "start_time": "2023-02-25T15:41:41.879902Z"
    }
   },
   "outputs": [],
   "source": [
    "df3 = df2#.copy()"
   ]
  },
  {
   "cell_type": "code",
   "execution_count": 24,
   "id": "b7d1321b",
   "metadata": {
    "ExecuteTime": {
     "end_time": "2023-02-25T15:41:42.037232Z",
     "start_time": "2023-02-25T15:41:41.886748Z"
    }
   },
   "outputs": [
    {
     "data": {
      "text/plain": [
       "id                                                      object\n",
       "date_account_created                            datetime64[ns]\n",
       "timestamp_first_active                          datetime64[ns]\n",
       "date_first_booking                              datetime64[ns]\n",
       "gender                                                  object\n",
       "age                                                      int64\n",
       "signup_method                                           object\n",
       "signup_flow                                              int64\n",
       "language                                                object\n",
       "affiliate_channel                                       object\n",
       "affiliate_provider                                      object\n",
       "first_affiliate_tracked                                 object\n",
       "signup_app                                              object\n",
       "first_device_type                                       object\n",
       "first_browser                                           object\n",
       "country_destination                                     object\n",
       "first_active                                    datetime64[ns]\n",
       "days_from_first_active_until_booking                     int64\n",
       "days_from_first_active_until_account_created             int64\n",
       "days_from_account_created_until_booking                  int64\n",
       "year_first_active                                        int64\n",
       "month_first_active                                       int64\n",
       "day_first_active                                         int64\n",
       "day_of_week_first_active                                 int64\n",
       "week_of_year_first_active                                int64\n",
       "year_first_booking                                       int64\n",
       "month_first_booking                                      int64\n",
       "day_first_booking                                        int64\n",
       "day_of_week_first_booking                                int64\n",
       "week_of_year_first_booking                               int64\n",
       "year_account_created                                     int64\n",
       "month_account_created                                    int64\n",
       "day_account_created                                      int64\n",
       "day_of_week_account_created                              int64\n",
       "week_of_year_account_created                             int64\n",
       "dtype: object"
      ]
     },
     "execution_count": 24,
     "metadata": {},
     "output_type": "execute_result"
    }
   ],
   "source": [
    "df3.dtypes"
   ]
  },
  {
   "cell_type": "markdown",
   "id": "5558147b",
   "metadata": {
    "ExecuteTime": {
     "end_time": "2023-02-15T00:27:06.003328Z",
     "start_time": "2023-02-15T00:27:05.999398Z"
    },
    "heading_collapsed": true
   },
   "source": [
    "## 3.1. Filtering Rows"
   ]
  },
  {
   "cell_type": "code",
   "execution_count": 25,
   "id": "3bbc7be4",
   "metadata": {
    "ExecuteTime": {
     "end_time": "2023-02-25T15:41:42.299684Z",
     "start_time": "2023-02-25T15:41:42.042463Z"
    },
    "hidden": true
   },
   "outputs": [],
   "source": [
    "# age - between 15 and 120 years old\n",
    "df3 = df3[(df2['age']>15) & (df3['age']<120)]\n",
    "\n",
    "# secs elapsed - there is no possible 0 secs on website\n",
    "# df_sessions = df_sessions[df_sessions['secs_elapsed']>0]\n"
   ]
  },
  {
   "cell_type": "markdown",
   "id": "6ba7dce0",
   "metadata": {
    "ExecuteTime": {
     "end_time": "2023-02-15T00:27:06.003328Z",
     "start_time": "2023-02-15T00:27:05.999398Z"
    },
    "heading_collapsed": true
   },
   "source": [
    "## 3.2. Columns Selection"
   ]
  },
  {
   "cell_type": "code",
   "execution_count": 26,
   "id": "a0e4c590",
   "metadata": {
    "ExecuteTime": {
     "end_time": "2023-02-25T15:41:42.496866Z",
     "start_time": "2023-02-25T15:41:42.307688Z"
    },
    "hidden": true
   },
   "outputs": [],
   "source": [
    "cols = ['date_account_created', 'timestamp_first_active', 'date_first_booking', 'first_active']\n",
    "df3 = df3.drop(cols, axis=1)"
   ]
  },
  {
   "cell_type": "markdown",
   "id": "e536592a",
   "metadata": {},
   "source": [
    "# 4.0 Balanced Dataset"
   ]
  },
  {
   "cell_type": "code",
   "execution_count": 27,
   "id": "b9e44aec",
   "metadata": {
    "ExecuteTime": {
     "end_time": "2023-02-25T15:41:42.611263Z",
     "start_time": "2023-02-25T15:41:42.504890Z"
    }
   },
   "outputs": [],
   "source": [
    "df4 = df3#.copy()"
   ]
  },
  {
   "cell_type": "code",
   "execution_count": 28,
   "id": "5b9a4fa2",
   "metadata": {
    "ExecuteTime": {
     "end_time": "2023-02-25T15:41:43.287091Z",
     "start_time": "2023-02-25T15:41:42.642901Z"
    }
   },
   "outputs": [],
   "source": [
    "# encoding categorical variables\n",
    "ohe = pp.OneHotEncoder()\n",
    "\n",
    "# numerical\n",
    "col_num = df4.select_dtypes(include=['int64', 'float64']).columns.tolist()\n",
    "\n",
    "# categorical\n",
    "col_cat = df4.select_dtypes(exclude=['int64', 'float64', 'datetime64[ns]']).drop(['id', 'country_destination'], axis=1).columns.tolist()\n",
    "\n",
    "# encoding\n",
    "df4_dummy = pd.DataFrame(ohe.fit_transform(df4[col_cat]).toarray(), index=df4.index)\n",
    "\n",
    "# join numerical and categorical\n",
    "df42 = pd.concat([df4[col_num], df4_dummy], axis=1)\n",
    "df42.columns = df42.columns.astype(str)"
   ]
  },
  {
   "cell_type": "markdown",
   "id": "928938a8",
   "metadata": {},
   "source": [
    "## 4.1. Random Undersampling"
   ]
  },
  {
   "cell_type": "code",
   "execution_count": 29,
   "id": "0266705f",
   "metadata": {
    "ExecuteTime": {
     "end_time": "2023-02-25T15:41:43.941512Z",
     "start_time": "2023-02-25T15:41:43.290307Z"
    }
   },
   "outputs": [],
   "source": [
    "# ratio balancing\n",
    "ratio_balanced = {'NDF': 10000}\n",
    "\n",
    "# define sampler\n",
    "undersampling = us.RandomUnderSampler(sampling_strategy=ratio_balanced, random_state=32)\n",
    "\n",
    "# apply sampler\n",
    "x_under, y_under = undersampling.fit_resample(df42, df4['country_destination'])"
   ]
  },
  {
   "cell_type": "code",
   "execution_count": 30,
   "id": "d828dd55",
   "metadata": {
    "ExecuteTime": {
     "end_time": "2023-02-25T15:41:43.966727Z",
     "start_time": "2023-02-25T15:41:43.945275Z"
    }
   },
   "outputs": [
    {
     "data": {
      "text/plain": [
       "NDF      54852\n",
       "US       48057\n",
       "other     7511\n",
       "FR        3669\n",
       "IT        2014\n",
       "GB        1758\n",
       "ES        1685\n",
       "CA        1064\n",
       "DE         841\n",
       "NL         595\n",
       "AU         433\n",
       "PT         157\n",
       "Name: country_destination, dtype: int64"
      ]
     },
     "execution_count": 30,
     "metadata": {},
     "output_type": "execute_result"
    }
   ],
   "source": [
    "df4['country_destination'].value_counts()"
   ]
  },
  {
   "cell_type": "code",
   "execution_count": 31,
   "id": "52ffa47b",
   "metadata": {
    "ExecuteTime": {
     "end_time": "2023-02-25T15:41:44.128434Z",
     "start_time": "2023-02-25T15:41:43.971291Z"
    }
   },
   "outputs": [
    {
     "data": {
      "text/plain": [
       "US       48057\n",
       "NDF      10000\n",
       "other     7511\n",
       "FR        3669\n",
       "IT        2014\n",
       "GB        1758\n",
       "ES        1685\n",
       "CA        1064\n",
       "DE         841\n",
       "NL         595\n",
       "AU         433\n",
       "PT         157\n",
       "Name: country_destination, dtype: int64"
      ]
     },
     "execution_count": 31,
     "metadata": {},
     "output_type": "execute_result"
    }
   ],
   "source": [
    "y_under.value_counts()"
   ]
  },
  {
   "cell_type": "markdown",
   "id": "e26f43dd",
   "metadata": {},
   "source": [
    "## 4.2. Random Oversampling"
   ]
  },
  {
   "cell_type": "code",
   "execution_count": 32,
   "id": "5c6bab28",
   "metadata": {
    "ExecuteTime": {
     "end_time": "2023-02-25T15:41:46.729170Z",
     "start_time": "2023-02-25T15:41:44.133986Z"
    }
   },
   "outputs": [],
   "source": [
    "## ratio balancing\n",
    "# ratio_balanced = {'NDF': 10000}\n",
    "\n",
    "# define sampler\n",
    "oversampling = ovs.RandomOverSampler(sampling_strategy='auto', random_state=32)\n",
    "\n",
    "# apply sampler\n",
    "x_over, y_over = oversampling.fit_resample(df42, df4['country_destination'])"
   ]
  },
  {
   "cell_type": "code",
   "execution_count": 33,
   "id": "5aad19bb",
   "metadata": {
    "ExecuteTime": {
     "end_time": "2023-02-25T15:41:46.752317Z",
     "start_time": "2023-02-25T15:41:46.731611Z"
    }
   },
   "outputs": [
    {
     "data": {
      "text/plain": [
       "NDF      54852\n",
       "US       48057\n",
       "other     7511\n",
       "FR        3669\n",
       "IT        2014\n",
       "GB        1758\n",
       "ES        1685\n",
       "CA        1064\n",
       "DE         841\n",
       "NL         595\n",
       "AU         433\n",
       "PT         157\n",
       "Name: country_destination, dtype: int64"
      ]
     },
     "execution_count": 33,
     "metadata": {},
     "output_type": "execute_result"
    }
   ],
   "source": [
    "df4['country_destination'].value_counts()"
   ]
  },
  {
   "cell_type": "code",
   "execution_count": 34,
   "id": "dda6ba1a",
   "metadata": {
    "ExecuteTime": {
     "end_time": "2023-02-25T15:41:46.949380Z",
     "start_time": "2023-02-25T15:41:46.755353Z"
    }
   },
   "outputs": [
    {
     "data": {
      "text/plain": [
       "NDF      54852\n",
       "US       54852\n",
       "other    54852\n",
       "CA       54852\n",
       "FR       54852\n",
       "IT       54852\n",
       "ES       54852\n",
       "GB       54852\n",
       "NL       54852\n",
       "DE       54852\n",
       "AU       54852\n",
       "PT       54852\n",
       "Name: country_destination, dtype: int64"
      ]
     },
     "execution_count": 34,
     "metadata": {},
     "output_type": "execute_result"
    }
   ],
   "source": [
    "y_over.value_counts()"
   ]
  },
  {
   "cell_type": "markdown",
   "id": "8d65c92a",
   "metadata": {},
   "source": [
    "## 4.3. SMOTE + TOMEKLINK"
   ]
  },
  {
   "cell_type": "code",
   "execution_count": 35,
   "id": "df2f9978",
   "metadata": {
    "ExecuteTime": {
     "end_time": "2023-02-25T16:35:16.998033Z",
     "start_time": "2023-02-25T15:41:46.952590Z"
    }
   },
   "outputs": [
    {
     "name": "stderr",
     "output_type": "stream",
     "text": [
      "/home/felipe/repos/ds_em_classificacao/airbnb_env/lib/python3.9/site-packages/imblearn/over_sampling/_smote/base.py:336: FutureWarning: The parameter `n_jobs` has been deprecated in 0.10 and will be removed in 0.12. You can pass an nearest neighbors estimator where `n_jobs` is already set instead.\n",
      "  warnings.warn(\n"
     ]
    }
   ],
   "source": [
    "# define sampler\n",
    "smt = cb.SMOTETomek(sampling_strategy='auto', random_state=32, n_jobs=-1)\n",
    "\n",
    "# apply sampler\n",
    "X_smt, y_smt = smt.fit_resample(df42, df4['country_destination'])"
   ]
  },
  {
   "cell_type": "code",
   "execution_count": 36,
   "id": "a852c756",
   "metadata": {
    "ExecuteTime": {
     "end_time": "2023-02-25T16:35:18.583807Z",
     "start_time": "2023-02-25T16:35:17.002075Z"
    }
   },
   "outputs": [],
   "source": [
    "# numerical data\n",
    "df43 = X_smt[col_num]\n",
    "\n",
    "# categorical data\n",
    "df44 = X_smt.drop(col_num, axis=1)\n",
    "df45 = pd.DataFrame(ohe.inverse_transform(df44), columns=col_cat, index=df44.index)\n",
    "\n",
    "# join numerical categorical\n",
    "df46 = pd.concat([df43, df45], axis=1)\n",
    "df46['country_destination'] = y_smt"
   ]
  },
  {
   "cell_type": "markdown",
   "id": "54242660",
   "metadata": {
    "ExecuteTime": {
     "end_time": "2023-01-25T23:12:58.072519Z",
     "start_time": "2023-01-25T23:12:54.813859Z"
    }
   },
   "source": [
    "# 5.0. Data Preparation"
   ]
  },
  {
   "cell_type": "code",
   "execution_count": 37,
   "id": "fe853cd4",
   "metadata": {
    "ExecuteTime": {
     "end_time": "2023-02-25T16:35:18.620286Z",
     "start_time": "2023-02-25T16:35:18.616763Z"
    }
   },
   "outputs": [],
   "source": [
    "df5 = df46#.copy()"
   ]
  },
  {
   "cell_type": "code",
   "execution_count": 38,
   "id": "eedc101d",
   "metadata": {
    "ExecuteTime": {
     "end_time": "2023-02-25T16:35:20.132434Z",
     "start_time": "2023-02-25T16:35:18.623412Z"
    }
   },
   "outputs": [],
   "source": [
    "# dummy variables\n",
    "df5_dummy = pd.get_dummies(df5.drop(['country_destination'], axis=1))\n",
    "\n",
    "# join id and country destination\n",
    "df5 = pd.concat([df5['country_destination'], df5_dummy], axis=1)"
   ]
  },
  {
   "cell_type": "markdown",
   "id": "f0146879",
   "metadata": {
    "ExecuteTime": {
     "end_time": "2023-01-25T23:12:58.072519Z",
     "start_time": "2023-01-25T23:12:54.813859Z"
    }
   },
   "source": [
    "# 6.0. Feature Selection"
   ]
  },
  {
   "cell_type": "code",
   "execution_count": 39,
   "id": "bee04c22",
   "metadata": {
    "ExecuteTime": {
     "end_time": "2023-02-25T16:35:20.138248Z",
     "start_time": "2023-02-25T16:35:20.135051Z"
    }
   },
   "outputs": [],
   "source": [
    "# drop columns\n",
    "#cols_drop = ['date_account_created', 'timestamp_first_active', 'date_first_booking', 'first_active']\n",
    "df6 = df5#.copy() #.drop(cols_drop, axis=1)"
   ]
  },
  {
   "cell_type": "code",
   "execution_count": 40,
   "id": "9e632e2e",
   "metadata": {
    "ExecuteTime": {
     "end_time": "2023-02-25T16:35:20.783791Z",
     "start_time": "2023-02-25T16:35:20.142418Z"
    }
   },
   "outputs": [],
   "source": [
    "# split dataset into features and target\n",
    "X = df6.drop('country_destination', axis=1)\n",
    "y = df6['country_destination']"
   ]
  },
  {
   "cell_type": "code",
   "execution_count": 41,
   "id": "bb83c4ee",
   "metadata": {
    "ExecuteTime": {
     "end_time": "2023-02-25T16:35:22.530004Z",
     "start_time": "2023-02-25T16:35:20.786084Z"
    }
   },
   "outputs": [],
   "source": [
    "# split dataset into train and test\n",
    "X_train, X_test, y_train, y_test = ms.train_test_split(X, y, test_size=0.2, random_state=42)"
   ]
  },
  {
   "cell_type": "markdown",
   "id": "0ba8bc77",
   "metadata": {
    "ExecuteTime": {
     "end_time": "2023-01-25T23:12:58.072519Z",
     "start_time": "2023-01-25T23:12:54.813859Z"
    }
   },
   "source": [
    "# 7.0. Machine Learning Model"
   ]
  },
  {
   "cell_type": "code",
   "execution_count": 42,
   "id": "6b869d03",
   "metadata": {
    "ExecuteTime": {
     "end_time": "2023-02-25T16:35:22.546022Z",
     "start_time": "2023-02-25T16:35:22.533548Z"
    }
   },
   "outputs": [],
   "source": [
    "# drop id\n",
    "x_train = X_train#.drop('id', axis=1)\n",
    "x_test = X_test#.drop('id', axis=1)"
   ]
  },
  {
   "cell_type": "markdown",
   "id": "4332d938",
   "metadata": {},
   "source": [
    "## 7.1. Baseline Model"
   ]
  },
  {
   "cell_type": "code",
   "execution_count": 43,
   "id": "8871fe5a",
   "metadata": {
    "ExecuteTime": {
     "end_time": "2023-02-25T16:35:23.219903Z",
     "start_time": "2023-02-25T16:35:22.549621Z"
    }
   },
   "outputs": [],
   "source": [
    "country_dest_list = df5['country_destination'].drop_duplicates().sort_values().tolist()\n",
    "country_dest_weights = df5['country_destination'].value_counts(normalize=True).sort_index().tolist()\n",
    "k_num = y_test.shape[0]\n",
    "\n",
    "# random model\n",
    "yhat_random = random.choices(population=country_dest_list, \n",
    "                             weights=country_dest_weights,\n",
    "                             k=k_num)"
   ]
  },
  {
   "cell_type": "code",
   "execution_count": 44,
   "id": "19ce4095",
   "metadata": {
    "ExecuteTime": {
     "end_time": "2023-02-25T16:35:33.363581Z",
     "start_time": "2023-02-25T16:35:23.235860Z"
    }
   },
   "outputs": [
    {
     "name": "stdout",
     "output_type": "stream",
     "text": [
      "Accurary: 0.0836\n",
      "Balanced Accurary: 0.0836\n",
      "Kappa Score: 0.0002\n",
      "              precision    recall  f1-score   support\n",
      "\n",
      "          AU       0.09      0.09      0.09     10922\n",
      "          CA       0.09      0.09      0.09     11020\n",
      "          DE       0.08      0.09      0.08     10923\n",
      "          ES       0.08      0.08      0.08     10826\n",
      "          FR       0.08      0.08      0.08     10880\n",
      "          GB       0.09      0.08      0.08     11189\n",
      "          IT       0.09      0.08      0.09     10960\n",
      "         NDF       0.08      0.08      0.08     10924\n",
      "          NL       0.08      0.08      0.08     11019\n",
      "          PT       0.08      0.08      0.08     11067\n",
      "          US       0.08      0.08      0.08     10724\n",
      "       other       0.08      0.08      0.08     10706\n",
      "\n",
      "    accuracy                           0.08    131160\n",
      "   macro avg       0.08      0.08      0.08    131160\n",
      "weighted avg       0.08      0.08      0.08    131160\n",
      "\n"
     ]
    },
    {
     "data": {
      "text/plain": [
       "<AxesSubplot: title={'center': 'Confusion Matrix'}, xlabel='Predicted label', ylabel='True label'>"
      ]
     },
     "execution_count": 44,
     "metadata": {},
     "output_type": "execute_result"
    },
    {
     "data": {
      "image/png": "[encoded data removed]",
      "text/plain": [
       "<Figure size 1200x1200 with 2 Axes>"
      ]
     },
     "metadata": {},
     "output_type": "display_data"
    }
   ],
   "source": [
    "# accuracy\n",
    "acc_random = m.accuracy_score(y_test, yhat_random)\n",
    "print('Accurary: {:.4f}'.format(acc_random))\n",
    "\n",
    "# balanced accuracy\n",
    "balanced_acc_random = m.balanced_accuracy_score(y_test, yhat_random)\n",
    "print('Balanced Accurary: {:.4f}'.format(balanced_acc_random))\n",
    "\n",
    "# kappa score\n",
    "kappa_random = m.cohen_kappa_score(y_test, yhat_random)\n",
    "print('Kappa Score: {:.4f}'.format(kappa_random))\n",
    "\n",
    "# classification report\n",
    "print(m.classification_report(y_test, yhat_random))\n",
    "\n",
    "# confusion matrix\n",
    "mt.plot_confusion_matrix(y_test, yhat_random, normalize=False, figsize=(12, 12))"
   ]
  },
  {
   "cell_type": "markdown",
   "id": "98902ec7",
   "metadata": {},
   "source": [
    "## 7.2. Neural Network - MLP"
   ]
  },
  {
   "cell_type": "code",
   "execution_count": 45,
   "id": "dd70cd1f",
   "metadata": {
    "ExecuteTime": {
     "end_time": "2023-02-25T16:35:33.698524Z",
     "start_time": "2023-02-25T16:35:33.370940Z"
    }
   },
   "outputs": [],
   "source": [
    "# transform y_train in dummy to use in the neural network\n",
    "ohe = pp.OneHotEncoder()\n",
    "y_train_nn = ohe.fit_transform(y_train.values.reshape(-1, 1)).toarray()"
   ]
  },
  {
   "cell_type": "code",
   "execution_count": 46,
   "id": "485c1b7f",
   "metadata": {
    "ExecuteTime": {
     "end_time": "2023-02-25T17:27:23.849033Z",
     "start_time": "2023-02-25T16:35:33.701540Z"
    }
   },
   "outputs": [
    {
     "name": "stderr",
     "output_type": "stream",
     "text": [
      "2023-02-25 13:35:35.909203: W tensorflow/compiler/xla/stream_executor/platform/default/dso_loader.cc:64] Could not load dynamic library 'libcuda.so.1'; dlerror: libcuda.so.1: cannot open shared object file: No such file or directory\n",
      "2023-02-25 13:35:35.909259: W tensorflow/compiler/xla/stream_executor/cuda/cuda_driver.cc:265] failed call to cuInit: UNKNOWN ERROR (303)\n",
      "2023-02-25 13:35:35.909303: I tensorflow/compiler/xla/stream_executor/cuda/cuda_diagnostics.cc:169] retrieving CUDA diagnostic information for host: q550lf\n",
      "2023-02-25 13:35:35.909314: I tensorflow/compiler/xla/stream_executor/cuda/cuda_diagnostics.cc:176] hostname: q550lf\n",
      "2023-02-25 13:35:35.927899: I tensorflow/compiler/xla/stream_executor/cuda/cuda_diagnostics.cc:200] libcuda reported version is: NOT_FOUND: was unable to find libcuda.so DSO loaded into this program\n",
      "2023-02-25 13:35:35.946768: I tensorflow/compiler/xla/stream_executor/cuda/cuda_diagnostics.cc:204] kernel reported version is: 470.161.3\n",
      "2023-02-25 13:35:36.041851: I tensorflow/core/platform/cpu_feature_guard.cc:193] This TensorFlow binary is optimized with oneAPI Deep Neural Network Library (oneDNN) to use the following CPU instructions in performance-critical operations:  AVX2 FMA\n",
      "To enable them in other operations, rebuild TensorFlow with the appropriate compiler flags.\n",
      "2023-02-25 13:35:48.933165: W tensorflow/tsl/framework/cpu_allocator_impl.cc:82] Allocation of 579198144 exceeds 10% of free system memory.\n"
     ]
    },
    {
     "name": "stdout",
     "output_type": "stream",
     "text": [
      "Epoch 1/100\n",
      "16395/16395 [==============================] - 49s 2ms/step - loss: 41.5297 - accuracy: 0.1668\n",
      "Epoch 2/100\n",
      "16395/16395 [==============================] - 31s 2ms/step - loss: 2.2568 - accuracy: 0.1663\n",
      "Epoch 3/100\n",
      "16395/16395 [==============================] - 31s 2ms/step - loss: 2.2055 - accuracy: 0.1669\n",
      "Epoch 4/100\n",
      "16395/16395 [==============================] - 31s 2ms/step - loss: 2.2030 - accuracy: 0.1660\n",
      "Epoch 5/100\n",
      "16395/16395 [==============================] - 31s 2ms/step - loss: 2.2028 - accuracy: 0.1660\n",
      "Epoch 6/100\n",
      "16395/16395 [==============================] - 31s 2ms/step - loss: 2.2015 - accuracy: 0.1668\n",
      "Epoch 7/100\n",
      "16395/16395 [==============================] - 31s 2ms/step - loss: 2.2012 - accuracy: 0.1666\n",
      "Epoch 8/100\n",
      "16395/16395 [==============================] - 31s 2ms/step - loss: 2.2011 - accuracy: 0.1670\n",
      "Epoch 9/100\n",
      "16395/16395 [==============================] - 31s 2ms/step - loss: 2.2007 - accuracy: 0.1663\n",
      "Epoch 10/100\n",
      "16395/16395 [==============================] - 31s 2ms/step - loss: 2.2005 - accuracy: 0.1664\n",
      "Epoch 11/100\n",
      "16395/16395 [==============================] - 31s 2ms/step - loss: 2.2006 - accuracy: 0.1664\n",
      "Epoch 12/100\n",
      "16395/16395 [==============================] - 31s 2ms/step - loss: 2.1996 - accuracy: 0.1674\n",
      "Epoch 13/100\n",
      "16395/16395 [==============================] - 31s 2ms/step - loss: 2.2014 - accuracy: 0.1675\n",
      "Epoch 14/100\n",
      "16395/16395 [==============================] - 31s 2ms/step - loss: 2.2002 - accuracy: 0.1669\n",
      "Epoch 15/100\n",
      "16395/16395 [==============================] - 31s 2ms/step - loss: 2.2000 - accuracy: 0.1665\n",
      "Epoch 16/100\n",
      "16395/16395 [==============================] - 31s 2ms/step - loss: 2.2000 - accuracy: 0.1671\n",
      "Epoch 17/100\n",
      "16395/16395 [==============================] - 31s 2ms/step - loss: 2.1999 - accuracy: 0.1664\n",
      "Epoch 18/100\n",
      "16395/16395 [==============================] - 31s 2ms/step - loss: 2.2000 - accuracy: 0.1665\n",
      "Epoch 19/100\n",
      "16395/16395 [==============================] - 31s 2ms/step - loss: 2.1997 - accuracy: 0.1670\n",
      "Epoch 20/100\n",
      "16395/16395 [==============================] - 31s 2ms/step - loss: 2.1998 - accuracy: 0.1669\n",
      "Epoch 21/100\n",
      "16395/16395 [==============================] - 31s 2ms/step - loss: 2.2003 - accuracy: 0.1665\n",
      "Epoch 22/100\n",
      "16395/16395 [==============================] - 31s 2ms/step - loss: 2.1992 - accuracy: 0.1663\n",
      "Epoch 23/100\n",
      "16395/16395 [==============================] - 31s 2ms/step - loss: 2.1996 - accuracy: 0.1665\n",
      "Epoch 24/100\n",
      "16395/16395 [==============================] - 31s 2ms/step - loss: 2.1996 - accuracy: 0.1671\n",
      "Epoch 25/100\n",
      "16395/16395 [==============================] - 31s 2ms/step - loss: 2.1994 - accuracy: 0.1673\n",
      "Epoch 26/100\n",
      "16395/16395 [==============================] - 31s 2ms/step - loss: 2.1991 - accuracy: 0.1671\n",
      "Epoch 27/100\n",
      "16395/16395 [==============================] - 31s 2ms/step - loss: 2.1992 - accuracy: 0.1668\n",
      "Epoch 28/100\n",
      "16395/16395 [==============================] - 31s 2ms/step - loss: 2.1993 - accuracy: 0.1666\n",
      "Epoch 29/100\n",
      "16395/16395 [==============================] - 31s 2ms/step - loss: 2.1990 - accuracy: 0.1666\n",
      "Epoch 30/100\n",
      "16395/16395 [==============================] - 31s 2ms/step - loss: 2.1991 - accuracy: 0.1661\n",
      "Epoch 31/100\n",
      "16395/16395 [==============================] - 31s 2ms/step - loss: 2.1992 - accuracy: 0.1664\n",
      "Epoch 32/100\n",
      "16395/16395 [==============================] - 31s 2ms/step - loss: 2.1990 - accuracy: 0.1666\n",
      "Epoch 33/100\n",
      "16395/16395 [==============================] - 31s 2ms/step - loss: 2.1993 - accuracy: 0.1663\n",
      "Epoch 34/100\n",
      "16395/16395 [==============================] - 31s 2ms/step - loss: 2.1992 - accuracy: 0.1673\n",
      "Epoch 35/100\n",
      "16395/16395 [==============================] - 31s 2ms/step - loss: 2.1993 - accuracy: 0.1671\n",
      "Epoch 36/100\n",
      "16395/16395 [==============================] - 31s 2ms/step - loss: 2.1995 - accuracy: 0.1667\n",
      "Epoch 37/100\n",
      "16395/16395 [==============================] - 31s 2ms/step - loss: 2.1999 - accuracy: 0.1668\n",
      "Epoch 38/100\n",
      "16395/16395 [==============================] - 31s 2ms/step - loss: 2.1999 - accuracy: 0.1662\n",
      "Epoch 39/100\n",
      "16395/16395 [==============================] - 32s 2ms/step - loss: 2.1992 - accuracy: 0.1674\n",
      "Epoch 40/100\n",
      "16395/16395 [==============================] - 31s 2ms/step - loss: 2.1993 - accuracy: 0.1666\n",
      "Epoch 41/100\n",
      "16395/16395 [==============================] - 31s 2ms/step - loss: 2.1992 - accuracy: 0.1665\n",
      "Epoch 42/100\n",
      "16395/16395 [==============================] - 30s 2ms/step - loss: 2.2014 - accuracy: 0.1670\n",
      "Epoch 43/100\n",
      "16395/16395 [==============================] - 31s 2ms/step - loss: 2.2001 - accuracy: 0.1667\n",
      "Epoch 44/100\n",
      "16395/16395 [==============================] - 31s 2ms/step - loss: 2.1997 - accuracy: 0.1665\n",
      "Epoch 45/100\n",
      "16395/16395 [==============================] - 31s 2ms/step - loss: 2.2008 - accuracy: 0.1674\n",
      "Epoch 46/100\n",
      "16395/16395 [==============================] - 31s 2ms/step - loss: 2.2007 - accuracy: 0.1657\n",
      "Epoch 47/100\n",
      "16395/16395 [==============================] - 31s 2ms/step - loss: 2.1999 - accuracy: 0.1672\n",
      "Epoch 48/100\n",
      "16395/16395 [==============================] - 31s 2ms/step - loss: 2.1992 - accuracy: 0.1670\n",
      "Epoch 49/100\n",
      "16395/16395 [==============================] - 31s 2ms/step - loss: 2.2008 - accuracy: 0.1665\n",
      "Epoch 50/100\n",
      "16395/16395 [==============================] - 31s 2ms/step - loss: 2.1992 - accuracy: 0.1660\n",
      "Epoch 51/100\n",
      "16395/16395 [==============================] - 31s 2ms/step - loss: 2.2005 - accuracy: 0.1665\n",
      "Epoch 52/100\n",
      "16395/16395 [==============================] - 31s 2ms/step - loss: 2.2004 - accuracy: 0.1666\n",
      "Epoch 53/100\n",
      "16395/16395 [==============================] - 31s 2ms/step - loss: 2.1997 - accuracy: 0.1657\n",
      "Epoch 54/100\n",
      "16395/16395 [==============================] - 31s 2ms/step - loss: 2.1994 - accuracy: 0.1669\n",
      "Epoch 55/100\n",
      "16395/16395 [==============================] - 31s 2ms/step - loss: 2.1995 - accuracy: 0.1673\n",
      "Epoch 56/100\n",
      "16395/16395 [==============================] - 31s 2ms/step - loss: 2.1998 - accuracy: 0.1671\n",
      "Epoch 57/100\n",
      "16395/16395 [==============================] - 31s 2ms/step - loss: 2.2014 - accuracy: 0.1664\n",
      "Epoch 58/100\n",
      "16395/16395 [==============================] - 31s 2ms/step - loss: 2.1996 - accuracy: 0.1665\n",
      "Epoch 59/100\n",
      "16395/16395 [==============================] - 31s 2ms/step - loss: 2.2000 - accuracy: 0.1667\n",
      "Epoch 60/100\n",
      "16395/16395 [==============================] - 31s 2ms/step - loss: 2.1998 - accuracy: 0.1669\n",
      "Epoch 61/100\n",
      "16395/16395 [==============================] - 31s 2ms/step - loss: 2.2003 - accuracy: 0.1669\n",
      "Epoch 62/100\n",
      "16395/16395 [==============================] - 31s 2ms/step - loss: 2.2007 - accuracy: 0.1668\n",
      "Epoch 63/100\n",
      "16395/16395 [==============================] - 31s 2ms/step - loss: 2.2006 - accuracy: 0.1668\n",
      "Epoch 64/100\n",
      "16395/16395 [==============================] - 31s 2ms/step - loss: 2.1994 - accuracy: 0.1668\n",
      "Epoch 65/100\n",
      "16395/16395 [==============================] - 31s 2ms/step - loss: 2.2003 - accuracy: 0.1671\n",
      "Epoch 66/100\n",
      "16395/16395 [==============================] - 31s 2ms/step - loss: 2.2005 - accuracy: 0.1666\n",
      "Epoch 67/100\n",
      "16395/16395 [==============================] - 31s 2ms/step - loss: 2.2018 - accuracy: 0.1667\n",
      "Epoch 68/100\n",
      "16395/16395 [==============================] - 31s 2ms/step - loss: 2.2001 - accuracy: 0.1667\n",
      "Epoch 69/100\n",
      "16395/16395 [==============================] - 32s 2ms/step - loss: 2.2016 - accuracy: 0.1664\n",
      "Epoch 70/100\n",
      "16395/16395 [==============================] - 31s 2ms/step - loss: 2.2009 - accuracy: 0.1674\n",
      "Epoch 71/100\n",
      "16395/16395 [==============================] - 31s 2ms/step - loss: 2.2016 - accuracy: 0.1656\n",
      "Epoch 72/100\n",
      "16395/16395 [==============================] - 31s 2ms/step - loss: 2.2030 - accuracy: 0.1663\n",
      "Epoch 73/100\n",
      "16395/16395 [==============================] - 31s 2ms/step - loss: 2.2024 - accuracy: 0.1659\n",
      "Epoch 74/100\n",
      "16395/16395 [==============================] - 31s 2ms/step - loss: 2.2030 - accuracy: 0.1666\n",
      "Epoch 75/100\n",
      "16395/16395 [==============================] - 31s 2ms/step - loss: 2.1998 - accuracy: 0.1667\n",
      "Epoch 76/100\n",
      "16395/16395 [==============================] - 31s 2ms/step - loss: 2.1997 - accuracy: 0.1661\n",
      "Epoch 77/100\n"
     ]
    },
    {
     "name": "stdout",
     "output_type": "stream",
     "text": [
      "16395/16395 [==============================] - 30s 2ms/step - loss: 2.2012 - accuracy: 0.1660\n",
      "Epoch 78/100\n",
      "16395/16395 [==============================] - 30s 2ms/step - loss: 2.2011 - accuracy: 0.1669\n",
      "Epoch 79/100\n",
      "16395/16395 [==============================] - 30s 2ms/step - loss: 2.2021 - accuracy: 0.1663\n",
      "Epoch 80/100\n",
      "16395/16395 [==============================] - 30s 2ms/step - loss: 2.2006 - accuracy: 0.1673\n",
      "Epoch 81/100\n",
      "16395/16395 [==============================] - 30s 2ms/step - loss: 2.2028 - accuracy: 0.1669\n",
      "Epoch 82/100\n",
      "16395/16395 [==============================] - 30s 2ms/step - loss: 2.2040 - accuracy: 0.1660\n",
      "Epoch 83/100\n",
      "16395/16395 [==============================] - 30s 2ms/step - loss: 2.2034 - accuracy: 0.1663\n",
      "Epoch 84/100\n",
      "16395/16395 [==============================] - 30s 2ms/step - loss: 2.2014 - accuracy: 0.1659\n",
      "Epoch 85/100\n",
      "16395/16395 [==============================] - 30s 2ms/step - loss: 2.2038 - accuracy: 0.1663\n",
      "Epoch 86/100\n",
      "16395/16395 [==============================] - 30s 2ms/step - loss: 2.2039 - accuracy: 0.1660\n",
      "Epoch 87/100\n",
      "16395/16395 [==============================] - 30s 2ms/step - loss: 2.2031 - accuracy: 0.1660\n",
      "Epoch 88/100\n",
      "16395/16395 [==============================] - 30s 2ms/step - loss: 2.2044 - accuracy: 0.1655\n",
      "Epoch 89/100\n",
      "16395/16395 [==============================] - 31s 2ms/step - loss: 2.2073 - accuracy: 0.1660\n",
      "Epoch 90/100\n",
      "16395/16395 [==============================] - 31s 2ms/step - loss: 2.2020 - accuracy: 0.1667\n",
      "Epoch 91/100\n",
      "16395/16395 [==============================] - 31s 2ms/step - loss: 2.2018 - accuracy: 0.1667\n",
      "Epoch 92/100\n",
      "16395/16395 [==============================] - 31s 2ms/step - loss: 2.2027 - accuracy: 0.1666\n",
      "Epoch 93/100\n",
      "16395/16395 [==============================] - 31s 2ms/step - loss: 2.2013 - accuracy: 0.1661\n",
      "Epoch 94/100\n",
      "16395/16395 [==============================] - 31s 2ms/step - loss: 2.2051 - accuracy: 0.1662\n",
      "Epoch 95/100\n",
      "16395/16395 [==============================] - 31s 2ms/step - loss: 2.2032 - accuracy: 0.1664\n",
      "Epoch 96/100\n",
      "16395/16395 [==============================] - 31s 2ms/step - loss: 2.2011 - accuracy: 0.1664\n",
      "Epoch 97/100\n",
      "16395/16395 [==============================] - 31s 2ms/step - loss: 2.2052 - accuracy: 0.1661\n",
      "Epoch 98/100\n",
      "16395/16395 [==============================] - 31s 2ms/step - loss: 2.2006 - accuracy: 0.1671\n",
      "Epoch 99/100\n",
      "16395/16395 [==============================] - 31s 2ms/step - loss: 2.2019 - accuracy: 0.1674\n",
      "Epoch 100/100\n",
      "16395/16395 [==============================] - 31s 2ms/step - loss: 2.2016 - accuracy: 0.1660\n"
     ]
    },
    {
     "data": {
      "text/plain": [
       "<keras.callbacks.History at 0x7fbfbef9a0d0>"
      ]
     },
     "execution_count": 46,
     "metadata": {},
     "output_type": "execute_result"
    }
   ],
   "source": [
    "# model definition\n",
    "model = ml.Sequential()\n",
    "model.add(l.Dense(256, input_dim=x_train.shape[1], activation='relu'))\n",
    "model.add(l.Dense(12, activation='softmax'))\n",
    "\n",
    "# model compile\n",
    "model.compile(loss='categorical_crossentropy', optimizer='adam', metrics=['accuracy'])\n",
    "\n",
    "# train model\n",
    "model.fit(x_train, y_train_nn, epochs=100)"
   ]
  },
  {
   "cell_type": "markdown",
   "id": "652b521b",
   "metadata": {
    "ExecuteTime": {
     "end_time": "2023-01-25T23:12:58.072519Z",
     "start_time": "2023-01-25T23:12:54.813859Z"
    }
   },
   "source": [
    "### 7.2.1. NN Performance"
   ]
  },
  {
   "cell_type": "code",
   "execution_count": 47,
   "id": "d199a961",
   "metadata": {
    "ExecuteTime": {
     "end_time": "2023-02-25T17:27:35.259140Z",
     "start_time": "2023-02-25T17:27:23.889157Z"
    }
   },
   "outputs": [
    {
     "name": "stderr",
     "output_type": "stream",
     "text": [
      "2023-02-25 14:27:26.384833: W tensorflow/tsl/framework/cpu_allocator_impl.cc:82] Allocation of 144800640 exceeds 10% of free system memory.\n"
     ]
    },
    {
     "name": "stdout",
     "output_type": "stream",
     "text": [
      "4099/4099 [==============================] - 5s 1ms/step\n"
     ]
    }
   ],
   "source": [
    "# prediction\n",
    "pred_nn = model.predict(x_test)\n",
    "\n",
    "# invert prediction\n",
    "yhat_nn = ohe.inverse_transform(pred_nn)\n",
    "\n",
    "# prediction prepare\n",
    "y_test_nn = y_test.to_numpy()\n",
    "yhat_nn = yhat_nn.reshape(1, -1)[0]"
   ]
  },
  {
   "cell_type": "code",
   "execution_count": 48,
   "id": "960b9754",
   "metadata": {
    "ExecuteTime": {
     "end_time": "2023-02-25T17:27:44.968185Z",
     "start_time": "2023-02-25T17:27:35.406156Z"
    }
   },
   "outputs": [
    {
     "name": "stdout",
     "output_type": "stream",
     "text": [
      "Accurary: 0.1669\n",
      "Balanced Accurary: 0.1667\n",
      "Kappa Score: 0.0910\n"
     ]
    },
    {
     "name": "stderr",
     "output_type": "stream",
     "text": [
      "/home/felipe/repos/ds_em_classificacao/airbnb_env/lib/python3.9/site-packages/sklearn/metrics/_classification.py:1344: UndefinedMetricWarning: Precision and F-score are ill-defined and being set to 0.0 in labels with no predicted samples. Use `zero_division` parameter to control this behavior.\n",
      "  _warn_prf(average, modifier, msg_start, len(result))\n",
      "/home/felipe/repos/ds_em_classificacao/airbnb_env/lib/python3.9/site-packages/sklearn/metrics/_classification.py:1344: UndefinedMetricWarning: Precision and F-score are ill-defined and being set to 0.0 in labels with no predicted samples. Use `zero_division` parameter to control this behavior.\n",
      "  _warn_prf(average, modifier, msg_start, len(result))\n",
      "/home/felipe/repos/ds_em_classificacao/airbnb_env/lib/python3.9/site-packages/sklearn/metrics/_classification.py:1344: UndefinedMetricWarning: Precision and F-score are ill-defined and being set to 0.0 in labels with no predicted samples. Use `zero_division` parameter to control this behavior.\n",
      "  _warn_prf(average, modifier, msg_start, len(result))\n"
     ]
    },
    {
     "name": "stdout",
     "output_type": "stream",
     "text": [
      "              precision    recall  f1-score   support\n",
      "\n",
      "          AU       0.20      0.00      0.00     10922\n",
      "          CA       0.00      0.00      0.00     11020\n",
      "          DE       0.00      0.00      0.00     10923\n",
      "          ES       0.00      0.00      0.00     10826\n",
      "          FR       0.00      0.00      0.00     10880\n",
      "          GB       0.00      0.00      0.00     11189\n",
      "          IT       0.09      1.00      0.17     10960\n",
      "         NDF       1.00      1.00      1.00     10924\n",
      "          NL       0.00      0.00      0.00     11019\n",
      "          PT       0.00      0.00      0.00     11067\n",
      "          US       0.00      0.00      0.00     10724\n",
      "       other       0.00      0.00      0.00     10706\n",
      "\n",
      "    accuracy                           0.17    131160\n",
      "   macro avg       0.11      0.17      0.10    131160\n",
      "weighted avg       0.11      0.17      0.10    131160\n",
      "\n"
     ]
    },
    {
     "data": {
      "text/plain": [
       "<AxesSubplot: title={'center': 'Confusion Matrix'}, xlabel='Predicted label', ylabel='True label'>"
      ]
     },
     "execution_count": 48,
     "metadata": {},
     "output_type": "execute_result"
    },
    {
     "data": {
      "image/png": "[encoded data removed]",
      "text/plain": [
       "<Figure size 1200x1200 with 2 Axes>"
      ]
     },
     "metadata": {},
     "output_type": "display_data"
    }
   ],
   "source": [
    "# accuracy\n",
    "acc_nn = m.accuracy_score(y_test_nn, yhat_nn)\n",
    "print('Accurary: {:.4f}'.format(acc_nn))\n",
    "\n",
    "# balanced accuracy\n",
    "balanced_acc_nn = m.balanced_accuracy_score(y_test_nn, yhat_nn)\n",
    "print('Balanced Accurary: {:.4f}'.format(balanced_acc_nn))\n",
    "\n",
    "# kappa score\n",
    "kappa_nn = m.cohen_kappa_score(y_test_nn, yhat_nn)\n",
    "print('Kappa Score: {:.4f}'.format(kappa_nn))\n",
    "\n",
    "# classification report\n",
    "print(m.classification_report(y_test_nn, yhat_nn))\n",
    "\n",
    "# confusion matrix\n",
    "mt.plot_confusion_matrix(y_test_nn, yhat_nn, normalize=False, figsize=(12, 12))\n"
   ]
  },
  {
   "cell_type": "markdown",
   "id": "2e76d6c4",
   "metadata": {},
   "source": [
    "# 8.0. CROSS VALIDATION"
   ]
  },
  {
   "cell_type": "markdown",
   "id": "b9924c41",
   "metadata": {},
   "source": [
    "## 8.1. NN Cros Validation"
   ]
  },
  {
   "cell_type": "code",
   "execution_count": 49,
   "id": "38a1c2e0",
   "metadata": {
    "ExecuteTime": {
     "end_time": "2023-02-25T17:27:45.070288Z",
     "start_time": "2023-02-25T17:27:45.034974Z"
    }
   },
   "outputs": [],
   "source": [
    "# # generate k-fold\n",
    "# num_fold = 5\n",
    "# kfold = ms.StratifiedKFold(n_splits=num_fold, shuffle=True, random_state=32)\n",
    "\n",
    "# balanced_acc_list = []\n",
    "# kappa_list = []\n",
    "# metrics = []\n",
    "\n",
    "# i = 1\n",
    "\n",
    "# for train_ix, val_ix in kfold.split(x_train, y_train):\n",
    "#     # fold number\n",
    "#     print('Fold Number: {}/{}'.format(i, num_fold))\n",
    "#     # get fold\n",
    "#     x_train_fold = x_train.iloc[train_ix]\n",
    "#     y_train_fold = y_train.iloc[train_ix]\n",
    "    \n",
    "#     x_val_fold = x_train.iloc[val_ix]\n",
    "#     y_val_fold = y_train.iloc[val_ix]\n",
    "\n",
    "#     # target hot-encoding\n",
    "#     ohe = pp.OneHotEncoder()\n",
    "#     y_train_fold_nn = ohe.fit_transform(y_train_fold.values.reshape(-1, 1)).toarray()\n",
    "\n",
    "#     # model definition\n",
    "#     model = ml.Sequential()\n",
    "#     model.add(l.Dense(256, input_dim=x_train.shape[1], activation='relu'))\n",
    "#     model.add(l.Dense(11, activation='softmax'))\n",
    "\n",
    "#     # compile model\n",
    "#     model.compile(loss='categorical_crossentropy', optimizer='adam', metrics=['accuracy'])\n",
    "\n",
    "#     # training model\n",
    "#     model.fit(x_train_fold, y_train_fold_nn, epochs=100, batch_size=32, verbose=0)\n",
    "    \n",
    "#     # prediction\n",
    "#     pred_nn = model.predict(x_val_fold)\n",
    "#     yhat_nn = ohe.inverse_transform(pred_nn)\n",
    "    \n",
    "#     # prepare data\n",
    "#     y_test_nn = y_val_fold.to_numpy()\n",
    "#     yhat_nn = yhat_nn.reshape(1, -1)[0]\n",
    "    \n",
    "#     # metrics\n",
    "#     ## balanced accuracy\n",
    "#     balanced_acc_nn = m.balanced_accuracy_score(y_test_nn, yhat_nn)\n",
    "#     balanced_acc_list.append(balanced_acc_nn)\n",
    "    \n",
    "#     ## Kappa score\n",
    "#     kappa_nn = m.cohen_kappa_score(y_test_nn, yhat_nn)\n",
    "#     kappa_list.append(kappa_nn)\n",
    "    \n",
    "#     metrics.append([i, balanced_acc_nn, kappa_nn])\n",
    "    \n",
    "#     i += 1"
   ]
  },
  {
   "cell_type": "code",
   "execution_count": 50,
   "id": "55d5aa7a",
   "metadata": {
    "ExecuteTime": {
     "end_time": "2023-02-25T17:27:45.365032Z",
     "start_time": "2023-02-25T17:27:45.196034Z"
    }
   },
   "outputs": [],
   "source": [
    "# results_cv = pd.DataFrame(metrics, columns=['kfold', 'balanced_accuracy', 'kappa_score'])\n",
    "# results_cv"
   ]
  },
  {
   "cell_type": "code",
   "execution_count": 51,
   "id": "c48588c9",
   "metadata": {
    "ExecuteTime": {
     "end_time": "2023-02-25T17:27:45.541786Z",
     "start_time": "2023-02-25T17:27:45.534603Z"
    }
   },
   "outputs": [],
   "source": [
    "# print('Avg Balanced Accuracy: {} +/- {}'.format(np.round(np.mean(balanced_acc_list), 4), \n",
    "#                                                 np.round(np.std(balanced_acc_list), 4)))\n",
    "# print('Avg Kappa: {} +/- {}'. format(np.round(np.mean(kappa_list), 4), \n",
    "#                                      np.round(np.std(kappa_list), 4)))"
   ]
  }
 ],
 "metadata": {
  "kernelspec": {
   "display_name": "airbnb_env",
   "language": "python",
   "name": "airbnb_env"
  },
  "language_info": {
   "codemirror_mode": {
    "name": "ipython",
    "version": 3
   },
   "file_extension": ".py",
   "mimetype": "text/x-python",
   "name": "python",
   "nbconvert_exporter": "python",
   "pygments_lexer": "ipython3",
   "version": "3.9.12"
  }
 },
 "nbformat": 4,
 "nbformat_minor": 5
}
