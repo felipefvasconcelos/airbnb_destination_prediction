{
 "cells": [
  {
   "cell_type": "markdown",
   "id": "92525660",
   "metadata": {
    "ExecuteTime": {
     "end_time": "2023-01-25T23:12:58.072519Z",
     "start_time": "2023-01-25T23:12:54.813859Z"
    },
    "heading_collapsed": true
   },
   "source": [
    "# Business Problem"
   ]
  },
  {
   "cell_type": "raw",
   "id": "7fc6ff6b",
   "metadata": {
    "hidden": true
   },
   "source": [
    "-- Objetivo do Problema:\n",
    "    -- **1.0.** Previsao do primeiro destino que um novo usuario ira escolher.\n",
    "        -- Por que?\n",
    "            -- Qual tipo de modelo de negocio da AirBnb?\n",
    "                -- Marketplace (conectar pessoas que oferecem acomodacao, com pessoas que estao procurando \n",
    "                acomodacao)\n",
    "                -- Oferta (pessoas oferecendo acomodacao)\n",
    "                    -- Tamanho do portfolio.\n",
    "                    -- Diversidade/densidade de portifolio.\n",
    "                    -- Preco medio.\n",
    "                -- Demanda (pessoas procurando acomodacao)\n",
    "                    -- Numero de usuarios.\n",
    "                    -- LTV - Life Time Value.\n",
    "                    -- CAC - Client Acquisition Cost\n",
    "                    \n",
    "            **Revenue = (Fee*Num de clientes) - CAC**\n",
    "\n",
    "-- Proposta de solucao\n",
    "    -- Modelo de previsao de primeiro destino de um novo usuario.\n",
    "        -- a) Fazer predicoes e salvar em tabpela num banco de dados.\n",
    "        -- b) API\n",
    "            -- Input: usuario e suas caracteristicas\n",
    "            -- Output: usuario e suas caracteristicas com a predicao do destino"
   ]
  },
  {
   "cell_type": "markdown",
   "id": "68aae278",
   "metadata": {
    "ExecuteTime": {
     "end_time": "2023-01-25T23:12:58.072519Z",
     "start_time": "2023-01-25T23:12:54.813859Z"
    }
   },
   "source": [
    "# 0.0. Imports"
   ]
  },
  {
   "cell_type": "code",
   "execution_count": 1,
   "id": "3eca7ce0",
   "metadata": {
    "ExecuteTime": {
     "end_time": "2023-02-15T01:41:44.088632Z",
     "start_time": "2023-02-15T01:41:40.993451Z"
    }
   },
   "outputs": [
    {
     "name": "stderr",
     "output_type": "stream",
     "text": [
      "2023-02-14 22:41:42.129753: I tensorflow/core/platform/cpu_feature_guard.cc:193] This TensorFlow binary is optimized with oneAPI Deep Neural Network Library (oneDNN) to use the following CPU instructions in performance-critical operations:  AVX2 FMA\n",
      "To enable them in other operations, rebuild TensorFlow with the appropriate compiler flags.\n",
      "2023-02-14 22:41:42.275236: W tensorflow/compiler/xla/stream_executor/platform/default/dso_loader.cc:64] Could not load dynamic library 'libcudart.so.11.0'; dlerror: libcudart.so.11.0: cannot open shared object file: No such file or directory\n",
      "2023-02-14 22:41:42.275265: I tensorflow/compiler/xla/stream_executor/cuda/cudart_stub.cc:29] Ignore above cudart dlerror if you do not have a GPU set up on your machine.\n",
      "2023-02-14 22:41:43.251999: W tensorflow/compiler/xla/stream_executor/platform/default/dso_loader.cc:64] Could not load dynamic library 'libnvinfer.so.7'; dlerror: libnvinfer.so.7: cannot open shared object file: No such file or directory\n",
      "2023-02-14 22:41:43.252081: W tensorflow/compiler/xla/stream_executor/platform/default/dso_loader.cc:64] Could not load dynamic library 'libnvinfer_plugin.so.7'; dlerror: libnvinfer_plugin.so.7: cannot open shared object file: No such file or directory\n",
      "2023-02-14 22:41:43.252090: W tensorflow/compiler/tf2tensorrt/utils/py_utils.cc:38] TF-TRT Warning: Cannot dlopen some TensorRT libraries. If you would like to use Nvidia GPU with TensorRT, please make sure the missing libraries mentioned above are installed properly.\n"
     ]
    }
   ],
   "source": [
    "import random\n",
    "\n",
    "import numpy   as np\n",
    "import pandas  as pd\n",
    "import seaborn as sns\n",
    "\n",
    "from scipy      import stats           as ss\n",
    "from keras      import layers          as l\n",
    "from keras      import models          as ml\n",
    "from sklearn    import metrics         as m\n",
    "from sklearn    import preprocessing   as pp\n",
    "from sklearn    import model_selection as ms\n",
    "from scikitplot import metrics         as mt"
   ]
  },
  {
   "cell_type": "markdown",
   "id": "070f7d46",
   "metadata": {},
   "source": [
    "## 0.1. Helper Functions"
   ]
  },
  {
   "cell_type": "code",
   "execution_count": 2,
   "id": "959011ee",
   "metadata": {
    "ExecuteTime": {
     "end_time": "2023-02-15T01:41:44.101640Z",
     "start_time": "2023-02-15T01:41:44.093157Z"
    }
   },
   "outputs": [],
   "source": [
    "# cramer v correlation\n",
    "def cramer_v(x, y):\n",
    "    cm = pd.crosstab(x, y).values\n",
    "    n = cm.sum()\n",
    "    r, k = cm.shape\n",
    "    \n",
    "    chi2 = ss.chi2_contingency(cm)[0]\n",
    "    chi2corr = max(0, chi2-(k-1)*(r-1)/(n-1))\n",
    "    \n",
    "    kcorr = k - (k-1)**2/(n-1)\n",
    "    rcorr = r - (r-10)**2/(n-1)\n",
    "    \n",
    "    return np.sqrt((chi2corr/n)/(min(kcorr-1, rcorr-1)))"
   ]
  },
  {
   "cell_type": "markdown",
   "id": "f1c9e161",
   "metadata": {},
   "source": [
    "## 0.2. Loading Data"
   ]
  },
  {
   "cell_type": "code",
   "execution_count": 3,
   "id": "3524916f",
   "metadata": {
    "ExecuteTime": {
     "end_time": "2023-02-15T01:41:53.252624Z",
     "start_time": "2023-02-15T01:41:44.105381Z"
    }
   },
   "outputs": [],
   "source": [
    "path = '/home/felipe/repos/ds_em_classificacao/'\n",
    "df_raw = pd.read_csv(path + 'datasets/data_raw/training_users.csv', low_memory=True)\n",
    "df_sessions = pd.read_csv(path + 'datasets/data_raw/sessions.csv', low_memory=True)"
   ]
  },
  {
   "cell_type": "markdown",
   "id": "7382855d",
   "metadata": {
    "ExecuteTime": {
     "end_time": "2023-01-25T23:12:58.072519Z",
     "start_time": "2023-01-25T23:12:54.813859Z"
    }
   },
   "source": [
    "# 1.0. Data Description"
   ]
  },
  {
   "cell_type": "code",
   "execution_count": 4,
   "id": "13809c5c",
   "metadata": {
    "ExecuteTime": {
     "end_time": "2023-02-15T01:41:53.276746Z",
     "start_time": "2023-02-15T01:41:53.256050Z"
    }
   },
   "outputs": [],
   "source": [
    "df1 = df_raw.copy()"
   ]
  },
  {
   "cell_type": "markdown",
   "id": "8209ab0a",
   "metadata": {},
   "source": [
    "## 1.1. Dataset Dimensions"
   ]
  },
  {
   "cell_type": "code",
   "execution_count": 5,
   "id": "a9485930",
   "metadata": {
    "ExecuteTime": {
     "end_time": "2023-02-15T01:41:53.375093Z",
     "start_time": "2023-02-15T01:41:53.282090Z"
    }
   },
   "outputs": [
    {
     "name": "stdout",
     "output_type": "stream",
     "text": [
      "Users Dataset\n",
      "Number of rows: 213451\n",
      "Number of columns: 16\n"
     ]
    }
   ],
   "source": [
    "print('Users Dataset')\n",
    "print('Number of rows: {}'.format(df1.shape[0]))\n",
    "print('Number of columns: {}'.format(df1.shape[1]))"
   ]
  },
  {
   "cell_type": "code",
   "execution_count": 6,
   "id": "372a558a",
   "metadata": {
    "ExecuteTime": {
     "end_time": "2023-02-15T01:41:53.485464Z",
     "start_time": "2023-02-15T01:41:53.379307Z"
    }
   },
   "outputs": [
    {
     "name": "stdout",
     "output_type": "stream",
     "text": [
      "Sessions Dataset\n",
      "Number of rows: 10567737\n",
      "Number of columns: 6\n"
     ]
    }
   ],
   "source": [
    "print('Sessions Dataset')\n",
    "print('Number of rows: {}'.format(df_sessions.shape[0]))\n",
    "print('Number of columns: {}'.format(df_sessions.shape[1]))"
   ]
  },
  {
   "cell_type": "markdown",
   "id": "4bcf9418",
   "metadata": {},
   "source": [
    "## 1.2. Check NAs"
   ]
  },
  {
   "cell_type": "code",
   "execution_count": 7,
   "id": "dfd8b2a0",
   "metadata": {
    "ExecuteTime": {
     "end_time": "2023-02-15T01:41:53.990423Z",
     "start_time": "2023-02-15T01:41:53.490206Z"
    }
   },
   "outputs": [
    {
     "data": {
      "text/plain": [
       "id                         0.000000\n",
       "date_account_created       0.000000\n",
       "timestamp_first_active     0.000000\n",
       "date_first_booking         0.583473\n",
       "gender                     0.000000\n",
       "age                        0.412226\n",
       "signup_method              0.000000\n",
       "signup_flow                0.000000\n",
       "language                   0.000000\n",
       "affiliate_channel          0.000000\n",
       "affiliate_provider         0.000000\n",
       "first_affiliate_tracked    0.028414\n",
       "signup_app                 0.000000\n",
       "first_device_type          0.000000\n",
       "first_browser              0.000000\n",
       "country_destination        0.000000\n",
       "dtype: float64"
      ]
     },
     "execution_count": 7,
     "metadata": {},
     "output_type": "execute_result"
    }
   ],
   "source": [
    "# users dataset NAs\n",
    "df1.isna().sum()/len(df1)"
   ]
  },
  {
   "cell_type": "code",
   "execution_count": 8,
   "id": "5af09d4d",
   "metadata": {
    "ExecuteTime": {
     "end_time": "2023-02-15T01:42:01.772684Z",
     "start_time": "2023-02-15T01:41:53.992964Z"
    }
   },
   "outputs": [
    {
     "data": {
      "text/plain": [
       "user_id          0.003264\n",
       "action           0.007535\n",
       "action_type      0.106570\n",
       "action_detail    0.106570\n",
       "device_type      0.000000\n",
       "secs_elapsed     0.012872\n",
       "dtype: float64"
      ]
     },
     "execution_count": 8,
     "metadata": {},
     "output_type": "execute_result"
    }
   ],
   "source": [
    "# sessions dataset NAs\n",
    "df_sessions.isna().sum()/len(df_sessions)"
   ]
  },
  {
   "cell_type": "markdown",
   "id": "84d0c6c7",
   "metadata": {},
   "source": [
    "### 1.2.1. Replace NAs"
   ]
  },
  {
   "cell_type": "code",
   "execution_count": 9,
   "id": "3f71c94c",
   "metadata": {
    "ExecuteTime": {
     "end_time": "2023-02-15T01:42:01.791948Z",
     "start_time": "2023-02-15T01:42:01.777777Z"
    }
   },
   "outputs": [],
   "source": [
    "# # investigate date_first_booking\n",
    "# aux = df1[df1['date_first_booking'].isna()]\n",
    "# aux['country_destination'].value_counts(normalize=True)\n",
    "\n",
    "# # investigate age\n",
    "# aux = df1[df1['age'].isna()]\n",
    "# aux['country_destination'].value_counts(normalize=True)\n",
    "# sns.histplot(data=df1[df1['age']<65], x='age', kde=True);\n",
    "\n",
    "# # investigate first_affiliate_tracked\n",
    "# df1['first_affiliate_tracked'].drop_duplicates()"
   ]
  },
  {
   "cell_type": "code",
   "execution_count": 10,
   "id": "70e32b97",
   "metadata": {
    "ExecuteTime": {
     "end_time": "2023-02-15T01:42:07.408611Z",
     "start_time": "2023-02-15T01:42:01.796137Z"
    }
   },
   "outputs": [],
   "source": [
    "#====================== USERS ================================\n",
    "\n",
    "# date_first_booking - people with NDF as country_destination\n",
    "date_first_booking_max = pd.to_datetime(df1['date_first_booking']).max().strftime('%Y-%m-%d')\n",
    "df1['date_first_booking'] = df1['date_first_booking'].fillna(date_first_booking_max)\n",
    "\n",
    "# age - distribution similar to normal distribution\n",
    "df1 = df1[(df1['age']>15) & (df1['age']<120)]\n",
    "avg_age = df1['age'].mean().astype(int)\n",
    "df1['age'] = df1['age'].fillna(avg_age)\n",
    "\n",
    "# first_affiliate_tracked - categorical attribute, hard to replace without bias\n",
    "df1 = df1[~df1['first_affiliate_tracked'].isna()]\n",
    "\n",
    "#====================== SESSIONS ================================\n",
    "# user_id - 0.3%\n",
    "df_sessions = df_sessions[~df_sessions['user_id'].isna()]\n",
    "\n",
    "# action - 0.7%\n",
    "df_sessions = df_sessions[~df_sessions['action'].isna()]\n",
    "\n",
    "# action_type - 11%\n",
    "df_sessions = df_sessions[~df_sessions['action_type'].isna()]\n",
    "\n",
    "# action_detail - 11%\n",
    "df_sessions = df_sessions[~df_sessions['action_detail'].isna()]\n",
    "\n",
    "# secs_elapsed - 1.2%\n",
    "df_sessions = df_sessions[~df_sessions['secs_elapsed'].isna()]"
   ]
  },
  {
   "cell_type": "markdown",
   "id": "ece62541",
   "metadata": {},
   "source": [
    "## 1.3. Check DTypes"
   ]
  },
  {
   "cell_type": "code",
   "execution_count": 11,
   "id": "79dec48e",
   "metadata": {
    "ExecuteTime": {
     "end_time": "2023-02-15T01:42:07.423278Z",
     "start_time": "2023-02-15T01:42:07.412280Z"
    }
   },
   "outputs": [
    {
     "data": {
      "text/plain": [
       "id                          object\n",
       "date_account_created        object\n",
       "timestamp_first_active       int64\n",
       "date_first_booking          object\n",
       "gender                      object\n",
       "age                        float64\n",
       "signup_method               object\n",
       "signup_flow                  int64\n",
       "language                    object\n",
       "affiliate_channel           object\n",
       "affiliate_provider          object\n",
       "first_affiliate_tracked     object\n",
       "signup_app                  object\n",
       "first_device_type           object\n",
       "first_browser               object\n",
       "country_destination         object\n",
       "dtype: object"
      ]
     },
     "execution_count": 11,
     "metadata": {},
     "output_type": "execute_result"
    }
   ],
   "source": [
    "df1.dtypes"
   ]
  },
  {
   "cell_type": "markdown",
   "id": "9dc8f034",
   "metadata": {},
   "source": [
    "### 1.3.1. Change DTypes"
   ]
  },
  {
   "cell_type": "code",
   "execution_count": 12,
   "id": "f0dfdda5",
   "metadata": {
    "ExecuteTime": {
     "end_time": "2023-02-15T01:42:07.591641Z",
     "start_time": "2023-02-15T01:42:07.427566Z"
    }
   },
   "outputs": [],
   "source": [
    "# date_account_created\n",
    "df1['date_account_created'] = pd.to_datetime(df1['date_account_created'])\n",
    "\n",
    "# timestamp_first_active\n",
    "df1['timestamp_first_active'] = pd.to_datetime(df1['timestamp_first_active'], format='%Y-%m-%d')\n",
    "\n",
    "# date_first_booking \n",
    "df1['date_first_booking'] = pd.to_datetime(df1['date_first_booking'])\n",
    "\n",
    "# age\n",
    "df1['age'] = df1['age'].astype('int')"
   ]
  },
  {
   "cell_type": "markdown",
   "id": "dbd20b4b",
   "metadata": {},
   "source": [
    "## 1.4. Check Balanced Data"
   ]
  },
  {
   "cell_type": "code",
   "execution_count": 13,
   "id": "6a5506bf",
   "metadata": {
    "ExecuteTime": {
     "end_time": "2023-02-15T01:42:07.686533Z",
     "start_time": "2023-02-15T01:42:07.595593Z"
    }
   },
   "outputs": [
    {
     "data": {
      "text/plain": [
       "NDF      0.447275\n",
       "US       0.391867\n",
       "other    0.061246\n",
       "FR       0.029918\n",
       "IT       0.016423\n",
       "GB       0.014335\n",
       "ES       0.013740\n",
       "CA       0.008676\n",
       "DE       0.006858\n",
       "NL       0.004852\n",
       "AU       0.003531\n",
       "PT       0.001280\n",
       "Name: country_destination, dtype: float64"
      ]
     },
     "execution_count": 13,
     "metadata": {},
     "output_type": "execute_result"
    }
   ],
   "source": [
    "df1['country_destination'].value_counts(normalize=True)"
   ]
  },
  {
   "cell_type": "markdown",
   "id": "c797822d",
   "metadata": {},
   "source": [
    "## 1.5. Descriptive Analysis"
   ]
  },
  {
   "cell_type": "code",
   "execution_count": 14,
   "id": "35c7ff80",
   "metadata": {
    "ExecuteTime": {
     "end_time": "2023-02-15T01:42:08.098421Z",
     "start_time": "2023-02-15T01:42:07.693981Z"
    }
   },
   "outputs": [],
   "source": [
    "# users\n",
    "num_attributes = df1.select_dtypes(include=['int64', 'float64'])\n",
    "cat_attributes = df1.select_dtypes(exclude=['int64', 'float64', 'datetime64[ns]'])\n",
    "time_attributes = df1.select_dtypes(include=['datetime64[ns]'])\n",
    "\n",
    "# sessions\n",
    "num_attributes_sessions = df_sessions.select_dtypes(include=['int64', 'float64'])\n",
    "cat_attributes_sessions = df_sessions.select_dtypes(exclude=['int64', 'float64', 'datetime64[ns]'])\n",
    "time_attributes_sessions = df_sessions.select_dtypes(include=['datetime64[ns]'])"
   ]
  },
  {
   "cell_type": "markdown",
   "id": "f29be054",
   "metadata": {},
   "source": [
    "### 1.5.1. Numerical - Users"
   ]
  },
  {
   "cell_type": "code",
   "execution_count": 15,
   "id": "bcd691da",
   "metadata": {
    "ExecuteTime": {
     "end_time": "2023-02-15T01:42:08.200121Z",
     "start_time": "2023-02-15T01:42:08.101565Z"
    }
   },
   "outputs": [
    {
     "data": {
      "text/html": [
       "<div>\n",
       "<style scoped>\n",
       "    .dataframe tbody tr th:only-of-type {\n",
       "        vertical-align: middle;\n",
       "    }\n",
       "\n",
       "    .dataframe tbody tr th {\n",
       "        vertical-align: top;\n",
       "    }\n",
       "\n",
       "    .dataframe thead th {\n",
       "        text-align: right;\n",
       "    }\n",
       "</style>\n",
       "<table border=\"1\" class=\"dataframe\">\n",
       "  <thead>\n",
       "    <tr style=\"text-align: right;\">\n",
       "      <th></th>\n",
       "      <th>attributes</th>\n",
       "      <th>min</th>\n",
       "      <th>max</th>\n",
       "      <th>range</th>\n",
       "      <th>mean</th>\n",
       "      <th>median</th>\n",
       "      <th>std</th>\n",
       "      <th>skew</th>\n",
       "      <th>kurtosis</th>\n",
       "    </tr>\n",
       "  </thead>\n",
       "  <tbody>\n",
       "    <tr>\n",
       "      <th>0</th>\n",
       "      <td>age</td>\n",
       "      <td>16.0</td>\n",
       "      <td>115.0</td>\n",
       "      <td>99.0</td>\n",
       "      <td>37.405591</td>\n",
       "      <td>34.0</td>\n",
       "      <td>13.939844</td>\n",
       "      <td>2.089718</td>\n",
       "      <td>6.516468</td>\n",
       "    </tr>\n",
       "    <tr>\n",
       "      <th>1</th>\n",
       "      <td>signup_flow</td>\n",
       "      <td>0.0</td>\n",
       "      <td>25.0</td>\n",
       "      <td>25.0</td>\n",
       "      <td>2.519513</td>\n",
       "      <td>0.0</td>\n",
       "      <td>6.604696</td>\n",
       "      <td>2.705871</td>\n",
       "      <td>5.928298</td>\n",
       "    </tr>\n",
       "  </tbody>\n",
       "</table>\n",
       "</div>"
      ],
      "text/plain": [
       "    attributes   min    max  range       mean  median        std      skew  \\\n",
       "0          age  16.0  115.0   99.0  37.405591    34.0  13.939844  2.089718   \n",
       "1  signup_flow   0.0   25.0   25.0   2.519513     0.0   6.604696  2.705871   \n",
       "\n",
       "   kurtosis  \n",
       "0  6.516468  \n",
       "1  5.928298  "
      ]
     },
     "execution_count": 15,
     "metadata": {},
     "output_type": "execute_result"
    }
   ],
   "source": [
    "# central tendency\n",
    "ct1 = pd.DataFrame(num_attributes.apply(np.mean)).T\n",
    "ct2 = pd.DataFrame(num_attributes.apply(np.median)).T\n",
    "\n",
    "# dispersion\n",
    "d1 = pd.DataFrame(num_attributes.apply(np.std)).T\n",
    "d2 = pd.DataFrame(num_attributes.apply(min)).T\n",
    "d3 = pd.DataFrame(num_attributes.apply(max)).T\n",
    "d4 = pd.DataFrame(num_attributes.apply(lambda x: x.max()-x.min())).T\n",
    "d5 = pd.DataFrame(num_attributes.apply(lambda x: x.skew())).T\n",
    "d6 = pd.DataFrame(num_attributes.apply(lambda x: x.kurtosis())).T\n",
    "\n",
    "# concat\n",
    "ct = pd.concat([d2, d3, d4, ct1, ct2, d1, d5, d6]).T.reset_index()\n",
    "ct.columns = ['attributes', 'min', 'max', 'range', 'mean', 'median', 'std', 'skew', 'kurtosis']\n",
    "ct"
   ]
  },
  {
   "cell_type": "markdown",
   "id": "14786b76",
   "metadata": {},
   "source": [
    "### 1.5.2. Numerical - Sessions"
   ]
  },
  {
   "cell_type": "code",
   "execution_count": 16,
   "id": "061ee5ce",
   "metadata": {
    "ExecuteTime": {
     "end_time": "2023-02-15T01:42:10.700344Z",
     "start_time": "2023-02-15T01:42:08.204028Z"
    }
   },
   "outputs": [
    {
     "data": {
      "text/html": [
       "<div>\n",
       "<style scoped>\n",
       "    .dataframe tbody tr th:only-of-type {\n",
       "        vertical-align: middle;\n",
       "    }\n",
       "\n",
       "    .dataframe tbody tr th {\n",
       "        vertical-align: top;\n",
       "    }\n",
       "\n",
       "    .dataframe thead th {\n",
       "        text-align: right;\n",
       "    }\n",
       "</style>\n",
       "<table border=\"1\" class=\"dataframe\">\n",
       "  <thead>\n",
       "    <tr style=\"text-align: right;\">\n",
       "      <th></th>\n",
       "      <th>attributes</th>\n",
       "      <th>min</th>\n",
       "      <th>max</th>\n",
       "      <th>range</th>\n",
       "      <th>mean</th>\n",
       "      <th>median</th>\n",
       "      <th>std</th>\n",
       "      <th>skew</th>\n",
       "      <th>kurtosis</th>\n",
       "    </tr>\n",
       "  </thead>\n",
       "  <tbody>\n",
       "    <tr>\n",
       "      <th>0</th>\n",
       "      <td>secs_elapsed</td>\n",
       "      <td>0.0</td>\n",
       "      <td>1799977.0</td>\n",
       "      <td>1799977.0</td>\n",
       "      <td>19961.8251</td>\n",
       "      <td>1369.0</td>\n",
       "      <td>88849.388449</td>\n",
       "      <td>11.137761</td>\n",
       "      <td>154.84312</td>\n",
       "    </tr>\n",
       "  </tbody>\n",
       "</table>\n",
       "</div>"
      ],
      "text/plain": [
       "     attributes  min        max      range        mean  median           std  \\\n",
       "0  secs_elapsed  0.0  1799977.0  1799977.0  19961.8251  1369.0  88849.388449   \n",
       "\n",
       "        skew   kurtosis  \n",
       "0  11.137761  154.84312  "
      ]
     },
     "execution_count": 16,
     "metadata": {},
     "output_type": "execute_result"
    }
   ],
   "source": [
    "# central tendency\n",
    "ct1 = pd.DataFrame(num_attributes_sessions.apply(np.mean)).T\n",
    "ct2 = pd.DataFrame(num_attributes_sessions.apply(np.median)).T\n",
    "\n",
    "# dispersion\n",
    "d1 = pd.DataFrame(num_attributes_sessions.apply(np.std)).T\n",
    "d2 = pd.DataFrame(num_attributes_sessions.apply(min)).T\n",
    "d3 = pd.DataFrame(num_attributes_sessions.apply(max)).T\n",
    "d4 = pd.DataFrame(num_attributes_sessions.apply(lambda x: x.max()-x.min())).T\n",
    "d5 = pd.DataFrame(num_attributes_sessions.apply(lambda x: x.skew())).T\n",
    "d6 = pd.DataFrame(num_attributes_sessions.apply(lambda x: x.kurtosis())).T\n",
    "\n",
    "# concat\n",
    "ct_sessions = pd.concat([d2, d3, d4, ct1, ct2, d1, d5, d6]).T.reset_index()\n",
    "ct_sessions.columns = ['attributes', 'min', 'max', 'range', 'mean', 'median', 'std', 'skew', 'kurtosis']\n",
    "ct_sessions"
   ]
  },
  {
   "cell_type": "markdown",
   "id": "454a75a0",
   "metadata": {},
   "source": [
    "### 1.5.3. Categorical - Users"
   ]
  },
  {
   "cell_type": "code",
   "execution_count": 17,
   "id": "c12c1aef",
   "metadata": {
    "ExecuteTime": {
     "end_time": "2023-02-15T01:42:10.895339Z",
     "start_time": "2023-02-15T01:42:10.703788Z"
    }
   },
   "outputs": [
    {
     "data": {
      "text/html": [
       "<div>\n",
       "<style scoped>\n",
       "    .dataframe tbody tr th:only-of-type {\n",
       "        vertical-align: middle;\n",
       "    }\n",
       "\n",
       "    .dataframe tbody tr th {\n",
       "        vertical-align: top;\n",
       "    }\n",
       "\n",
       "    .dataframe thead th {\n",
       "        text-align: right;\n",
       "    }\n",
       "</style>\n",
       "<table border=\"1\" class=\"dataframe\">\n",
       "  <thead>\n",
       "    <tr style=\"text-align: right;\">\n",
       "      <th></th>\n",
       "      <th>gender</th>\n",
       "      <th>signup_method</th>\n",
       "      <th>language</th>\n",
       "      <th>affiliate_channel</th>\n",
       "      <th>affiliate_provider</th>\n",
       "      <th>first_affiliate_tracked</th>\n",
       "      <th>signup_app</th>\n",
       "      <th>first_device_type</th>\n",
       "      <th>first_browser</th>\n",
       "      <th>country_destination</th>\n",
       "    </tr>\n",
       "  </thead>\n",
       "  <tbody>\n",
       "    <tr>\n",
       "      <th>count</th>\n",
       "      <td>122636</td>\n",
       "      <td>122636</td>\n",
       "      <td>122636</td>\n",
       "      <td>122636</td>\n",
       "      <td>122636</td>\n",
       "      <td>122636</td>\n",
       "      <td>122636</td>\n",
       "      <td>122636</td>\n",
       "      <td>122636</td>\n",
       "      <td>122636</td>\n",
       "    </tr>\n",
       "    <tr>\n",
       "      <th>unique</th>\n",
       "      <td>4</td>\n",
       "      <td>3</td>\n",
       "      <td>25</td>\n",
       "      <td>8</td>\n",
       "      <td>17</td>\n",
       "      <td>7</td>\n",
       "      <td>4</td>\n",
       "      <td>9</td>\n",
       "      <td>41</td>\n",
       "      <td>12</td>\n",
       "    </tr>\n",
       "    <tr>\n",
       "      <th>top</th>\n",
       "      <td>FEMALE</td>\n",
       "      <td>basic</td>\n",
       "      <td>en</td>\n",
       "      <td>direct</td>\n",
       "      <td>direct</td>\n",
       "      <td>untracked</td>\n",
       "      <td>Web</td>\n",
       "      <td>Mac Desktop</td>\n",
       "      <td>Chrome</td>\n",
       "      <td>NDF</td>\n",
       "    </tr>\n",
       "    <tr>\n",
       "      <th>freq</th>\n",
       "      <td>56362</td>\n",
       "      <td>66039</td>\n",
       "      <td>118205</td>\n",
       "      <td>79093</td>\n",
       "      <td>78954</td>\n",
       "      <td>64712</td>\n",
       "      <td>108283</td>\n",
       "      <td>57943</td>\n",
       "      <td>41778</td>\n",
       "      <td>54852</td>\n",
       "    </tr>\n",
       "  </tbody>\n",
       "</table>\n",
       "</div>"
      ],
      "text/plain": [
       "        gender signup_method language affiliate_channel affiliate_provider  \\\n",
       "count   122636        122636   122636            122636             122636   \n",
       "unique       4             3       25                 8                 17   \n",
       "top     FEMALE         basic       en            direct             direct   \n",
       "freq     56362         66039   118205             79093              78954   \n",
       "\n",
       "       first_affiliate_tracked signup_app first_device_type first_browser  \\\n",
       "count                   122636     122636            122636        122636   \n",
       "unique                       7          4                 9            41   \n",
       "top                  untracked        Web       Mac Desktop        Chrome   \n",
       "freq                     64712     108283             57943         41778   \n",
       "\n",
       "       country_destination  \n",
       "count               122636  \n",
       "unique                  12  \n",
       "top                    NDF  \n",
       "freq                 54852  "
      ]
     },
     "execution_count": 17,
     "metadata": {},
     "output_type": "execute_result"
    }
   ],
   "source": [
    "cat_attributes.drop('id', axis=1).describe()"
   ]
  },
  {
   "cell_type": "markdown",
   "id": "d806d010",
   "metadata": {},
   "source": [
    "### 1.5.4. Categorical - Sessions"
   ]
  },
  {
   "cell_type": "code",
   "execution_count": 18,
   "id": "e4e5904c",
   "metadata": {
    "ExecuteTime": {
     "end_time": "2023-02-15T01:42:15.651476Z",
     "start_time": "2023-02-15T01:42:10.898634Z"
    }
   },
   "outputs": [
    {
     "data": {
      "text/html": [
       "<div>\n",
       "<style scoped>\n",
       "    .dataframe tbody tr th:only-of-type {\n",
       "        vertical-align: middle;\n",
       "    }\n",
       "\n",
       "    .dataframe tbody tr th {\n",
       "        vertical-align: top;\n",
       "    }\n",
       "\n",
       "    .dataframe thead th {\n",
       "        text-align: right;\n",
       "    }\n",
       "</style>\n",
       "<table border=\"1\" class=\"dataframe\">\n",
       "  <thead>\n",
       "    <tr style=\"text-align: right;\">\n",
       "      <th></th>\n",
       "      <th>action</th>\n",
       "      <th>action_type</th>\n",
       "      <th>action_detail</th>\n",
       "      <th>device_type</th>\n",
       "    </tr>\n",
       "  </thead>\n",
       "  <tbody>\n",
       "    <tr>\n",
       "      <th>count</th>\n",
       "      <td>9213930</td>\n",
       "      <td>9213930</td>\n",
       "      <td>9213930</td>\n",
       "      <td>9213930</td>\n",
       "    </tr>\n",
       "    <tr>\n",
       "      <th>unique</th>\n",
       "      <td>347</td>\n",
       "      <td>10</td>\n",
       "      <td>155</td>\n",
       "      <td>14</td>\n",
       "    </tr>\n",
       "    <tr>\n",
       "      <th>top</th>\n",
       "      <td>show</td>\n",
       "      <td>view</td>\n",
       "      <td>view_search_results</td>\n",
       "      <td>Mac Desktop</td>\n",
       "    </tr>\n",
       "    <tr>\n",
       "      <th>freq</th>\n",
       "      <td>2178382</td>\n",
       "      <td>3545621</td>\n",
       "      <td>1770931</td>\n",
       "      <td>3019523</td>\n",
       "    </tr>\n",
       "  </tbody>\n",
       "</table>\n",
       "</div>"
      ],
      "text/plain": [
       "         action action_type        action_detail  device_type\n",
       "count   9213930     9213930              9213930      9213930\n",
       "unique      347          10                  155           14\n",
       "top        show        view  view_search_results  Mac Desktop\n",
       "freq    2178382     3545621              1770931      3019523"
      ]
     },
     "execution_count": 18,
     "metadata": {},
     "output_type": "execute_result"
    }
   ],
   "source": [
    "cat_attributes_sessions.drop('user_id', axis=1).describe()"
   ]
  },
  {
   "cell_type": "code",
   "execution_count": 19,
   "id": "997aa162",
   "metadata": {
    "ExecuteTime": {
     "end_time": "2023-02-15T01:42:47.153538Z",
     "start_time": "2023-02-15T01:42:15.654634Z"
    }
   },
   "outputs": [],
   "source": [
    "cat_attributes_list = cat_attributes_sessions.drop('user_id', axis=1).columns.tolist()\n",
    "corr_dict = {}\n",
    "\n",
    "for i in range(len(cat_attributes_list)):\n",
    "    corr_list = []\n",
    "    \n",
    "    for j in range(len(cat_attributes_list)):\n",
    "        ref = cat_attributes_list[i]\n",
    "        feat = cat_attributes_list[j]\n",
    "               \n",
    "        # correlation\n",
    "        corr = cramer_v(cat_attributes_sessions[ref], cat_attributes_sessions[feat])\n",
    "        \n",
    "        # append a list\n",
    "        corr_list.append(corr)\n",
    "    \n",
    "    # append correlation list for each ref attributes\n",
    "    corr_dict[ref] = corr_list"
   ]
  },
  {
   "cell_type": "code",
   "execution_count": 20,
   "id": "fd3456ae",
   "metadata": {
    "ExecuteTime": {
     "end_time": "2023-02-15T01:42:47.521421Z",
     "start_time": "2023-02-15T01:42:47.156766Z"
    }
   },
   "outputs": [
    {
     "data": {
      "image/png": "[encoded data removed]",
      "text/plain": [
       "<Figure size 640x480 with 2 Axes>"
      ]
     },
     "metadata": {},
     "output_type": "display_data"
    }
   ],
   "source": [
    "d = pd.DataFrame(corr_dict)\n",
    "d = d.set_index(d.columns)\n",
    "sns.heatmap(d, annot=True);"
   ]
  },
  {
   "cell_type": "markdown",
   "id": "d860aac8",
   "metadata": {
    "ExecuteTime": {
     "end_time": "2023-01-25T23:12:58.072519Z",
     "start_time": "2023-01-25T23:12:54.813859Z"
    }
   },
   "source": [
    "# 2.0. Feature Engineering"
   ]
  },
  {
   "cell_type": "code",
   "execution_count": 21,
   "id": "a764afe8",
   "metadata": {
    "ExecuteTime": {
     "end_time": "2023-02-15T01:42:47.540684Z",
     "start_time": "2023-02-15T01:42:47.524928Z"
    }
   },
   "outputs": [],
   "source": [
    "df2 = df1.copy()"
   ]
  },
  {
   "cell_type": "markdown",
   "id": "418ad77d",
   "metadata": {},
   "source": [
    "## 2.1. Create New Features"
   ]
  },
  {
   "cell_type": "code",
   "execution_count": 22,
   "id": "a570f474",
   "metadata": {
    "ExecuteTime": {
     "end_time": "2023-02-15T01:42:49.209905Z",
     "start_time": "2023-02-15T01:42:47.545022Z"
    }
   },
   "outputs": [
    {
     "name": "stderr",
     "output_type": "stream",
     "text": [
      "/tmp/ipykernel_21504/84586845.py:21: FutureWarning: Series.dt.weekofyear and Series.dt.week have been deprecated. Please use Series.dt.isocalendar().week instead.\n",
      "  df2['week_of_year_first_active'] = df2['first_active'].dt.weekofyear\n",
      "/tmp/ipykernel_21504/84586845.py:33: FutureWarning: Series.dt.weekofyear and Series.dt.week have been deprecated. Please use Series.dt.isocalendar().week instead.\n",
      "  df2['week_of_year_first_booking'] = df2['date_first_booking'].dt.weekofyear\n",
      "/tmp/ipykernel_21504/84586845.py:45: FutureWarning: Series.dt.weekofyear and Series.dt.week have been deprecated. Please use Series.dt.isocalendar().week instead.\n",
      "  df2['week_of_year_account_created'] = df2['date_account_created'].dt.weekofyear\n"
     ]
    }
   ],
   "source": [
    "# days from first active up to first booking\n",
    "df2['first_active'] = pd.to_datetime(df2['timestamp_first_active'], format('%Y-%m-%d'))\n",
    "df2['days_from_first_active_until_booking'] = (df2['date_first_booking']-df2['first_active']).apply(lambda x: x.days)\n",
    "\n",
    "# days from first active up to account created\n",
    "df2['days_from_first_active_until_account_created'] = (df2['date_account_created']-df2['first_active']).apply(lambda x: x.days)\n",
    "\n",
    "# days from account created up to first booking\n",
    "df2['days_from_account_created_until_booking'] = (df2['date_first_booking']-df2['date_account_created']).apply(lambda x: x.days)\n",
    "\n",
    "#======================FIRST ACTIVE===============================\n",
    "# year first active\n",
    "df2['year_first_active'] = df2['first_active'].dt.year\n",
    "# month first active\n",
    "df2['month_first_active'] = df2['first_active'].dt.month\n",
    "# day first active\n",
    "df2['day_first_active'] = df2['first_active'].dt.day\n",
    "# day of week first active\n",
    "df2['day_of_week_first_active'] = df2['first_active'].dt.dayofweek\n",
    "# week of year first active\n",
    "df2['week_of_year_first_active'] = df2['first_active'].dt.weekofyear\n",
    "\n",
    "#======================FIRST ACTIVE===============================\n",
    "# year first booking\n",
    "df2['year_first_booking'] = df2['date_first_booking'].dt.year\n",
    "# month first booking\n",
    "df2['month_first_booking'] = df2['date_first_booking'].dt.month\n",
    "# day first booking\n",
    "df2['day_first_booking'] = df2['date_first_booking'].dt.day\n",
    "# day of week first booking\n",
    "df2['day_of_week_first_booking'] = df2['date_first_booking'].dt.dayofweek\n",
    "# week of year first booking\n",
    "df2['week_of_year_first_booking'] = df2['date_first_booking'].dt.weekofyear\n",
    "\n",
    "#======================FIRST ACCOUNT CREATED===============================\n",
    "# year first account_created\n",
    "df2['year_account_created'] = df2['date_account_created'].dt.year\n",
    "# month first account_created\n",
    "df2['month_account_created'] = df2['date_account_created'].dt.month\n",
    "# day first account_created\n",
    "df2['day_account_created'] = df2['date_account_created'].dt.day\n",
    "# day of week first account_created\n",
    "df2['day_of_week_account_created'] = df2['date_account_created'].dt.dayofweek\n",
    "# week of year first account_created\n",
    "df2['week_of_year_account_created'] = df2['date_account_created'].dt.weekofyear"
   ]
  },
  {
   "cell_type": "markdown",
   "id": "50ef182b",
   "metadata": {
    "ExecuteTime": {
     "end_time": "2023-01-25T23:12:58.072519Z",
     "start_time": "2023-01-25T23:12:54.813859Z"
    }
   },
   "source": [
    "# 3.0. Data Filtering"
   ]
  },
  {
   "cell_type": "code",
   "execution_count": 23,
   "id": "a39e842e",
   "metadata": {
    "ExecuteTime": {
     "end_time": "2023-02-15T01:42:49.256574Z",
     "start_time": "2023-02-15T01:42:49.213131Z"
    }
   },
   "outputs": [],
   "source": [
    "df3 = df2.copy()"
   ]
  },
  {
   "cell_type": "code",
   "execution_count": 24,
   "id": "b7d1321b",
   "metadata": {
    "ExecuteTime": {
     "end_time": "2023-02-15T01:42:49.311374Z",
     "start_time": "2023-02-15T01:42:49.259824Z"
    }
   },
   "outputs": [
    {
     "data": {
      "text/plain": [
       "id                                                      object\n",
       "date_account_created                            datetime64[ns]\n",
       "timestamp_first_active                          datetime64[ns]\n",
       "date_first_booking                              datetime64[ns]\n",
       "gender                                                  object\n",
       "age                                                      int64\n",
       "signup_method                                           object\n",
       "signup_flow                                              int64\n",
       "language                                                object\n",
       "affiliate_channel                                       object\n",
       "affiliate_provider                                      object\n",
       "first_affiliate_tracked                                 object\n",
       "signup_app                                              object\n",
       "first_device_type                                       object\n",
       "first_browser                                           object\n",
       "country_destination                                     object\n",
       "first_active                                    datetime64[ns]\n",
       "days_from_first_active_until_booking                     int64\n",
       "days_from_first_active_until_account_created             int64\n",
       "days_from_account_created_until_booking                  int64\n",
       "year_first_active                                        int64\n",
       "month_first_active                                       int64\n",
       "day_first_active                                         int64\n",
       "day_of_week_first_active                                 int64\n",
       "week_of_year_first_active                                int64\n",
       "year_first_booking                                       int64\n",
       "month_first_booking                                      int64\n",
       "day_first_booking                                        int64\n",
       "day_of_week_first_booking                                int64\n",
       "week_of_year_first_booking                               int64\n",
       "year_account_created                                     int64\n",
       "month_account_created                                    int64\n",
       "day_account_created                                      int64\n",
       "day_of_week_account_created                              int64\n",
       "week_of_year_account_created                             int64\n",
       "dtype: object"
      ]
     },
     "execution_count": 24,
     "metadata": {},
     "output_type": "execute_result"
    }
   ],
   "source": [
    "df3.dtypes"
   ]
  },
  {
   "cell_type": "markdown",
   "id": "5558147b",
   "metadata": {
    "ExecuteTime": {
     "end_time": "2023-02-15T00:27:06.003328Z",
     "start_time": "2023-02-15T00:27:05.999398Z"
    }
   },
   "source": [
    "## 3.1. Filtering Rows"
   ]
  },
  {
   "cell_type": "code",
   "execution_count": 25,
   "id": "3bbc7be4",
   "metadata": {
    "ExecuteTime": {
     "end_time": "2023-02-15T01:42:49.415227Z",
     "start_time": "2023-02-15T01:42:49.314655Z"
    }
   },
   "outputs": [],
   "source": [
    "# age - between 15 and 120 years old\n",
    "df3 = df3[(df2['age']>15) & (df3['age']<120)]\n",
    "\n",
    "# secs elapsed - there is no possible 0 secs on website\n",
    "# df_sessions = df_sessions[df_sessions['secs_elapsed']>0]\n"
   ]
  },
  {
   "cell_type": "markdown",
   "id": "54242660",
   "metadata": {
    "ExecuteTime": {
     "end_time": "2023-01-25T23:12:58.072519Z",
     "start_time": "2023-01-25T23:12:54.813859Z"
    }
   },
   "source": [
    "# 4.0. Data Preparation"
   ]
  },
  {
   "cell_type": "code",
   "execution_count": 26,
   "id": "fe853cd4",
   "metadata": {
    "ExecuteTime": {
     "end_time": "2023-02-15T01:42:49.505063Z",
     "start_time": "2023-02-15T01:42:49.418423Z"
    }
   },
   "outputs": [],
   "source": [
    "df4 = df3.copy()"
   ]
  },
  {
   "cell_type": "code",
   "execution_count": 27,
   "id": "eedc101d",
   "metadata": {
    "ExecuteTime": {
     "end_time": "2023-02-15T01:42:49.797965Z",
     "start_time": "2023-02-15T01:42:49.507722Z"
    }
   },
   "outputs": [],
   "source": [
    "# dummy variables\n",
    "df4_dummy = pd.get_dummies(df4.drop(['id', 'country_destination'], axis=1))\n",
    "\n",
    "# join id and country destination\n",
    "df4 = pd.concat([df4[['id', 'country_destination']], df4_dummy], axis=1)"
   ]
  },
  {
   "cell_type": "code",
   "execution_count": 28,
   "id": "b5abc698",
   "metadata": {
    "ExecuteTime": {
     "end_time": "2023-02-15T01:42:49.812033Z",
     "start_time": "2023-02-15T01:42:49.801188Z"
    }
   },
   "outputs": [
    {
     "data": {
      "text/plain": [
       "(122636, 144)"
      ]
     },
     "execution_count": 28,
     "metadata": {},
     "output_type": "execute_result"
    }
   ],
   "source": [
    "df4.shape"
   ]
  },
  {
   "cell_type": "markdown",
   "id": "f0146879",
   "metadata": {
    "ExecuteTime": {
     "end_time": "2023-01-25T23:12:58.072519Z",
     "start_time": "2023-01-25T23:12:54.813859Z"
    }
   },
   "source": [
    "# 5.0. Feature Selection"
   ]
  },
  {
   "cell_type": "code",
   "execution_count": 29,
   "id": "bee04c22",
   "metadata": {
    "ExecuteTime": {
     "end_time": "2023-02-15T01:42:49.907676Z",
     "start_time": "2023-02-15T01:42:49.815339Z"
    }
   },
   "outputs": [],
   "source": [
    "# drop columns\n",
    "cols_drop = ['date_account_created', 'timestamp_first_active', 'date_first_booking', 'first_active']\n",
    "df5 = df4.drop(cols_drop, axis=1)"
   ]
  },
  {
   "cell_type": "code",
   "execution_count": 30,
   "id": "9e632e2e",
   "metadata": {
    "ExecuteTime": {
     "end_time": "2023-02-15T01:42:50.018046Z",
     "start_time": "2023-02-15T01:42:49.910409Z"
    }
   },
   "outputs": [],
   "source": [
    "# split dataset into features and target\n",
    "X = df5.drop('country_destination', axis=1)\n",
    "y = df5['country_destination']"
   ]
  },
  {
   "cell_type": "code",
   "execution_count": 31,
   "id": "bb83c4ee",
   "metadata": {
    "ExecuteTime": {
     "end_time": "2023-02-15T01:42:50.234260Z",
     "start_time": "2023-02-15T01:42:50.022753Z"
    }
   },
   "outputs": [],
   "source": [
    "# split dataset into train and test\n",
    "X_train, X_test, y_train, y_test = ms.train_test_split(X, y, test_size=0.2, random_state=42)"
   ]
  },
  {
   "cell_type": "markdown",
   "id": "0ba8bc77",
   "metadata": {
    "ExecuteTime": {
     "end_time": "2023-01-25T23:12:58.072519Z",
     "start_time": "2023-01-25T23:12:54.813859Z"
    }
   },
   "source": [
    "# 5.0. Machine Learning Model"
   ]
  },
  {
   "cell_type": "code",
   "execution_count": 32,
   "id": "6b869d03",
   "metadata": {
    "ExecuteTime": {
     "end_time": "2023-02-15T01:42:50.263445Z",
     "start_time": "2023-02-15T01:42:50.237640Z"
    }
   },
   "outputs": [],
   "source": [
    "# drop id\n",
    "x_train = X_train.drop('id', axis=1)\n",
    "x_test = X_test.drop('id', axis=1)"
   ]
  },
  {
   "cell_type": "markdown",
   "id": "4332d938",
   "metadata": {},
   "source": [
    "## 5.1. Baseline Model"
   ]
  },
  {
   "cell_type": "code",
   "execution_count": 33,
   "id": "8871fe5a",
   "metadata": {
    "ExecuteTime": {
     "end_time": "2023-02-15T01:42:50.370094Z",
     "start_time": "2023-02-15T01:42:50.267022Z"
    }
   },
   "outputs": [],
   "source": [
    "country_dest_list = df4['country_destination'].drop_duplicates().sort_values().tolist()\n",
    "country_dest_weights = df4['country_destination'].value_counts(normalize=True).sort_index().tolist()\n",
    "k_num = y_test.shape[0]\n",
    "\n",
    "# random model\n",
    "yhat_random = random.choices(population=country_dest_list, \n",
    "                             weights=country_dest_weights,\n",
    "                             k=k_num)"
   ]
  },
  {
   "cell_type": "code",
   "execution_count": 34,
   "id": "19ce4095",
   "metadata": {
    "ExecuteTime": {
     "end_time": "2023-02-15T01:42:52.261831Z",
     "start_time": "2023-02-15T01:42:50.373030Z"
    }
   },
   "outputs": [
    {
     "name": "stdout",
     "output_type": "stream",
     "text": [
      "Accurary: 0.3612\n",
      "Balanced Accurary: 0.0813\n",
      "Kappa Score: 0.0019\n",
      "              precision    recall  f1-score   support\n",
      "\n",
      "          AU       0.00      0.00      0.00        92\n",
      "          CA       0.00      0.00      0.00       208\n",
      "          DE       0.00      0.00      0.00       160\n",
      "          ES       0.01      0.01      0.01       286\n",
      "          FR       0.03      0.02      0.03       767\n",
      "          GB       0.02      0.02      0.02       334\n",
      "          IT       0.01      0.01      0.01       440\n",
      "         NDF       0.45      0.45      0.45     11016\n",
      "          NL       0.01      0.01      0.01       111\n",
      "          PT       0.00      0.00      0.00        29\n",
      "          US       0.39      0.40      0.39      9619\n",
      "       other       0.05      0.06      0.05      1466\n",
      "\n",
      "    accuracy                           0.36     24528\n",
      "   macro avg       0.08      0.08      0.08     24528\n",
      "weighted avg       0.36      0.36      0.36     24528\n",
      "\n"
     ]
    },
    {
     "data": {
      "text/plain": [
       "<AxesSubplot: title={'center': 'Confusion Matrix'}, xlabel='Predicted label', ylabel='True label'>"
      ]
     },
     "execution_count": 34,
     "metadata": {},
     "output_type": "execute_result"
    },
    {
     "data": {
      "image/png": "[encoded data removed]",
      "text/plain": [
       "<Figure size 1200x1200 with 2 Axes>"
      ]
     },
     "metadata": {},
     "output_type": "display_data"
    }
   ],
   "source": [
    "# accuracy\n",
    "acc_random = m.accuracy_score(y_test, yhat_random)\n",
    "print('Accurary: {:.4f}'.format(acc_random))\n",
    "\n",
    "# balanced accuracy\n",
    "balanced_acc_random = m.balanced_accuracy_score(y_test, yhat_random)\n",
    "print('Balanced Accurary: {:.4f}'.format(balanced_acc_random))\n",
    "\n",
    "# kappa score\n",
    "kappa_random = m.cohen_kappa_score(y_test, yhat_random)\n",
    "print('Kappa Score: {:.4f}'.format(kappa_random))\n",
    "\n",
    "# classification report\n",
    "print(m.classification_report(y_test, yhat_random))\n",
    "\n",
    "# confusion matrix\n",
    "mt.plot_confusion_matrix(y_test, yhat_random, normalize=False, figsize=(12, 12))"
   ]
  },
  {
   "cell_type": "markdown",
   "id": "98902ec7",
   "metadata": {},
   "source": [
    "## 5.2. Neural Network - MLP"
   ]
  },
  {
   "cell_type": "code",
   "execution_count": 35,
   "id": "dd70cd1f",
   "metadata": {
    "ExecuteTime": {
     "end_time": "2023-02-15T01:42:52.300107Z",
     "start_time": "2023-02-15T01:42:52.264573Z"
    }
   },
   "outputs": [],
   "source": [
    "# transform y_train in dummy to use in the neural network\n",
    "ohe = pp.OneHotEncoder()\n",
    "y_train_nn = ohe.fit_transform(y_train.values.reshape(-1, 1)).toarray()"
   ]
  },
  {
   "cell_type": "code",
   "execution_count": 36,
   "id": "485c1b7f",
   "metadata": {
    "ExecuteTime": {
     "end_time": "2023-02-15T01:52:42.721444Z",
     "start_time": "2023-02-15T01:42:52.305489Z"
    }
   },
   "outputs": [
    {
     "name": "stderr",
     "output_type": "stream",
     "text": [
      "2023-02-14 22:42:52.409812: W tensorflow/compiler/xla/stream_executor/platform/default/dso_loader.cc:64] Could not load dynamic library 'libcuda.so.1'; dlerror: libcuda.so.1: cannot open shared object file: No such file or directory\n",
      "2023-02-14 22:42:52.409850: W tensorflow/compiler/xla/stream_executor/cuda/cuda_driver.cc:265] failed call to cuInit: UNKNOWN ERROR (303)\n",
      "2023-02-14 22:42:52.409884: I tensorflow/compiler/xla/stream_executor/cuda/cuda_diagnostics.cc:169] retrieving CUDA diagnostic information for host: q550lf\n",
      "2023-02-14 22:42:52.409897: I tensorflow/compiler/xla/stream_executor/cuda/cuda_diagnostics.cc:176] hostname: q550lf\n",
      "2023-02-14 22:42:52.410058: I tensorflow/compiler/xla/stream_executor/cuda/cuda_diagnostics.cc:200] libcuda reported version is: NOT_FOUND: was unable to find libcuda.so DSO loaded into this program\n",
      "2023-02-14 22:42:52.410121: I tensorflow/compiler/xla/stream_executor/cuda/cuda_diagnostics.cc:204] kernel reported version is: 470.161.3\n",
      "2023-02-14 22:42:52.410479: I tensorflow/core/platform/cpu_feature_guard.cc:193] This TensorFlow binary is optimized with oneAPI Deep Neural Network Library (oneDNN) to use the following CPU instructions in performance-critical operations:  AVX2 FMA\n",
      "To enable them in other operations, rebuild TensorFlow with the appropriate compiler flags.\n",
      "2023-02-14 22:42:52.627482: W tensorflow/tsl/framework/cpu_allocator_impl.cc:82] Allocation of 108311232 exceeds 10% of free system memory.\n"
     ]
    },
    {
     "name": "stdout",
     "output_type": "stream",
     "text": [
      "Epoch 1/100\n",
      "3066/3066 [==============================] - 9s 2ms/step - loss: 58.8286 - accuracy: 0.6967\n",
      "Epoch 2/100\n",
      "3066/3066 [==============================] - 7s 2ms/step - loss: 24.5452 - accuracy: 0.7218\n",
      "Epoch 3/100\n",
      "3066/3066 [==============================] - 6s 2ms/step - loss: 9.0444 - accuracy: 0.7277\n",
      "Epoch 4/100\n",
      "3066/3066 [==============================] - 6s 2ms/step - loss: 3.1695 - accuracy: 0.7400\n",
      "Epoch 5/100\n",
      "3066/3066 [==============================] - 6s 2ms/step - loss: 1.3217 - accuracy: 0.7706\n",
      "Epoch 6/100\n",
      "3066/3066 [==============================] - 6s 2ms/step - loss: 0.8243 - accuracy: 0.8059\n",
      "Epoch 7/100\n",
      "3066/3066 [==============================] - 6s 2ms/step - loss: 0.6855 - accuracy: 0.8308\n",
      "Epoch 8/100\n",
      "3066/3066 [==============================] - 6s 2ms/step - loss: 0.6645 - accuracy: 0.8340\n",
      "Epoch 9/100\n",
      "3066/3066 [==============================] - 6s 2ms/step - loss: 0.6619 - accuracy: 0.8349\n",
      "Epoch 10/100\n",
      "3066/3066 [==============================] - 6s 2ms/step - loss: 0.6621 - accuracy: 0.8354\n",
      "Epoch 11/100\n",
      "3066/3066 [==============================] - 6s 2ms/step - loss: 0.6588 - accuracy: 0.8362\n",
      "Epoch 12/100\n",
      "3066/3066 [==============================] - 6s 2ms/step - loss: 0.6564 - accuracy: 0.8362\n",
      "Epoch 13/100\n",
      "3066/3066 [==============================] - 6s 2ms/step - loss: 0.6535 - accuracy: 0.8364\n",
      "Epoch 14/100\n",
      "3066/3066 [==============================] - 6s 2ms/step - loss: 0.6507 - accuracy: 0.8370\n",
      "Epoch 15/100\n",
      "3066/3066 [==============================] - 6s 2ms/step - loss: 0.6499 - accuracy: 0.8370\n",
      "Epoch 16/100\n",
      "3066/3066 [==============================] - 6s 2ms/step - loss: 0.6530 - accuracy: 0.8372\n",
      "Epoch 17/100\n",
      "3066/3066 [==============================] - 6s 2ms/step - loss: 0.6425 - accuracy: 0.8369\n",
      "Epoch 18/100\n",
      "3066/3066 [==============================] - 6s 2ms/step - loss: 0.6436 - accuracy: 0.8368\n",
      "Epoch 19/100\n",
      "3066/3066 [==============================] - 6s 2ms/step - loss: 0.6486 - accuracy: 0.8368\n",
      "Epoch 20/100\n",
      "3066/3066 [==============================] - 6s 2ms/step - loss: 0.6405 - accuracy: 0.8372\n",
      "Epoch 21/100\n",
      "3066/3066 [==============================] - 6s 2ms/step - loss: 0.6403 - accuracy: 0.8373\n",
      "Epoch 22/100\n",
      "3066/3066 [==============================] - 6s 2ms/step - loss: 0.6406 - accuracy: 0.8373\n",
      "Epoch 23/100\n",
      "3066/3066 [==============================] - 6s 2ms/step - loss: 0.6391 - accuracy: 0.8375\n",
      "Epoch 24/100\n",
      "3066/3066 [==============================] - 6s 2ms/step - loss: 0.6404 - accuracy: 0.8373\n",
      "Epoch 25/100\n",
      "3066/3066 [==============================] - 6s 2ms/step - loss: 0.6391 - accuracy: 0.8374\n",
      "Epoch 26/100\n",
      "3066/3066 [==============================] - 6s 2ms/step - loss: 0.6391 - accuracy: 0.8375\n",
      "Epoch 27/100\n",
      "3066/3066 [==============================] - 6s 2ms/step - loss: 0.6400 - accuracy: 0.8373\n",
      "Epoch 28/100\n",
      "3066/3066 [==============================] - 6s 2ms/step - loss: 0.6377 - accuracy: 0.8379\n",
      "Epoch 29/100\n",
      "3066/3066 [==============================] - 6s 2ms/step - loss: 0.6390 - accuracy: 0.8375\n",
      "Epoch 30/100\n",
      "3066/3066 [==============================] - 6s 2ms/step - loss: 0.6378 - accuracy: 0.8379\n",
      "Epoch 31/100\n",
      "3066/3066 [==============================] - 6s 2ms/step - loss: 0.6387 - accuracy: 0.8377\n",
      "Epoch 32/100\n",
      "3066/3066 [==============================] - 6s 2ms/step - loss: 0.6385 - accuracy: 0.8376\n",
      "Epoch 33/100\n",
      "3066/3066 [==============================] - 6s 2ms/step - loss: 0.6385 - accuracy: 0.8378\n",
      "Epoch 34/100\n",
      "3066/3066 [==============================] - 6s 2ms/step - loss: 0.6382 - accuracy: 0.8379\n",
      "Epoch 35/100\n",
      "3066/3066 [==============================] - 6s 2ms/step - loss: 0.6389 - accuracy: 0.8376\n",
      "Epoch 36/100\n",
      "3066/3066 [==============================] - 6s 2ms/step - loss: 0.6381 - accuracy: 0.8377\n",
      "Epoch 37/100\n",
      "3066/3066 [==============================] - 6s 2ms/step - loss: 0.6397 - accuracy: 0.8376\n",
      "Epoch 38/100\n",
      "3066/3066 [==============================] - 6s 2ms/step - loss: 0.6377 - accuracy: 0.8379\n",
      "Epoch 39/100\n",
      "3066/3066 [==============================] - 6s 2ms/step - loss: 0.6384 - accuracy: 0.8378\n",
      "Epoch 40/100\n",
      "3066/3066 [==============================] - 6s 2ms/step - loss: 0.6372 - accuracy: 0.8380\n",
      "Epoch 41/100\n",
      "3066/3066 [==============================] - 6s 2ms/step - loss: 0.6382 - accuracy: 0.8378\n",
      "Epoch 42/100\n",
      "3066/3066 [==============================] - 6s 2ms/step - loss: 0.6379 - accuracy: 0.8378\n",
      "Epoch 43/100\n",
      "3066/3066 [==============================] - 6s 2ms/step - loss: 0.6374 - accuracy: 0.8378\n",
      "Epoch 44/100\n",
      "3066/3066 [==============================] - 6s 2ms/step - loss: 0.6390 - accuracy: 0.8377\n",
      "Epoch 45/100\n",
      "3066/3066 [==============================] - 6s 2ms/step - loss: 0.6377 - accuracy: 0.8379\n",
      "Epoch 46/100\n",
      "3066/3066 [==============================] - 6s 2ms/step - loss: 0.6386 - accuracy: 0.8377\n",
      "Epoch 47/100\n",
      "3066/3066 [==============================] - 6s 2ms/step - loss: 0.6384 - accuracy: 0.8379\n",
      "Epoch 48/100\n",
      "3066/3066 [==============================] - 6s 2ms/step - loss: 0.6373 - accuracy: 0.8380\n",
      "Epoch 49/100\n",
      "3066/3066 [==============================] - 6s 2ms/step - loss: 0.6381 - accuracy: 0.8377\n",
      "Epoch 50/100\n",
      "3066/3066 [==============================] - 6s 2ms/step - loss: 0.6374 - accuracy: 0.8379\n",
      "Epoch 51/100\n",
      "3066/3066 [==============================] - 6s 2ms/step - loss: 0.6376 - accuracy: 0.8379\n",
      "Epoch 52/100\n",
      "3066/3066 [==============================] - 6s 2ms/step - loss: 0.6372 - accuracy: 0.8379\n",
      "Epoch 53/100\n",
      "3066/3066 [==============================] - 6s 2ms/step - loss: 0.6371 - accuracy: 0.8380\n",
      "Epoch 54/100\n",
      "3066/3066 [==============================] - 6s 2ms/step - loss: 0.6397 - accuracy: 0.8376\n",
      "Epoch 55/100\n",
      "3066/3066 [==============================] - 6s 2ms/step - loss: 0.6361 - accuracy: 0.8381\n",
      "Epoch 56/100\n",
      "3066/3066 [==============================] - 6s 2ms/step - loss: 0.6387 - accuracy: 0.8379\n",
      "Epoch 57/100\n",
      "3066/3066 [==============================] - 6s 2ms/step - loss: 0.6372 - accuracy: 0.8380\n",
      "Epoch 58/100\n",
      "3066/3066 [==============================] - 6s 2ms/step - loss: 0.6374 - accuracy: 0.8379\n",
      "Epoch 59/100\n",
      "3066/3066 [==============================] - 6s 2ms/step - loss: 0.6371 - accuracy: 0.8379\n",
      "Epoch 60/100\n",
      "3066/3066 [==============================] - 6s 2ms/step - loss: 0.6369 - accuracy: 0.8380\n",
      "Epoch 61/100\n",
      "3066/3066 [==============================] - 6s 2ms/step - loss: 0.6373 - accuracy: 0.8380\n",
      "Epoch 62/100\n",
      "3066/3066 [==============================] - 6s 2ms/step - loss: 0.6379 - accuracy: 0.8380\n",
      "Epoch 63/100\n",
      "3066/3066 [==============================] - 6s 2ms/step - loss: 0.6367 - accuracy: 0.8381\n",
      "Epoch 64/100\n",
      "3066/3066 [==============================] - 6s 2ms/step - loss: 0.6374 - accuracy: 0.8380\n",
      "Epoch 65/100\n",
      "3066/3066 [==============================] - 6s 2ms/step - loss: 0.6371 - accuracy: 0.8381\n",
      "Epoch 66/100\n",
      "3066/3066 [==============================] - 6s 2ms/step - loss: 0.6372 - accuracy: 0.8380\n",
      "Epoch 67/100\n",
      "3066/3066 [==============================] - 6s 2ms/step - loss: 0.6378 - accuracy: 0.8381\n",
      "Epoch 68/100\n",
      "3066/3066 [==============================] - 6s 2ms/step - loss: 0.6373 - accuracy: 0.8381\n",
      "Epoch 69/100\n",
      "3066/3066 [==============================] - 6s 2ms/step - loss: 0.6373 - accuracy: 0.8379\n",
      "Epoch 70/100\n",
      "3066/3066 [==============================] - 6s 2ms/step - loss: 0.6379 - accuracy: 0.8379\n",
      "Epoch 71/100\n",
      "3066/3066 [==============================] - 6s 2ms/step - loss: 0.6376 - accuracy: 0.8379\n",
      "Epoch 72/100\n",
      "3066/3066 [==============================] - 6s 2ms/step - loss: 0.6369 - accuracy: 0.8380\n",
      "Epoch 73/100\n",
      "3066/3066 [==============================] - 6s 2ms/step - loss: 0.6367 - accuracy: 0.8381\n",
      "Epoch 74/100\n",
      "3066/3066 [==============================] - 6s 2ms/step - loss: 0.6373 - accuracy: 0.8380\n",
      "Epoch 75/100\n",
      "3066/3066 [==============================] - 6s 2ms/step - loss: 0.6366 - accuracy: 0.8381\n",
      "Epoch 76/100\n",
      "3066/3066 [==============================] - 6s 2ms/step - loss: 0.6364 - accuracy: 0.8381\n",
      "Epoch 77/100\n",
      "3066/3066 [==============================] - 6s 2ms/step - loss: 0.6369 - accuracy: 0.8382\n",
      "Epoch 78/100\n",
      "3066/3066 [==============================] - 6s 2ms/step - loss: 0.6373 - accuracy: 0.8381\n",
      "Epoch 79/100\n"
     ]
    },
    {
     "name": "stdout",
     "output_type": "stream",
     "text": [
      "3066/3066 [==============================] - 6s 2ms/step - loss: 0.6371 - accuracy: 0.8381\n",
      "Epoch 80/100\n",
      "3066/3066 [==============================] - 6s 2ms/step - loss: 0.6362 - accuracy: 0.8383\n",
      "Epoch 81/100\n",
      "3066/3066 [==============================] - 6s 2ms/step - loss: 0.6371 - accuracy: 0.8380\n",
      "Epoch 82/100\n",
      "3066/3066 [==============================] - 6s 2ms/step - loss: 0.6377 - accuracy: 0.8380\n",
      "Epoch 83/100\n",
      "3066/3066 [==============================] - 6s 2ms/step - loss: 0.6369 - accuracy: 0.8381\n",
      "Epoch 84/100\n",
      "3066/3066 [==============================] - 6s 2ms/step - loss: 0.6364 - accuracy: 0.8381\n",
      "Epoch 85/100\n",
      "3066/3066 [==============================] - 6s 2ms/step - loss: 0.6367 - accuracy: 0.8382\n",
      "Epoch 86/100\n",
      "3066/3066 [==============================] - 6s 2ms/step - loss: 0.6372 - accuracy: 0.8380\n",
      "Epoch 87/100\n",
      "3066/3066 [==============================] - 6s 2ms/step - loss: 0.6363 - accuracy: 0.8381\n",
      "Epoch 88/100\n",
      "3066/3066 [==============================] - 6s 2ms/step - loss: 0.6375 - accuracy: 0.8381\n",
      "Epoch 89/100\n",
      "3066/3066 [==============================] - 6s 2ms/step - loss: 0.6361 - accuracy: 0.8383\n",
      "Epoch 90/100\n",
      "3066/3066 [==============================] - 6s 2ms/step - loss: 0.6369 - accuracy: 0.8381\n",
      "Epoch 91/100\n",
      "3066/3066 [==============================] - 6s 2ms/step - loss: 0.6367 - accuracy: 0.8381\n",
      "Epoch 92/100\n",
      "3066/3066 [==============================] - 6s 2ms/step - loss: 0.6362 - accuracy: 0.8382\n",
      "Epoch 93/100\n",
      "3066/3066 [==============================] - 6s 2ms/step - loss: 0.6371 - accuracy: 0.8381\n",
      "Epoch 94/100\n",
      "3066/3066 [==============================] - 6s 2ms/step - loss: 0.6364 - accuracy: 0.8382\n",
      "Epoch 95/100\n",
      "3066/3066 [==============================] - 6s 2ms/step - loss: 0.6372 - accuracy: 0.8382\n",
      "Epoch 96/100\n",
      "3066/3066 [==============================] - 6s 2ms/step - loss: 0.6358 - accuracy: 0.8384\n",
      "Epoch 97/100\n",
      "3066/3066 [==============================] - 6s 2ms/step - loss: 0.6373 - accuracy: 0.8380\n",
      "Epoch 98/100\n",
      "3066/3066 [==============================] - 6s 2ms/step - loss: 0.6366 - accuracy: 0.8382\n",
      "Epoch 99/100\n",
      "3066/3066 [==============================] - 6s 2ms/step - loss: 0.6371 - accuracy: 0.8381\n",
      "Epoch 100/100\n",
      "3066/3066 [==============================] - 6s 2ms/step - loss: 0.6370 - accuracy: 0.8381\n"
     ]
    },
    {
     "data": {
      "text/plain": [
       "<keras.callbacks.History at 0x7f50caa363d0>"
      ]
     },
     "execution_count": 36,
     "metadata": {},
     "output_type": "execute_result"
    }
   ],
   "source": [
    "# model definition\n",
    "model = ml.Sequential()\n",
    "model.add(l.Dense(256, input_dim=x_train.shape[1], activation='relu'))\n",
    "model.add(l.Dense(12, activation='softmax'))\n",
    "\n",
    "# model compile\n",
    "model.compile(loss='categorical_crossentropy', optimizer='adam', metrics=['accuracy'])\n",
    "\n",
    "# train model\n",
    "model.fit(x_train, y_train_nn, epochs=100)"
   ]
  },
  {
   "cell_type": "markdown",
   "id": "652b521b",
   "metadata": {
    "ExecuteTime": {
     "end_time": "2023-01-25T23:12:58.072519Z",
     "start_time": "2023-01-25T23:12:54.813859Z"
    }
   },
   "source": [
    "### 5.2.3. NN Performance"
   ]
  },
  {
   "cell_type": "code",
   "execution_count": 37,
   "id": "d199a961",
   "metadata": {
    "ExecuteTime": {
     "end_time": "2023-02-15T01:52:44.311757Z",
     "start_time": "2023-02-15T01:52:42.724117Z"
    }
   },
   "outputs": [
    {
     "name": "stdout",
     "output_type": "stream",
     "text": [
      "767/767 [==============================] - 1s 1ms/step\n"
     ]
    }
   ],
   "source": [
    "# prediction\n",
    "pred_nn = model.predict(x_test)\n",
    "\n",
    "# invert prediction\n",
    "yhat_nn = ohe.inverse_transform(pred_nn)\n",
    "\n",
    "# prediction prepare\n",
    "y_test_nn = y_test.to_numpy()\n",
    "yhat_nn = yhat_nn.reshape(1, -1)[0]"
   ]
  },
  {
   "cell_type": "code",
   "execution_count": 38,
   "id": "960b9754",
   "metadata": {
    "ExecuteTime": {
     "end_time": "2023-02-15T01:52:46.122641Z",
     "start_time": "2023-02-15T01:52:44.315661Z"
    }
   },
   "outputs": [
    {
     "name": "stdout",
     "output_type": "stream",
     "text": [
      "Accurary: 0.8413\n",
      "Balanced Accurary: 0.1667\n",
      "Kappa Score: 0.7274\n"
     ]
    },
    {
     "name": "stderr",
     "output_type": "stream",
     "text": [
      "/home/felipe/repos/ds_em_classificacao/airbnb_env/lib/python3.9/site-packages/sklearn/metrics/_classification.py:1344: UndefinedMetricWarning: Precision and F-score are ill-defined and being set to 0.0 in labels with no predicted samples. Use `zero_division` parameter to control this behavior.\n",
      "  _warn_prf(average, modifier, msg_start, len(result))\n",
      "/home/felipe/repos/ds_em_classificacao/airbnb_env/lib/python3.9/site-packages/sklearn/metrics/_classification.py:1344: UndefinedMetricWarning: Precision and F-score are ill-defined and being set to 0.0 in labels with no predicted samples. Use `zero_division` parameter to control this behavior.\n",
      "  _warn_prf(average, modifier, msg_start, len(result))\n",
      "/home/felipe/repos/ds_em_classificacao/airbnb_env/lib/python3.9/site-packages/sklearn/metrics/_classification.py:1344: UndefinedMetricWarning: Precision and F-score are ill-defined and being set to 0.0 in labels with no predicted samples. Use `zero_division` parameter to control this behavior.\n",
      "  _warn_prf(average, modifier, msg_start, len(result))\n"
     ]
    },
    {
     "name": "stdout",
     "output_type": "stream",
     "text": [
      "              precision    recall  f1-score   support\n",
      "\n",
      "          AU       0.00      0.00      0.00        92\n",
      "          CA       0.00      0.00      0.00       208\n",
      "          DE       0.00      0.00      0.00       160\n",
      "          ES       0.00      0.00      0.00       286\n",
      "          FR       0.00      0.00      0.00       767\n",
      "          GB       0.00      0.00      0.00       334\n",
      "          IT       0.00      0.00      0.00       440\n",
      "         NDF       1.00      1.00      1.00     11016\n",
      "          NL       0.00      0.00      0.00       111\n",
      "          PT       0.00      0.00      0.00        29\n",
      "          US       0.71      1.00      0.83      9619\n",
      "       other       0.00      0.00      0.00      1466\n",
      "\n",
      "    accuracy                           0.84     24528\n",
      "   macro avg       0.14      0.17      0.15     24528\n",
      "weighted avg       0.73      0.84      0.78     24528\n",
      "\n"
     ]
    },
    {
     "data": {
      "text/plain": [
       "<AxesSubplot: title={'center': 'Confusion Matrix'}, xlabel='Predicted label', ylabel='True label'>"
      ]
     },
     "execution_count": 38,
     "metadata": {},
     "output_type": "execute_result"
    },
    {
     "data": {
      "image/png": "[encoded data removed]",
      "text/plain": [
       "<Figure size 1200x1200 with 2 Axes>"
      ]
     },
     "metadata": {},
     "output_type": "display_data"
    }
   ],
   "source": [
    "# accuracy\n",
    "acc_nn = m.accuracy_score(y_test_nn, yhat_nn)\n",
    "print('Accurary: {:.4f}'.format(acc_nn))\n",
    "\n",
    "# balanced accuracy\n",
    "balanced_acc_nn = m.balanced_accuracy_score(y_test_nn, yhat_nn)\n",
    "print('Balanced Accurary: {:.4f}'.format(balanced_acc_nn))\n",
    "\n",
    "# kappa score\n",
    "kappa_nn = m.cohen_kappa_score(y_test_nn, yhat_nn)\n",
    "print('Kappa Score: {:.4f}'.format(kappa_nn))\n",
    "\n",
    "# classification report\n",
    "print(m.classification_report(y_test_nn, yhat_nn))\n",
    "\n",
    "# confusion matrix\n",
    "mt.plot_confusion_matrix(y_test_nn, yhat_nn, normalize=False, figsize=(12, 12))\n"
   ]
  },
  {
   "cell_type": "markdown",
   "id": "2e76d6c4",
   "metadata": {},
   "source": [
    "# 6.0. CROSS VALIDATION"
   ]
  },
  {
   "cell_type": "markdown",
   "id": "b9924c41",
   "metadata": {},
   "source": [
    "## 6.1. NN Cros Validation"
   ]
  },
  {
   "cell_type": "code",
   "execution_count": 39,
   "id": "38a1c2e0",
   "metadata": {
    "ExecuteTime": {
     "end_time": "2023-02-15T01:52:46.132907Z",
     "start_time": "2023-02-15T01:52:46.125927Z"
    }
   },
   "outputs": [],
   "source": [
    "# # generate k-fold\n",
    "# num_fold = 5\n",
    "# kfold = ms.StratifiedKFold(n_splits=num_fold, shuffle=True, random_state=32)\n",
    "\n",
    "# balanced_acc_list = []\n",
    "# kappa_list = []\n",
    "# metrics = []\n",
    "\n",
    "# i = 1\n",
    "\n",
    "# for train_ix, val_ix in kfold.split(x_train, y_train):\n",
    "#     # fold number\n",
    "#     print('Fold Number: {}/{}'.format(i, num_fold))\n",
    "#     # get fold\n",
    "#     x_train_fold = x_train.iloc[train_ix]\n",
    "#     y_train_fold = y_train.iloc[train_ix]\n",
    "    \n",
    "#     x_val_fold = x_train.iloc[val_ix]\n",
    "#     y_val_fold = y_train.iloc[val_ix]\n",
    "\n",
    "#     # target hot-encoding\n",
    "#     ohe = pp.OneHotEncoder()\n",
    "#     y_train_fold_nn = ohe.fit_transform(y_train_fold.values.reshape(-1, 1)).toarray()\n",
    "\n",
    "#     # model definition\n",
    "#     model = ml.Sequential()\n",
    "#     model.add(l.Dense(256, input_dim=x_train.shape[1], activation='relu'))\n",
    "#     model.add(l.Dense(11, activation='softmax'))\n",
    "\n",
    "#     # compile model\n",
    "#     model.compile(loss='categorical_crossentropy', optimizer='adam', metrics=['accuracy'])\n",
    "\n",
    "#     # training model\n",
    "#     model.fit(x_train_fold, y_train_fold_nn, epochs=100, batch_size=32, verbose=0)\n",
    "    \n",
    "#     # prediction\n",
    "#     pred_nn = model.predict(x_val_fold)\n",
    "#     yhat_nn = ohe.inverse_transform(pred_nn)\n",
    "    \n",
    "#     # prepare data\n",
    "#     y_test_nn = y_val_fold.to_numpy()\n",
    "#     yhat_nn = yhat_nn.reshape(1, -1)[0]\n",
    "    \n",
    "#     # metrics\n",
    "#     ## balanced accuracy\n",
    "#     balanced_acc_nn = m.balanced_accuracy_score(y_test_nn, yhat_nn)\n",
    "#     balanced_acc_list.append(balanced_acc_nn)\n",
    "    \n",
    "#     ## Kappa score\n",
    "#     kappa_nn = m.cohen_kappa_score(y_test_nn, yhat_nn)\n",
    "#     kappa_list.append(kappa_nn)\n",
    "    \n",
    "#     metrics.append([i, balanced_acc_nn, kappa_nn])\n",
    "    \n",
    "#     i += 1"
   ]
  },
  {
   "cell_type": "code",
   "execution_count": 40,
   "id": "55d5aa7a",
   "metadata": {
    "ExecuteTime": {
     "end_time": "2023-02-15T01:52:46.307887Z",
     "start_time": "2023-02-15T01:52:46.135503Z"
    }
   },
   "outputs": [],
   "source": [
    "# results_cv = pd.DataFrame(metrics, columns=['kfold', 'balanced_accuracy', 'kappa_score'])\n",
    "# results_cv"
   ]
  },
  {
   "cell_type": "code",
   "execution_count": 41,
   "id": "c48588c9",
   "metadata": {
    "ExecuteTime": {
     "end_time": "2023-02-15T01:52:46.408190Z",
     "start_time": "2023-02-15T01:52:46.321491Z"
    }
   },
   "outputs": [],
   "source": [
    "# print('Avg Balanced Accuracy: {} +/- {}'.format(np.round(np.mean(balanced_acc_list), 4), \n",
    "#                                                 np.round(np.std(balanced_acc_list), 4)))\n",
    "# print('Avg Kappa: {} +/- {}'. format(np.round(np.mean(kappa_list), 4), \n",
    "#                                      np.round(np.std(kappa_list), 4)))"
   ]
  }
 ],
 "metadata": {
  "kernelspec": {
   "display_name": "airbnb_env",
   "language": "python",
   "name": "airbnb_env"
  },
  "language_info": {
   "codemirror_mode": {
    "name": "ipython",
    "version": 3
   },
   "file_extension": ".py",
   "mimetype": "text/x-python",
   "name": "python",
   "nbconvert_exporter": "python",
   "pygments_lexer": "ipython3",
   "version": "3.9.12"
  }
 },
 "nbformat": 4,
 "nbformat_minor": 5
}
